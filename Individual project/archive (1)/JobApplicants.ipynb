{
 "cells": [
  {
   "cell_type": "markdown",
   "id": "ec517345",
   "metadata": {},
   "source": [
    "![Company Logo](logo.png)\n",
    "\n",
    "\n",
    "<div style=\"text-align: center;\">\n",
    "   <h1>Personal Challenge</h1>\n",
    "</div>\n",
    "\n",
    "\n",
    "\n",
    "\n",
    "\n",
    "\n",
    "\n",
    "\n",
    "<div style=\"position: fixed; bottom: 0; left: 0; padding: 10px; background-color: white; border-top: 1px solid #ccc; width: 100%;\">\n",
    "    <ul style=\"list-style-type: none; margin: 0; padding: 0;\">\n",
    "        <li>Name: Soleil Umwiza</li>\n",
    "        <li>Student number:4386019</li>\n",
    "        <li>  Date: 16-June-2024</li>\n",
    "        <li> Location: Eindhoven</li>\n",
    "    </ul>\n",
    "</div>\n",
    "\n",
    "\n",
    "\n",
    "\n"
   ]
  },
  {
   "cell_type": "markdown",
   "id": "cd81cbe8",
   "metadata": {},
   "source": [
    "# Table of Contents\n",
    "\n",
    "1. [Introduction](#introduction)\n",
    "     \n",
    "2. [Proposal](#proposal)\n",
    "    - [Domain Understanding](#domain-understanding)\n",
    "    - [Data Sourcing](#data-sourcing)\n",
    "    - [Analytic Approach](#analytic-approach)\n",
    "3. [Provisioning](#provisioning)\n",
    "    - [Data Requirements](#data-requirements)\n",
    "    - [Data Collection](#data-collection)\n",
    "    - [Data Understanding](#data-understanding)\n",
    "    - [Data Preparation](#data-preparation)\n",
    "5. [Predictions](#predictions)\n",
    "    - [Modelling](#modelling)\n",
    "    - [Preprocessing](#preprocessing)\n",
    "    - [Evaluation](#evaluation)\n",
    "\n",
    "4. [Conclusion](#conclusion)\n",
    "\n",
    "\n",
    "\n"
   ]
  },
  {
   "cell_type": "markdown",
   "id": "11a74f6c",
   "metadata": {},
   "source": [
    "## Introduction <a name=\"introduction\"></a>\n",
    "\n",
    "Large companies like ASML, and Philips have thousands of resumes for each job posting and employ dedicated officers to screen qualified candidates. That is time-consuming and it costs a lot of money. To help these organisations to solve these issues, I want to build a machine learning algorithm to scan or analyse CVs against job requirements with great precision and select the right candidate.\n"
   ]
  },
  {
   "cell_type": "markdown",
   "id": "bd2abd0a",
   "metadata": {},
   "source": [
    "## Proposal <a name=\"proposal\"></a>\n",
    "\n",
    "### 🟡 Domain understanding <a name=\"domain-understanding\"></a>\n",
    "\n",
    "**What**\n",
    "The main goal of this project is to optimise the recruitment process, improve the quality of hires, and ensure a fair and efficient selection of candidates.\n",
    "\n",
    "**Why**\n",
    "\n",
    "Traditional CV screening can be time-consuming using AI for screening CVs will save time and reduce costs associated with manual screening. \n",
    "\n",
    "**Who**\n",
    "\n",
    "Several stakeholders will benefit from the results of implementing AI for CV screening because the system will select the right talent quickly.\n",
    "\n",
    "\n",
    "**When**\n",
    "\n",
    "For this individual project, I am using Jira software as a tool for my planning and progress of increments. I create use stories to work on during a sprint and for each sprint I set its goals.\n",
    "\n",
    "The final piece will be delivered on the 16th of June.\n",
    "\n",
    "\n",
    "**How**\n",
    "\n",
    "For this project, I will need the dataset to train and test my model. Python will be used as a programming language for cleaning, processing, and analyzing the dataset, and Jupyter Notebook will be used as a development environment. \n",
    "\n",
    "\n",
    "\n",
    "\n",
    "\n",
    "\n",
    "\n",
    "\n",
    "\n",
    "\n",
    "\n",
    "\n",
    "\n",
    "\n",
    "\n"
   ]
  },
  {
   "cell_type": "markdown",
   "id": "ac330cfc",
   "metadata": {},
   "source": [
    "## Data requirements \n",
    "\n",
    "To be able to implement my models, some data are required so that the models can be trained, tested and evaluated.\n",
    "  The following data elements will help me to achieve this goal:\n",
    "  \n",
    "  \n",
    "- Age: age of the applicant, >35 years old or <35 years old (categorical)\n",
    "- EdLevel: education level of the applicant (Undergraduate, Master, PhD…) (categorical)\n",
    "- Gender: gender of the applicant, (Man, Woman, or NonBinary) (categorical)\n",
    "- MainBranch: whether the applicant is a profesional developer (categorical)\n",
    "- YearsCode: how long the applicant has been coding (integer)\n",
    "- YearsCodePro: how long the applicant has been coding in a professional context, (integer)\n",
    "- PreviousSalary: the applicant's previous job salary (float)\n",
    "- ComputerSkills: number of computer skills known by the applicant (integer)\n",
    "- Employed: target variable, whether the applicant has been hired (categorical)\n",
    "\n"
   ]
  },
  {
   "cell_type": "markdown",
   "id": "4bc54468",
   "metadata": {},
   "source": [
    "### Data Collection <a name=\"data-collection\"></a>\n",
    "\n",
    "\n",
    "> This data is available publicly on Kaggle website, and can be downloaded freely\n",
    " 70K+ job applicants data (Human Resource). (2023, 10 juli). Kaggle. https://www.kaggle.com/datasets/ayushtankha/70k-job-applicants-data-human-resource"
   ]
  },
  {
   "cell_type": "code",
   "execution_count": 50,
   "id": "264ea4c0",
   "metadata": {},
   "outputs": [
    {
     "name": "stdout",
     "output_type": "stream",
     "text": [
      "scikit-learn version: 0.24.1\n",
      "pandas version: 1.2.4\n",
      "seaborn version: 0.11.1\n",
      "matplotlib version: 3.4.1\n"
     ]
    }
   ],
   "source": [
    "import numpy as np\n",
    "import matplotlib \n",
    "import matplotlib.pyplot as plt\n",
    "import pandas as pd\n",
    "import seaborn as sns\n",
    "\n",
    "#import the ML libs\n",
    "import sklearn\n",
    "import warnings\n",
    "from sklearn.cluster import KMeans\n",
    "from sklearn.metrics import max_error\n",
    "from sklearn.metrics import mean_squared_error, mean_absolute_error\n",
    "from sklearn.linear_model import LinearRegression\n",
    "from sklearn.model_selection import train_test_split\n",
    "\n",
    "from sklearn.ensemble import RandomForestClassifier\n",
    "from sklearn import metrics\n",
    "from sklearn.neighbors import KNeighborsClassifier\n",
    "from sklearn.metrics import classification_report,accuracy_score,confusion_matrix\n",
    "from sklearn.metrics import classification_report\n",
    "from sklearn.model_selection import train_test_split\n",
    "from sklearn.feature_extraction.text import TfidfVectorizer\n",
    "\n",
    "warnings.filterwarnings('ignore')\n",
    "\n",
    "\n",
    "print(\"scikit-learn version:\", sklearn.__version__)    \n",
    "print(\"pandas version:\", pd.__version__)            \n",
    "print(\"seaborn version:\", sns.__version__)  \n",
    "print(\"matplotlib version:\", matplotlib.__version__) "
   ]
  },
  {
   "cell_type": "markdown",
   "id": "1a63de8f",
   "metadata": {},
   "source": [
    "#### Data understanding\n",
    "\n",
    "##### Exploratory Data Analysis"
   ]
  },
  {
   "cell_type": "markdown",
   "id": "f2c92b70",
   "metadata": {},
   "source": [
    " Below I am reading the dataset as a Pandas' dataframe and print its shape(number of rows and columns)"
   ]
  },
  {
   "cell_type": "code",
   "execution_count": 51,
   "id": "4512630c",
   "metadata": {},
   "outputs": [
    {
     "name": "stdout",
     "output_type": "stream",
     "text": [
      "(73462, 14)\n"
     ]
    }
   ],
   "source": [
    "df = pd.read_csv(\"JobPosting.csv\", index_col=0)\n",
    "print(df.shape)"
   ]
  },
  {
   "cell_type": "markdown",
   "id": "e01b111b",
   "metadata": {},
   "source": [
    "Viewing 10 random rows from the dataframe"
   ]
  },
  {
   "cell_type": "code",
   "execution_count": 52,
   "id": "c6272185",
   "metadata": {
    "scrolled": false
   },
   "outputs": [
    {
     "data": {
      "text/html": [
       "<div>\n",
       "<style scoped>\n",
       "    .dataframe tbody tr th:only-of-type {\n",
       "        vertical-align: middle;\n",
       "    }\n",
       "\n",
       "    .dataframe tbody tr th {\n",
       "        vertical-align: top;\n",
       "    }\n",
       "\n",
       "    .dataframe thead th {\n",
       "        text-align: right;\n",
       "    }\n",
       "</style>\n",
       "<table border=\"1\" class=\"dataframe\">\n",
       "  <thead>\n",
       "    <tr style=\"text-align: right;\">\n",
       "      <th></th>\n",
       "      <th>Age</th>\n",
       "      <th>Accessibility</th>\n",
       "      <th>EdLevel</th>\n",
       "      <th>Employment</th>\n",
       "      <th>Gender</th>\n",
       "      <th>MentalHealth</th>\n",
       "      <th>MainBranch</th>\n",
       "      <th>YearsCode</th>\n",
       "      <th>YearsCodePro</th>\n",
       "      <th>Country</th>\n",
       "      <th>PreviousSalary</th>\n",
       "      <th>HaveWorkedWith</th>\n",
       "      <th>ComputerSkills</th>\n",
       "      <th>Employed</th>\n",
       "    </tr>\n",
       "  </thead>\n",
       "  <tbody>\n",
       "    <tr>\n",
       "      <th>34176</th>\n",
       "      <td>&lt;35</td>\n",
       "      <td>No</td>\n",
       "      <td>Master</td>\n",
       "      <td>1</td>\n",
       "      <td>Man</td>\n",
       "      <td>No</td>\n",
       "      <td>Dev</td>\n",
       "      <td>8</td>\n",
       "      <td>3</td>\n",
       "      <td>Australia</td>\n",
       "      <td>76831.0</td>\n",
       "      <td>Julia;Git</td>\n",
       "      <td>2</td>\n",
       "      <td>0</td>\n",
       "    </tr>\n",
       "    <tr>\n",
       "      <th>64134</th>\n",
       "      <td>&lt;35</td>\n",
       "      <td>No</td>\n",
       "      <td>Master</td>\n",
       "      <td>1</td>\n",
       "      <td>Man</td>\n",
       "      <td>No</td>\n",
       "      <td>Dev</td>\n",
       "      <td>7</td>\n",
       "      <td>3</td>\n",
       "      <td>Canada</td>\n",
       "      <td>66372.0</td>\n",
       "      <td>JavaScript;npm;Yarn;React.js</td>\n",
       "      <td>4</td>\n",
       "      <td>0</td>\n",
       "    </tr>\n",
       "    <tr>\n",
       "      <th>46038</th>\n",
       "      <td>&lt;35</td>\n",
       "      <td>No</td>\n",
       "      <td>Undergraduate</td>\n",
       "      <td>1</td>\n",
       "      <td>Man</td>\n",
       "      <td>No</td>\n",
       "      <td>Dev</td>\n",
       "      <td>13</td>\n",
       "      <td>10</td>\n",
       "      <td>Germany</td>\n",
       "      <td>90647.0</td>\n",
       "      <td>Swift;Homebrew</td>\n",
       "      <td>2</td>\n",
       "      <td>0</td>\n",
       "    </tr>\n",
       "    <tr>\n",
       "      <th>6662</th>\n",
       "      <td>&lt;35</td>\n",
       "      <td>No</td>\n",
       "      <td>Undergraduate</td>\n",
       "      <td>1</td>\n",
       "      <td>Man</td>\n",
       "      <td>No</td>\n",
       "      <td>Dev</td>\n",
       "      <td>8</td>\n",
       "      <td>3</td>\n",
       "      <td>Spain</td>\n",
       "      <td>37834.0</td>\n",
       "      <td>C++;Go;Perl;Python;Ansible;Docker;Git;Kubernet...</td>\n",
       "      <td>23</td>\n",
       "      <td>0</td>\n",
       "    </tr>\n",
       "    <tr>\n",
       "      <th>33881</th>\n",
       "      <td>&lt;35</td>\n",
       "      <td>No</td>\n",
       "      <td>NoHigherEd</td>\n",
       "      <td>1</td>\n",
       "      <td>NonBinary</td>\n",
       "      <td>No</td>\n",
       "      <td>Dev</td>\n",
       "      <td>9</td>\n",
       "      <td>6</td>\n",
       "      <td>Germany</td>\n",
       "      <td>36645.0</td>\n",
       "      <td>Bash/Shell;C#;Haskell;HTML/CSS;JavaScript;Node...</td>\n",
       "      <td>18</td>\n",
       "      <td>1</td>\n",
       "    </tr>\n",
       "    <tr>\n",
       "      <th>67075</th>\n",
       "      <td>&lt;35</td>\n",
       "      <td>No</td>\n",
       "      <td>NoHigherEd</td>\n",
       "      <td>1</td>\n",
       "      <td>Man</td>\n",
       "      <td>No</td>\n",
       "      <td>Dev</td>\n",
       "      <td>10</td>\n",
       "      <td>7</td>\n",
       "      <td>United Kingdom of Great Britain and Northern I...</td>\n",
       "      <td>119357.0</td>\n",
       "      <td>Bash/Shell;C#;Elixir;HTML/CSS;JavaScript;Power...</td>\n",
       "      <td>36</td>\n",
       "      <td>1</td>\n",
       "    </tr>\n",
       "    <tr>\n",
       "      <th>22616</th>\n",
       "      <td>&gt;35</td>\n",
       "      <td>No</td>\n",
       "      <td>Master</td>\n",
       "      <td>1</td>\n",
       "      <td>Man</td>\n",
       "      <td>No</td>\n",
       "      <td>Dev</td>\n",
       "      <td>28</td>\n",
       "      <td>22</td>\n",
       "      <td>Denmark</td>\n",
       "      <td>86838.0</td>\n",
       "      <td>Elixir;JavaScript;Ruby;SQL;Ansible;Git;Ruby on...</td>\n",
       "      <td>9</td>\n",
       "      <td>0</td>\n",
       "    </tr>\n",
       "    <tr>\n",
       "      <th>53634</th>\n",
       "      <td>&gt;35</td>\n",
       "      <td>No</td>\n",
       "      <td>Master</td>\n",
       "      <td>0</td>\n",
       "      <td>Man</td>\n",
       "      <td>No</td>\n",
       "      <td>Dev</td>\n",
       "      <td>19</td>\n",
       "      <td>15</td>\n",
       "      <td>Poland</td>\n",
       "      <td>57348.0</td>\n",
       "      <td>HTML/CSS;JavaScript;TypeScript;Docker;npm;Yarn...</td>\n",
       "      <td>10</td>\n",
       "      <td>1</td>\n",
       "    </tr>\n",
       "    <tr>\n",
       "      <th>42925</th>\n",
       "      <td>&gt;35</td>\n",
       "      <td>No</td>\n",
       "      <td>Master</td>\n",
       "      <td>1</td>\n",
       "      <td>Man</td>\n",
       "      <td>No</td>\n",
       "      <td>NotDev</td>\n",
       "      <td>42</td>\n",
       "      <td>37</td>\n",
       "      <td>United States of America</td>\n",
       "      <td>210000.0</td>\n",
       "      <td>Bash/Shell;Python;Ansible;Docker;AWS;VMware;My...</td>\n",
       "      <td>8</td>\n",
       "      <td>0</td>\n",
       "    </tr>\n",
       "    <tr>\n",
       "      <th>71175</th>\n",
       "      <td>&lt;35</td>\n",
       "      <td>No</td>\n",
       "      <td>Undergraduate</td>\n",
       "      <td>1</td>\n",
       "      <td>Man</td>\n",
       "      <td>No</td>\n",
       "      <td>Dev</td>\n",
       "      <td>8</td>\n",
       "      <td>4</td>\n",
       "      <td>Philippines</td>\n",
       "      <td>9187.0</td>\n",
       "      <td>C#;Clojure;HTML/CSS;JavaScript;PHP;SQL;TypeScr...</td>\n",
       "      <td>17</td>\n",
       "      <td>1</td>\n",
       "    </tr>\n",
       "  </tbody>\n",
       "</table>\n",
       "</div>"
      ],
      "text/plain": [
       "       Age Accessibility        EdLevel  Employment     Gender MentalHealth  \\\n",
       "34176  <35            No         Master           1        Man           No   \n",
       "64134  <35            No         Master           1        Man           No   \n",
       "46038  <35            No  Undergraduate           1        Man           No   \n",
       "6662   <35            No  Undergraduate           1        Man           No   \n",
       "33881  <35            No     NoHigherEd           1  NonBinary           No   \n",
       "67075  <35            No     NoHigherEd           1        Man           No   \n",
       "22616  >35            No         Master           1        Man           No   \n",
       "53634  >35            No         Master           0        Man           No   \n",
       "42925  >35            No         Master           1        Man           No   \n",
       "71175  <35            No  Undergraduate           1        Man           No   \n",
       "\n",
       "      MainBranch  YearsCode  YearsCodePro  \\\n",
       "34176        Dev          8             3   \n",
       "64134        Dev          7             3   \n",
       "46038        Dev         13            10   \n",
       "6662         Dev          8             3   \n",
       "33881        Dev          9             6   \n",
       "67075        Dev         10             7   \n",
       "22616        Dev         28            22   \n",
       "53634        Dev         19            15   \n",
       "42925     NotDev         42            37   \n",
       "71175        Dev          8             4   \n",
       "\n",
       "                                                 Country  PreviousSalary  \\\n",
       "34176                                          Australia         76831.0   \n",
       "64134                                             Canada         66372.0   \n",
       "46038                                            Germany         90647.0   \n",
       "6662                                               Spain         37834.0   \n",
       "33881                                            Germany         36645.0   \n",
       "67075  United Kingdom of Great Britain and Northern I...        119357.0   \n",
       "22616                                            Denmark         86838.0   \n",
       "53634                                             Poland         57348.0   \n",
       "42925                           United States of America        210000.0   \n",
       "71175                                        Philippines          9187.0   \n",
       "\n",
       "                                          HaveWorkedWith  ComputerSkills  \\\n",
       "34176                                          Julia;Git               2   \n",
       "64134                       JavaScript;npm;Yarn;React.js               4   \n",
       "46038                                     Swift;Homebrew               2   \n",
       "6662   C++;Go;Perl;Python;Ansible;Docker;Git;Kubernet...              23   \n",
       "33881  Bash/Shell;C#;Haskell;HTML/CSS;JavaScript;Node...              18   \n",
       "67075  Bash/Shell;C#;Elixir;HTML/CSS;JavaScript;Power...              36   \n",
       "22616  Elixir;JavaScript;Ruby;SQL;Ansible;Git;Ruby on...               9   \n",
       "53634  HTML/CSS;JavaScript;TypeScript;Docker;npm;Yarn...              10   \n",
       "42925  Bash/Shell;Python;Ansible;Docker;AWS;VMware;My...               8   \n",
       "71175  C#;Clojure;HTML/CSS;JavaScript;PHP;SQL;TypeScr...              17   \n",
       "\n",
       "       Employed  \n",
       "34176         0  \n",
       "64134         0  \n",
       "46038         0  \n",
       "6662          0  \n",
       "33881         1  \n",
       "67075         1  \n",
       "22616         0  \n",
       "53634         1  \n",
       "42925         0  \n",
       "71175         1  "
      ]
     },
     "execution_count": 52,
     "metadata": {},
     "output_type": "execute_result"
    }
   ],
   "source": [
    "df.sample(10)"
   ]
  },
  {
   "cell_type": "markdown",
   "id": "4c6c1699",
   "metadata": {},
   "source": [
    "Here I am globally looking at the data. I did that by printing the data info."
   ]
  },
  {
   "cell_type": "code",
   "execution_count": 53,
   "id": "60c19f33",
   "metadata": {},
   "outputs": [
    {
     "name": "stdout",
     "output_type": "stream",
     "text": [
      "<class 'pandas.core.frame.DataFrame'>\n",
      "Int64Index: 73462 entries, 0 to 73461\n",
      "Data columns (total 14 columns):\n",
      " #   Column          Non-Null Count  Dtype  \n",
      "---  ------          --------------  -----  \n",
      " 0   Age             73462 non-null  object \n",
      " 1   Accessibility   73462 non-null  object \n",
      " 2   EdLevel         73462 non-null  object \n",
      " 3   Employment      73462 non-null  int64  \n",
      " 4   Gender          73462 non-null  object \n",
      " 5   MentalHealth    73462 non-null  object \n",
      " 6   MainBranch      73462 non-null  object \n",
      " 7   YearsCode       73462 non-null  int64  \n",
      " 8   YearsCodePro    73462 non-null  int64  \n",
      " 9   Country         73462 non-null  object \n",
      " 10  PreviousSalary  73462 non-null  float64\n",
      " 11  HaveWorkedWith  73399 non-null  object \n",
      " 12  ComputerSkills  73462 non-null  int64  \n",
      " 13  Employed        73462 non-null  int64  \n",
      "dtypes: float64(1), int64(5), object(8)\n",
      "memory usage: 8.4+ MB\n"
     ]
    }
   ],
   "source": [
    "df.info()"
   ]
  },
  {
   "cell_type": "markdown",
   "id": "2d1e5d8e",
   "metadata": {},
   "source": [
    "From the result above We can see that non-null for the column `HaveWorkedWith` are less than rest of the columns.\n",
    "Below we are looking at the number of rows where the column has null values."
   ]
  },
  {
   "cell_type": "code",
   "execution_count": 54,
   "id": "bfffb9f5",
   "metadata": {},
   "outputs": [
    {
     "data": {
      "text/plain": [
       "Age                0\n",
       "Accessibility      0\n",
       "EdLevel            0\n",
       "Employment         0\n",
       "Gender             0\n",
       "MentalHealth       0\n",
       "MainBranch         0\n",
       "YearsCode          0\n",
       "YearsCodePro       0\n",
       "Country            0\n",
       "PreviousSalary     0\n",
       "HaveWorkedWith    63\n",
       "ComputerSkills     0\n",
       "Employed           0\n",
       "dtype: int64"
      ]
     },
     "execution_count": 54,
     "metadata": {},
     "output_type": "execute_result"
    }
   ],
   "source": [
    "df.isnull().sum()"
   ]
  },
  {
   "cell_type": "markdown",
   "id": "68f7bb3a",
   "metadata": {},
   "source": [
    "Checking the number of occurrences of each educational level"
   ]
  },
  {
   "cell_type": "code",
   "execution_count": 55,
   "id": "3e0126e7",
   "metadata": {},
   "outputs": [
    {
     "data": {
      "image/png": "[encoded data removed]",
      "text/plain": [
       "<Figure size 720x432 with 1 Axes>"
      ]
     },
     "metadata": {
      "needs_background": "light"
     },
     "output_type": "display_data"
    }
   ],
   "source": [
    "\n",
    "education_counts = df['EdLevel'].value_counts()\n",
    "\n",
    "# Plot the data\n",
    "plt.figure(figsize=(10, 6))\n",
    "sns.barplot(x=education_counts.index, y=education_counts.values, palette='viridis')\n",
    "plt.title('Distribution of Educational Levels among Applicants')\n",
    "plt.xlabel('Educational Level')\n",
    "plt.ylabel('Number of Applicants')\n",
    "plt.xticks(rotation=45)\n",
    "plt.show()"
   ]
  },
  {
   "cell_type": "markdown",
   "id": "fdb009f6",
   "metadata": {},
   "source": [
    "The barplot illustate that the majority of applicants have not yet graduated. "
   ]
  },
  {
   "cell_type": "code",
   "execution_count": 56,
   "id": "86659697",
   "metadata": {},
   "outputs": [
    {
     "data": {
      "image/png": "[encoded data removed]",
      "text/plain": [
       "<Figure size 576x576 with 1 Axes>"
      ]
     },
     "metadata": {},
     "output_type": "display_data"
    }
   ],
   "source": [
    "# Count occurrences of each gender\n",
    "gender_counts = df['Gender'].value_counts()\n",
    "\n",
    "# Create pie chart\n",
    "plt.figure(figsize=(8, 8))\n",
    "plt.pie(gender_counts, labels=gender_counts.index, autopct='%1.1f%%', startangle=140, colors=['green', 'orange'])\n",
    "plt.title('Gender Distribution of Applicants')\n",
    "plt.axis('equal')  # Equal aspect ratio ensures that pie is drawn as a circle.\n",
    "plt.legend(gender_counts.index, title=\"Gender\", loc=\"center left\", bbox_to_anchor=(1, 0, 0.5, 1))\n",
    "plt.show()"
   ]
  },
  {
   "cell_type": "markdown",
   "id": "56f15124",
   "metadata": {},
   "source": [
    " Above we see that a significantly larger portion of the pie chart represents male applicants compared to female applicants, we can conclude that more men had applied for the job compared to women."
   ]
  },
  {
   "cell_type": "code",
   "execution_count": 57,
   "id": "fa7967c7",
   "metadata": {},
   "outputs": [
    {
     "data": {
      "image/png": "[encoded data removed]",
      "text/plain": [
       "<Figure size 720x432 with 1 Axes>"
      ]
     },
     "metadata": {
      "needs_background": "light"
     },
     "output_type": "display_data"
    }
   ],
   "source": [
    "# Create histogram\n",
    "plt.figure(figsize=(10, 6))\n",
    "plt.hist(df['YearsCodePro'], bins=10, edgecolor='black', color='blue')\n",
    "plt.title('Distribution of Applicants\\' Professional Coding Experience')\n",
    "plt.xlabel('Years of Experience')\n",
    "plt.ylabel('Number of Applicants')\n",
    "plt.grid(axis='y', alpha=0.75)\n",
    "plt.show()"
   ]
  },
  {
   "cell_type": "code",
   "execution_count": 58,
   "id": "dcbd0d59",
   "metadata": {},
   "outputs": [
    {
     "name": "stdout",
     "output_type": "stream",
     "text": [
      "Python            71\n",
      "                  63\n",
      "Python;Git        54\n",
      "C++;Python        49\n",
      "C++               41\n",
      "C++;Python;Git    36\n",
      "Swift;Git         33\n",
      "C++;Git           33\n",
      "Delphi            32\n",
      "R                 31\n",
      "Name: HaveWorkedWith, dtype: int64\n"
     ]
    },
    {
     "data": {
      "image/png": "[encoded data removed]",
      "text/plain": [
       "<Figure size 864x576 with 1 Axes>"
      ]
     },
     "metadata": {
      "needs_background": "light"
     },
     "output_type": "display_data"
    }
   ],
   "source": [
    "# For visualization, we'll need to split the 'HaveWorkedWith' entries and count them\n",
    "# HaveWorkedWith' column has comma-separated values\n",
    "df['HaveWorkedWith'] = df['HaveWorkedWith'].fillna('')  # Replace NaN with empty string\n",
    "technologies = df['HaveWorkedWith'].str.split(',').explode().str.strip().value_counts()\n",
    "\n",
    "# Display the top 10 most common technologies\n",
    "print(technologies.head(10))\n",
    "\n",
    "# Plot the top 10 technologies\n",
    "plt.figure(figsize=(12, 8))\n",
    "sns.barplot(x=technologies.head(10).values, y=technologies.head(10).index, palette='Set2')\n",
    "plt.title('Top 10 Technologies Applicants Have Worked With')\n",
    "plt.xlabel('Count')\n",
    "plt.ylabel('Technology')\n",
    "plt.show()"
   ]
  },
  {
   "cell_type": "markdown",
   "id": "0eca32e2",
   "metadata": {},
   "source": [
    "Checking duplicate rows in the dataset"
   ]
  },
  {
   "cell_type": "code",
   "execution_count": 9,
   "id": "14d3611b",
   "metadata": {},
   "outputs": [
    {
     "data": {
      "text/html": [
       "<div>\n",
       "<style scoped>\n",
       "    .dataframe tbody tr th:only-of-type {\n",
       "        vertical-align: middle;\n",
       "    }\n",
       "\n",
       "    .dataframe tbody tr th {\n",
       "        vertical-align: top;\n",
       "    }\n",
       "\n",
       "    .dataframe thead th {\n",
       "        text-align: right;\n",
       "    }\n",
       "</style>\n",
       "<table border=\"1\" class=\"dataframe\">\n",
       "  <thead>\n",
       "    <tr style=\"text-align: right;\">\n",
       "      <th></th>\n",
       "      <th>Age</th>\n",
       "      <th>Accessibility</th>\n",
       "      <th>EdLevel</th>\n",
       "      <th>Employment</th>\n",
       "      <th>Gender</th>\n",
       "      <th>MentalHealth</th>\n",
       "      <th>MainBranch</th>\n",
       "      <th>YearsCode</th>\n",
       "      <th>YearsCodePro</th>\n",
       "      <th>Country</th>\n",
       "      <th>PreviousSalary</th>\n",
       "      <th>HaveWorkedWith</th>\n",
       "      <th>ComputerSkills</th>\n",
       "      <th>Employed</th>\n",
       "    </tr>\n",
       "  </thead>\n",
       "  <tbody>\n",
       "    <tr>\n",
       "      <th>3134</th>\n",
       "      <td>&gt;35</td>\n",
       "      <td>No</td>\n",
       "      <td>Undergraduate</td>\n",
       "      <td>1</td>\n",
       "      <td>Man</td>\n",
       "      <td>No</td>\n",
       "      <td>Dev</td>\n",
       "      <td>39</td>\n",
       "      <td>27</td>\n",
       "      <td>Croatia</td>\n",
       "      <td>26124.0</td>\n",
       "      <td>SQL;Oracle</td>\n",
       "      <td>2</td>\n",
       "      <td>0</td>\n",
       "    </tr>\n",
       "    <tr>\n",
       "      <th>6652</th>\n",
       "      <td>&gt;35</td>\n",
       "      <td>No</td>\n",
       "      <td>Master</td>\n",
       "      <td>0</td>\n",
       "      <td>Man</td>\n",
       "      <td>No</td>\n",
       "      <td>Dev</td>\n",
       "      <td>25</td>\n",
       "      <td>15</td>\n",
       "      <td>Italy</td>\n",
       "      <td>129718.0</td>\n",
       "      <td>Go;Java;JavaScript;Kotlin;Node.js;Rust;TypeScr...</td>\n",
       "      <td>16</td>\n",
       "      <td>1</td>\n",
       "    </tr>\n",
       "    <tr>\n",
       "      <th>6664</th>\n",
       "      <td>&gt;35</td>\n",
       "      <td>No</td>\n",
       "      <td>Master</td>\n",
       "      <td>0</td>\n",
       "      <td>Man</td>\n",
       "      <td>No</td>\n",
       "      <td>Dev</td>\n",
       "      <td>25</td>\n",
       "      <td>15</td>\n",
       "      <td>Italy</td>\n",
       "      <td>129718.0</td>\n",
       "      <td>Go;Java;JavaScript;Kotlin;Node.js;Rust;TypeScr...</td>\n",
       "      <td>16</td>\n",
       "      <td>1</td>\n",
       "    </tr>\n",
       "    <tr>\n",
       "      <th>7280</th>\n",
       "      <td>&lt;35</td>\n",
       "      <td>No</td>\n",
       "      <td>Undergraduate</td>\n",
       "      <td>1</td>\n",
       "      <td>Man</td>\n",
       "      <td>No</td>\n",
       "      <td>Dev</td>\n",
       "      <td>4</td>\n",
       "      <td>0</td>\n",
       "      <td>India</td>\n",
       "      <td>2653.0</td>\n",
       "      <td>Java;Python;Docker;Git;Kubernetes;Flask;Spring...</td>\n",
       "      <td>10</td>\n",
       "      <td>0</td>\n",
       "    </tr>\n",
       "    <tr>\n",
       "      <th>7329</th>\n",
       "      <td>&lt;35</td>\n",
       "      <td>No</td>\n",
       "      <td>Undergraduate</td>\n",
       "      <td>1</td>\n",
       "      <td>Man</td>\n",
       "      <td>No</td>\n",
       "      <td>Dev</td>\n",
       "      <td>4</td>\n",
       "      <td>0</td>\n",
       "      <td>India</td>\n",
       "      <td>2653.0</td>\n",
       "      <td>Java;Python;Docker;Git;Kubernetes;Flask;Spring...</td>\n",
       "      <td>10</td>\n",
       "      <td>0</td>\n",
       "    </tr>\n",
       "    <tr>\n",
       "      <th>7783</th>\n",
       "      <td>&gt;35</td>\n",
       "      <td>No</td>\n",
       "      <td>Undergraduate</td>\n",
       "      <td>1</td>\n",
       "      <td>Man</td>\n",
       "      <td>No</td>\n",
       "      <td>Dev</td>\n",
       "      <td>39</td>\n",
       "      <td>27</td>\n",
       "      <td>Croatia</td>\n",
       "      <td>26124.0</td>\n",
       "      <td>SQL;Oracle</td>\n",
       "      <td>2</td>\n",
       "      <td>0</td>\n",
       "    </tr>\n",
       "    <tr>\n",
       "      <th>45964</th>\n",
       "      <td>&lt;35</td>\n",
       "      <td>No</td>\n",
       "      <td>Undergraduate</td>\n",
       "      <td>1</td>\n",
       "      <td>Man</td>\n",
       "      <td>No</td>\n",
       "      <td>Dev</td>\n",
       "      <td>17</td>\n",
       "      <td>10</td>\n",
       "      <td>Finland</td>\n",
       "      <td>44796.0</td>\n",
       "      <td>C#;Java;Python;Ansible;Docker;Unity 3D;Microso...</td>\n",
       "      <td>10</td>\n",
       "      <td>1</td>\n",
       "    </tr>\n",
       "    <tr>\n",
       "      <th>46025</th>\n",
       "      <td>&lt;35</td>\n",
       "      <td>No</td>\n",
       "      <td>Undergraduate</td>\n",
       "      <td>1</td>\n",
       "      <td>Man</td>\n",
       "      <td>No</td>\n",
       "      <td>Dev</td>\n",
       "      <td>17</td>\n",
       "      <td>10</td>\n",
       "      <td>Finland</td>\n",
       "      <td>44796.0</td>\n",
       "      <td>C#;Java;Python;Ansible;Docker;Unity 3D;Microso...</td>\n",
       "      <td>10</td>\n",
       "      <td>1</td>\n",
       "    </tr>\n",
       "  </tbody>\n",
       "</table>\n",
       "</div>"
      ],
      "text/plain": [
       "       Age Accessibility        EdLevel  Employment Gender MentalHealth  \\\n",
       "3134   >35            No  Undergraduate           1    Man           No   \n",
       "6652   >35            No         Master           0    Man           No   \n",
       "6664   >35            No         Master           0    Man           No   \n",
       "7280   <35            No  Undergraduate           1    Man           No   \n",
       "7329   <35            No  Undergraduate           1    Man           No   \n",
       "7783   >35            No  Undergraduate           1    Man           No   \n",
       "45964  <35            No  Undergraduate           1    Man           No   \n",
       "46025  <35            No  Undergraduate           1    Man           No   \n",
       "\n",
       "      MainBranch  YearsCode  YearsCodePro  Country  PreviousSalary  \\\n",
       "3134         Dev         39            27  Croatia         26124.0   \n",
       "6652         Dev         25            15    Italy        129718.0   \n",
       "6664         Dev         25            15    Italy        129718.0   \n",
       "7280         Dev          4             0    India          2653.0   \n",
       "7329         Dev          4             0    India          2653.0   \n",
       "7783         Dev         39            27  Croatia         26124.0   \n",
       "45964        Dev         17            10  Finland         44796.0   \n",
       "46025        Dev         17            10  Finland         44796.0   \n",
       "\n",
       "                                          HaveWorkedWith  ComputerSkills  \\\n",
       "3134                                          SQL;Oracle               2   \n",
       "6652   Go;Java;JavaScript;Kotlin;Node.js;Rust;TypeScr...              16   \n",
       "6664   Go;Java;JavaScript;Kotlin;Node.js;Rust;TypeScr...              16   \n",
       "7280   Java;Python;Docker;Git;Kubernetes;Flask;Spring...              10   \n",
       "7329   Java;Python;Docker;Git;Kubernetes;Flask;Spring...              10   \n",
       "7783                                          SQL;Oracle               2   \n",
       "45964  C#;Java;Python;Ansible;Docker;Unity 3D;Microso...              10   \n",
       "46025  C#;Java;Python;Ansible;Docker;Unity 3D;Microso...              10   \n",
       "\n",
       "       Employed  \n",
       "3134          0  \n",
       "6652          1  \n",
       "6664          1  \n",
       "7280          0  \n",
       "7329          0  \n",
       "7783          0  \n",
       "45964         1  \n",
       "46025         1  "
      ]
     },
     "execution_count": 9,
     "metadata": {},
     "output_type": "execute_result"
    }
   ],
   "source": [
    "df[df.duplicated(keep=False)]"
   ]
  },
  {
   "cell_type": "markdown",
   "id": "0ba558bf",
   "metadata": {},
   "source": [
    "### Predictions <a name=\"predictions\"></a>"
   ]
  },
  {
   "cell_type": "markdown",
   "id": "edb696eb",
   "metadata": {},
   "source": [
    "## ⚙️ Preprocessing"
   ]
  },
  {
   "cell_type": "markdown",
   "id": "ec75a7ff",
   "metadata": {},
   "source": [
    "The step of preprocessing contains several activities to consider before we can start training the algorithm and produce a model that can predict our target variable."
   ]
  },
  {
   "cell_type": "markdown",
   "id": "bd4bb9d0",
   "metadata": {},
   "source": [
    "Droping rows with null values together with duplicated rows"
   ]
  },
  {
   "cell_type": "code",
   "execution_count": 60,
   "id": "f59254c1",
   "metadata": {},
   "outputs": [],
   "source": [
    "df.dropna(inplace=True)"
   ]
  },
  {
   "cell_type": "code",
   "execution_count": 61,
   "id": "11f054a8",
   "metadata": {},
   "outputs": [],
   "source": [
    "df=df.drop_duplicates(keep='first', ignore_index=True)"
   ]
  },
  {
   "cell_type": "code",
   "execution_count": 62,
   "id": "9cbf3718",
   "metadata": {},
   "outputs": [
    {
     "data": {
      "text/plain": [
       "(73458, 14)"
      ]
     },
     "execution_count": 62,
     "metadata": {},
     "output_type": "execute_result"
    }
   ],
   "source": [
    "df.shape"
   ]
  },
  {
   "cell_type": "markdown",
   "id": "aa5bdd3f",
   "metadata": {},
   "source": [
    " # 🧬 Modelling\n",
    " \n",
    "In this step only the train set is used to fit the model, which in this case uses KNeighborsClassifier algorithm for classification from Scikit-learn. https://scikit-learn.org/stable/modules/neighbors.html#nearest-neighbors-classification And after that the test set is used to calculate the model's accuracy, in other words how well it performs. Accuracy is a fraction where any value closer to 1 is considered better, and 1 itself (100% accurate) is usually impossible."
   ]
  },
  {
   "cell_type": "markdown",
   "id": "6e767330",
   "metadata": {},
   "source": [
    "Assigning feature and target to variables"
   ]
  },
  {
   "cell_type": "code",
   "execution_count": 63,
   "id": "ecdcc73f",
   "metadata": {},
   "outputs": [],
   "source": [
    "X = df.drop(['Employed'],axis=1)\n",
    "y = df['Employed']"
   ]
  },
  {
   "cell_type": "markdown",
   "id": "da56f479",
   "metadata": {},
   "source": [
    "#### Using TF-IDF as a text tokenizer and vectorizer\n",
    "\n",
    "The goal of using tf-idf is that it not only focuses on the frequency of words present in a text, but also provides the weight of the words. Sklearn.feature_extraction.text.TfidFVectorizer. (n.d.). Scikit-learn. https://scikit-learn.org/stable/modules/generated/sklearn.feature_extraction.text.TfidfVectorizer.html#sklearn.feature_extraction.t"
   ]
  },
  {
   "cell_type": "code",
   "execution_count": 64,
   "id": "e3ff7ecb",
   "metadata": {},
   "outputs": [
    {
     "data": {
      "text/plain": [
       "(73458, 100)"
      ]
     },
     "execution_count": 64,
     "metadata": {},
     "output_type": "execute_result"
    }
   ],
   "source": [
    "tfidf_vectorizer = TfidfVectorizer(min_df=.01, use_idf =True, stop_words = 'english')\n",
    "tf_X_vectorized = tfidf_vectorizer.fit_transform(df['HaveWorkedWith']).toarray()\n",
    "tf_X_vectorized.shape"
   ]
  },
  {
   "cell_type": "code",
   "execution_count": 66,
   "id": "b54d5a22",
   "metadata": {},
   "outputs": [
    {
     "data": {
      "text/plain": [
       "(73458, 100)"
      ]
     },
     "execution_count": 66,
     "metadata": {},
     "output_type": "execute_result"
    }
   ],
   "source": [
    "tfidf_vectorizer = TfidfVectorizer(min_df=.01, use_idf =True, stop_words = 'english')\n",
    "tf_X_vectorized = tfidf_vectorizer.fit_transform(df['HaveWorkedWith'], ['Gender']).toarray()\n",
    "tf_X_vectorized.shape"
   ]
  },
  {
   "cell_type": "markdown",
   "id": "bdf215e3",
   "metadata": {},
   "source": [
    "Make a dataframe of the vectorized data and view the result"
   ]
  },
  {
   "cell_type": "code",
   "execution_count": 15,
   "id": "01d4e264",
   "metadata": {},
   "outputs": [
    {
     "data": {
      "text/html": [
       "<div>\n",
       "<style scoped>\n",
       "    .dataframe tbody tr th:only-of-type {\n",
       "        vertical-align: middle;\n",
       "    }\n",
       "\n",
       "    .dataframe tbody tr th {\n",
       "        vertical-align: top;\n",
       "    }\n",
       "\n",
       "    .dataframe thead th {\n",
       "        text-align: right;\n",
       "    }\n",
       "</style>\n",
       "<table border=\"1\" class=\"dataframe\">\n",
       "  <thead>\n",
       "    <tr style=\"text-align: right;\">\n",
       "      <th></th>\n",
       "      <th>0</th>\n",
       "      <th>1</th>\n",
       "      <th>2</th>\n",
       "      <th>3</th>\n",
       "      <th>4</th>\n",
       "      <th>5</th>\n",
       "      <th>6</th>\n",
       "      <th>7</th>\n",
       "      <th>8</th>\n",
       "      <th>9</th>\n",
       "      <th>...</th>\n",
       "      <th>91</th>\n",
       "      <th>92</th>\n",
       "      <th>93</th>\n",
       "      <th>94</th>\n",
       "      <th>95</th>\n",
       "      <th>96</th>\n",
       "      <th>97</th>\n",
       "      <th>98</th>\n",
       "      <th>99</th>\n",
       "      <th>HaveWorkedWith</th>\n",
       "    </tr>\n",
       "  </thead>\n",
       "  <tbody>\n",
       "    <tr>\n",
       "      <th>6681</th>\n",
       "      <td>0.00000</td>\n",
       "      <td>0.00000</td>\n",
       "      <td>0.0</td>\n",
       "      <td>0.000000</td>\n",
       "      <td>0.0</td>\n",
       "      <td>0.0</td>\n",
       "      <td>0.000000</td>\n",
       "      <td>0.000000</td>\n",
       "      <td>0.000000</td>\n",
       "      <td>0.0</td>\n",
       "      <td>...</td>\n",
       "      <td>0.000000</td>\n",
       "      <td>0.00000</td>\n",
       "      <td>0.0</td>\n",
       "      <td>0.0</td>\n",
       "      <td>0.0</td>\n",
       "      <td>0.000000</td>\n",
       "      <td>0.0</td>\n",
       "      <td>0.0</td>\n",
       "      <td>0.0</td>\n",
       "      <td>Delphi;HTML/CSS;Java;Python;SQL;Flask;jQuery;H...</td>\n",
       "    </tr>\n",
       "    <tr>\n",
       "      <th>28645</th>\n",
       "      <td>0.00000</td>\n",
       "      <td>0.00000</td>\n",
       "      <td>0.0</td>\n",
       "      <td>0.000000</td>\n",
       "      <td>0.0</td>\n",
       "      <td>0.0</td>\n",
       "      <td>0.320215</td>\n",
       "      <td>0.000000</td>\n",
       "      <td>0.000000</td>\n",
       "      <td>0.0</td>\n",
       "      <td>...</td>\n",
       "      <td>0.000000</td>\n",
       "      <td>0.00000</td>\n",
       "      <td>0.0</td>\n",
       "      <td>0.0</td>\n",
       "      <td>0.0</td>\n",
       "      <td>0.000000</td>\n",
       "      <td>0.0</td>\n",
       "      <td>0.0</td>\n",
       "      <td>0.0</td>\n",
       "      <td>C#;JavaScript;PowerShell;Python;SQL;Docker;Git...</td>\n",
       "    </tr>\n",
       "    <tr>\n",
       "      <th>3598</th>\n",
       "      <td>0.00000</td>\n",
       "      <td>0.00000</td>\n",
       "      <td>0.0</td>\n",
       "      <td>0.000000</td>\n",
       "      <td>0.0</td>\n",
       "      <td>0.0</td>\n",
       "      <td>0.000000</td>\n",
       "      <td>0.302961</td>\n",
       "      <td>0.000000</td>\n",
       "      <td>0.0</td>\n",
       "      <td>...</td>\n",
       "      <td>0.271742</td>\n",
       "      <td>0.00000</td>\n",
       "      <td>0.0</td>\n",
       "      <td>0.0</td>\n",
       "      <td>0.0</td>\n",
       "      <td>0.388429</td>\n",
       "      <td>0.0</td>\n",
       "      <td>0.0</td>\n",
       "      <td>0.0</td>\n",
       "      <td>Bash/Shell;HTML/CSS;JavaScript;PHP;SQL;TypeScr...</td>\n",
       "    </tr>\n",
       "    <tr>\n",
       "      <th>68415</th>\n",
       "      <td>0.00000</td>\n",
       "      <td>0.37952</td>\n",
       "      <td>0.0</td>\n",
       "      <td>0.396518</td>\n",
       "      <td>0.0</td>\n",
       "      <td>0.0</td>\n",
       "      <td>0.185359</td>\n",
       "      <td>0.000000</td>\n",
       "      <td>0.000000</td>\n",
       "      <td>0.0</td>\n",
       "      <td>...</td>\n",
       "      <td>0.152475</td>\n",
       "      <td>0.00000</td>\n",
       "      <td>0.0</td>\n",
       "      <td>0.0</td>\n",
       "      <td>0.0</td>\n",
       "      <td>0.000000</td>\n",
       "      <td>0.0</td>\n",
       "      <td>0.0</td>\n",
       "      <td>0.0</td>\n",
       "      <td>C#;HTML/CSS;JavaScript;PowerShell;SQL;TypeScri...</td>\n",
       "    </tr>\n",
       "    <tr>\n",
       "      <th>49953</th>\n",
       "      <td>0.32144</td>\n",
       "      <td>0.00000</td>\n",
       "      <td>0.0</td>\n",
       "      <td>0.000000</td>\n",
       "      <td>0.0</td>\n",
       "      <td>0.0</td>\n",
       "      <td>0.201289</td>\n",
       "      <td>0.000000</td>\n",
       "      <td>0.421604</td>\n",
       "      <td>0.0</td>\n",
       "      <td>...</td>\n",
       "      <td>0.165579</td>\n",
       "      <td>0.32144</td>\n",
       "      <td>0.0</td>\n",
       "      <td>0.0</td>\n",
       "      <td>0.0</td>\n",
       "      <td>0.000000</td>\n",
       "      <td>0.0</td>\n",
       "      <td>0.0</td>\n",
       "      <td>0.0</td>\n",
       "      <td>C#;HTML/CSS;JavaScript;Python;SQL;TypeScript;n...</td>\n",
       "    </tr>\n",
       "  </tbody>\n",
       "</table>\n",
       "<p>5 rows × 101 columns</p>\n",
       "</div>"
      ],
      "text/plain": [
       "             0        1    2         3    4    5         6         7  \\\n",
       "6681   0.00000  0.00000  0.0  0.000000  0.0  0.0  0.000000  0.000000   \n",
       "28645  0.00000  0.00000  0.0  0.000000  0.0  0.0  0.320215  0.000000   \n",
       "3598   0.00000  0.00000  0.0  0.000000  0.0  0.0  0.000000  0.302961   \n",
       "68415  0.00000  0.37952  0.0  0.396518  0.0  0.0  0.185359  0.000000   \n",
       "49953  0.32144  0.00000  0.0  0.000000  0.0  0.0  0.201289  0.000000   \n",
       "\n",
       "              8    9  ...        91       92   93   94   95        96   97  \\\n",
       "6681   0.000000  0.0  ...  0.000000  0.00000  0.0  0.0  0.0  0.000000  0.0   \n",
       "28645  0.000000  0.0  ...  0.000000  0.00000  0.0  0.0  0.0  0.000000  0.0   \n",
       "3598   0.000000  0.0  ...  0.271742  0.00000  0.0  0.0  0.0  0.388429  0.0   \n",
       "68415  0.000000  0.0  ...  0.152475  0.00000  0.0  0.0  0.0  0.000000  0.0   \n",
       "49953  0.421604  0.0  ...  0.165579  0.32144  0.0  0.0  0.0  0.000000  0.0   \n",
       "\n",
       "        98   99                                     HaveWorkedWith  \n",
       "6681   0.0  0.0  Delphi;HTML/CSS;Java;Python;SQL;Flask;jQuery;H...  \n",
       "28645  0.0  0.0  C#;JavaScript;PowerShell;Python;SQL;Docker;Git...  \n",
       "3598   0.0  0.0  Bash/Shell;HTML/CSS;JavaScript;PHP;SQL;TypeScr...  \n",
       "68415  0.0  0.0  C#;HTML/CSS;JavaScript;PowerShell;SQL;TypeScri...  \n",
       "49953  0.0  0.0  C#;HTML/CSS;JavaScript;Python;SQL;TypeScript;n...  \n",
       "\n",
       "[5 rows x 101 columns]"
      ]
     },
     "execution_count": 15,
     "metadata": {},
     "output_type": "execute_result"
    }
   ],
   "source": [
    "X = pd.DataFrame(tf_X_vectorized)\n",
    "X['HaveWorkedWith'] = df[\"HaveWorkedWith\"].values\n",
    "y = df['Employed']\n",
    "X.sample(5)"
   ]
  },
  {
   "cell_type": "markdown",
   "id": "0880df4c",
   "metadata": {},
   "source": [
    "## 🪓 Splitting into train/test"
   ]
  },
  {
   "cell_type": "markdown",
   "id": "7f9c8893",
   "metadata": {},
   "source": [
    "Splitting train and test data. Train data takes 80% and Test 20%"
   ]
  },
  {
   "cell_type": "code",
   "execution_count": 67,
   "id": "d321d834",
   "metadata": {},
   "outputs": [
    {
     "name": "stdout",
     "output_type": "stream",
     "text": [
      "There are in total 73458 observations, of which 58766 are now in the train set, and 14692 in the test set.\n"
     ]
    }
   ],
   "source": [
    "X_train, X_test, y_train, y_test = train_test_split(X, y, test_size=0.2, random_state=80)\n",
    "print(\"There are in total\", len(X), \"observations, of which\", len(X_train), \"are now in the train set, and\", len(X_test), \"in the test set.\")"
   ]
  },
  {
   "cell_type": "code",
   "execution_count": 68,
   "id": "3513e989",
   "metadata": {},
   "outputs": [],
   "source": [
    "X_train = X_train.drop(['HaveWorkedWith'], axis=1)\n",
    "X_HaveWorkedWith_text = X_test['HaveWorkedWith']\n",
    "X_test = X_test.drop(['HaveWorkedWith'], axis=1)"
   ]
  },
  {
   "cell_type": "code",
   "execution_count": null,
   "id": "12b0289b",
   "metadata": {},
   "outputs": [],
   "source": []
  },
  {
   "cell_type": "markdown",
   "id": "9656d1a7",
   "metadata": {},
   "source": [
    "## Running the model with KNeighborsClassifier"
   ]
  },
  {
   "cell_type": "code",
   "execution_count": 18,
   "id": "be8ed318",
   "metadata": {},
   "outputs": [
    {
     "name": "stdout",
     "output_type": "stream",
     "text": [
      "Accuracy: 0.8630696913958716\n"
     ]
    }
   ],
   "source": [
    "model = KNeighborsClassifier()\n",
    "model.fit(X_train, y_train)\n",
    "score = model.score(X_test, y_test)\n",
    "\n",
    "print(\"Accuracy:\", score)"
   ]
  },
  {
   "cell_type": "markdown",
   "id": "56e798be",
   "metadata": {},
   "source": [
    "Using KNN with Tfid FVectorizer we are getting an accuracy of 86%. We can run our model on train and test data and compare their classification results and check if this performance is not an overfitting or underfitting.\n",
    "\n",
    "We can see a difference of 5% on training and test data accuracy, so we can say that there is a slight overfitting. Next we will perform hyperparameters tuning and see if the performance will improve."
   ]
  },
  {
   "cell_type": "code",
   "execution_count": 19,
   "id": "5fb1f0ca",
   "metadata": {
    "scrolled": true
   },
   "outputs": [
    {
     "name": "stdout",
     "output_type": "stream",
     "text": [
      "              precision    recall  f1-score   support\n",
      "\n",
      "           0       0.89      0.92      0.91     27246\n",
      "           1       0.93      0.91      0.92     31470\n",
      "\n",
      "    accuracy                           0.91     58716\n",
      "   macro avg       0.91      0.91      0.91     58716\n",
      "weighted avg       0.91      0.91      0.91     58716\n",
      "\n",
      "              precision    recall  f1-score   support\n",
      "\n",
      "           0       0.84      0.87      0.85      6759\n",
      "           1       0.88      0.86      0.87      7920\n",
      "\n",
      "    accuracy                           0.86     14679\n",
      "   macro avg       0.86      0.86      0.86     14679\n",
      "weighted avg       0.86      0.86      0.86     14679\n",
      "\n"
     ]
    }
   ],
   "source": [
    "pred = model.predict(X_train.values)\n",
    "report= classification_report(y_train,pred)\n",
    "print(report)\n",
    "\n",
    "pred = model.predict(X_test.values)\n",
    "report= classification_report(y_test,pred)\n",
    "print(report)"
   ]
  },
  {
   "cell_type": "markdown",
   "id": "054be515",
   "metadata": {},
   "source": [
    "In the above model we used default values of hyperparameters, for example n_neighbors (K) is 5 by default.\n",
    "\n",
    "Let's search an optimal K value which will improve our model with less error rate. We are going to run the KNeighborsClassifier model with K values in range 1 to 10 and visualize in a plot to see which K will produce minimal error rate."
   ]
  },
  {
   "cell_type": "code",
   "execution_count": 20,
   "id": "1726afae",
   "metadata": {},
   "outputs": [
    {
     "name": "stdout",
     "output_type": "stream",
     "text": [
      "Minimum error:  0.13182096873083998 at K = 9\n"
     ]
    },
    {
     "data": {
      "image/png": "[encoded data removed]",
      "text/plain": [
       "<Figure size 720x432 with 1 Axes>"
      ]
     },
     "metadata": {
      "needs_background": "light"
     },
     "output_type": "display_data"
    }
   ],
   "source": [
    "from sklearn import metrics\n",
    "acc=[]\n",
    "error_rate = []\n",
    "for i in range(1,10):\n",
    "    knn = KNeighborsClassifier(n_neighbors=i)\n",
    "    knn.fit(X_train,y_train)\n",
    "    pred_i = knn.predict(X_test)\n",
    "    error_rate.append(np.mean(pred_i != y_test))\n",
    "    acc.append(metrics.accuracy_score(y_test, pred_i))\n",
    "\n",
    "plt.figure(figsize=(10,6))\n",
    "plt.plot(range(1,10),error_rate,color='blue', linestyle='dashed', \n",
    "         marker='o',markerfacecolor='red', markersize=10)\n",
    "plt.title('Error Rate vs. K Value')\n",
    "plt.xlabel('K')\n",
    "plt.ylabel('Error Rate')\n",
    "print(\"Minimum error: \",min(error_rate),\"at K =\",error_rate.index(min(error_rate))+1)"
   ]
  },
  {
   "cell_type": "markdown",
   "id": "85250cae",
   "metadata": {},
   "source": [
    "We find that at K=9 the model produces the lowest error rate of 0.13, and we are validating this by plotting the accuracy against K values and got the best accuracy of 86,8% when K=9"
   ]
  },
  {
   "cell_type": "code",
   "execution_count": 21,
   "id": "73bec1ce",
   "metadata": {},
   "outputs": [
    {
     "name": "stdout",
     "output_type": "stream",
     "text": [
      "Maximum accuracy:  0.8681790312691601 at K = 9\n"
     ]
    },
    {
     "data": {
      "image/png": "[encoded data removed]",
      "text/plain": [
       "<Figure size 720x432 with 1 Axes>"
      ]
     },
     "metadata": {
      "needs_background": "light"
     },
     "output_type": "display_data"
    }
   ],
   "source": [
    "plt.figure(figsize=(10,6))\n",
    "plt.plot(range(1,10),acc,color='blue', linestyle='dashed', \n",
    "         marker='o',markerfacecolor='red', markersize=10)\n",
    "plt.title('accuracy vs. K Value')\n",
    "plt.xlabel('K')\n",
    "plt.ylabel('Accuracy')\n",
    "print(\"Maximum accuracy: \",max(acc),\"at K =\",acc.index(max(acc))+1)"
   ]
  },
  {
   "cell_type": "markdown",
   "id": "fd848968",
   "metadata": {},
   "source": [
    "Use the optimal K value of 9 and the model scored 86,8%"
   ]
  },
  {
   "cell_type": "code",
   "execution_count": 22,
   "id": "9f0624c3",
   "metadata": {},
   "outputs": [
    {
     "name": "stdout",
     "output_type": "stream",
     "text": [
      "Accuracy: 0.8681790312691601\n"
     ]
    }
   ],
   "source": [
    "from sklearn.neighbors import KNeighborsClassifier\n",
    "model = KNeighborsClassifier(n_neighbors=9)\n",
    "model.fit(X_train, y_train)\n",
    "score = model.score(X_test, y_test)\n",
    "\n",
    "print(\"Accuracy:\", score)"
   ]
  },
  {
   "cell_type": "markdown",
   "id": "b55a146f",
   "metadata": {},
   "source": [
    "We can now see that the model's performance slight improved by 0.08%"
   ]
  },
  {
   "cell_type": "code",
   "execution_count": 23,
   "id": "cc84da62",
   "metadata": {
    "scrolled": true
   },
   "outputs": [
    {
     "name": "stdout",
     "output_type": "stream",
     "text": [
      "              precision    recall  f1-score   support\n",
      "\n",
      "           0       0.88      0.90      0.89     27246\n",
      "           1       0.91      0.89      0.90     31470\n",
      "\n",
      "    accuracy                           0.90     58716\n",
      "   macro avg       0.90      0.90      0.90     58716\n",
      "weighted avg       0.90      0.90      0.90     58716\n",
      "\n",
      "              precision    recall  f1-score   support\n",
      "\n",
      "           0       0.85      0.87      0.86      6759\n",
      "           1       0.89      0.86      0.88      7920\n",
      "\n",
      "    accuracy                           0.87     14679\n",
      "   macro avg       0.87      0.87      0.87     14679\n",
      "weighted avg       0.87      0.87      0.87     14679\n",
      "\n"
     ]
    }
   ],
   "source": [
    "pred = model.predict(X_train.values)\n",
    "report= classification_report(y_train,pred)\n",
    "print(report)\n",
    "\n",
    "pred = model.predict(X_test.values)\n",
    "report= classification_report(y_test,pred)\n",
    "print(report)"
   ]
  },
  {
   "cell_type": "markdown",
   "id": "2c318fcc",
   "metadata": {},
   "source": [
    "## Running model with Random Forest Classifier"
   ]
  },
  {
   "cell_type": "markdown",
   "id": "9d1f46ff",
   "metadata": {},
   "source": [
    "In this step only the train set is used to fit the model, which in this case uses a Random forest Classifier algorithm for classification named sklearn.ensemble. Ref: RandomForestClassifier. (n.d.-b). Scikit-learn. https://scikitlearn.org/stable/modules/generated/sklearn.ensemble.RandomForestClassifier.html And after that the test set is used to calculate the model's accuracy, in other words how well it performs. Accuracy is a fraction where any value closer to 1 is considered better, and 1 itself (100% accurate) is usually impossible."
   ]
  },
  {
   "cell_type": "code",
   "execution_count": 38,
   "id": "1793fa06",
   "metadata": {},
   "outputs": [
    {
     "data": {
      "text/html": [
       "<div>\n",
       "<style scoped>\n",
       "    .dataframe tbody tr th:only-of-type {\n",
       "        vertical-align: middle;\n",
       "    }\n",
       "\n",
       "    .dataframe tbody tr th {\n",
       "        vertical-align: top;\n",
       "    }\n",
       "\n",
       "    .dataframe thead th {\n",
       "        text-align: right;\n",
       "    }\n",
       "</style>\n",
       "<table border=\"1\" class=\"dataframe\">\n",
       "  <thead>\n",
       "    <tr style=\"text-align: right;\">\n",
       "      <th></th>\n",
       "      <th>0</th>\n",
       "      <th>1</th>\n",
       "      <th>2</th>\n",
       "      <th>3</th>\n",
       "      <th>4</th>\n",
       "      <th>5</th>\n",
       "      <th>6</th>\n",
       "      <th>7</th>\n",
       "      <th>8</th>\n",
       "      <th>9</th>\n",
       "      <th>...</th>\n",
       "      <th>91</th>\n",
       "      <th>92</th>\n",
       "      <th>93</th>\n",
       "      <th>94</th>\n",
       "      <th>95</th>\n",
       "      <th>96</th>\n",
       "      <th>97</th>\n",
       "      <th>98</th>\n",
       "      <th>99</th>\n",
       "      <th>HaveWorkedWith</th>\n",
       "    </tr>\n",
       "  </thead>\n",
       "  <tbody>\n",
       "    <tr>\n",
       "      <th>35651</th>\n",
       "      <td>0.0</td>\n",
       "      <td>0.000000</td>\n",
       "      <td>0.25141</td>\n",
       "      <td>0.0</td>\n",
       "      <td>0.000000</td>\n",
       "      <td>0.000000</td>\n",
       "      <td>0.000000</td>\n",
       "      <td>0.161112</td>\n",
       "      <td>0.0</td>\n",
       "      <td>0.0</td>\n",
       "      <td>...</td>\n",
       "      <td>0.000000</td>\n",
       "      <td>0.0</td>\n",
       "      <td>0.0</td>\n",
       "      <td>0.0</td>\n",
       "      <td>0.000000</td>\n",
       "      <td>0.0</td>\n",
       "      <td>0.0</td>\n",
       "      <td>0.0</td>\n",
       "      <td>0.000000</td>\n",
       "      <td>Bash/Shell;Clojure;HTML/CSS;JavaScript;LISP;Ru...</td>\n",
       "    </tr>\n",
       "    <tr>\n",
       "      <th>43475</th>\n",
       "      <td>0.0</td>\n",
       "      <td>0.000000</td>\n",
       "      <td>0.00000</td>\n",
       "      <td>0.0</td>\n",
       "      <td>0.282275</td>\n",
       "      <td>0.117758</td>\n",
       "      <td>0.153831</td>\n",
       "      <td>0.141078</td>\n",
       "      <td>0.0</td>\n",
       "      <td>0.0</td>\n",
       "      <td>...</td>\n",
       "      <td>0.000000</td>\n",
       "      <td>0.0</td>\n",
       "      <td>0.0</td>\n",
       "      <td>0.0</td>\n",
       "      <td>0.301172</td>\n",
       "      <td>0.0</td>\n",
       "      <td>0.0</td>\n",
       "      <td>0.0</td>\n",
       "      <td>0.164063</td>\n",
       "      <td>Assembly;Bash/Shell;C;C++;HTML/CSS;JavaScript;...</td>\n",
       "    </tr>\n",
       "    <tr>\n",
       "      <th>70575</th>\n",
       "      <td>0.0</td>\n",
       "      <td>0.000000</td>\n",
       "      <td>0.00000</td>\n",
       "      <td>0.0</td>\n",
       "      <td>0.000000</td>\n",
       "      <td>0.186561</td>\n",
       "      <td>0.000000</td>\n",
       "      <td>0.000000</td>\n",
       "      <td>0.0</td>\n",
       "      <td>0.0</td>\n",
       "      <td>...</td>\n",
       "      <td>0.200475</td>\n",
       "      <td>0.0</td>\n",
       "      <td>0.0</td>\n",
       "      <td>0.0</td>\n",
       "      <td>0.000000</td>\n",
       "      <td>0.0</td>\n",
       "      <td>0.0</td>\n",
       "      <td>0.0</td>\n",
       "      <td>0.000000</td>\n",
       "      <td>JavaScript;TypeScript;Docker;Homebrew;npm;Expr...</td>\n",
       "    </tr>\n",
       "    <tr>\n",
       "      <th>27702</th>\n",
       "      <td>0.0</td>\n",
       "      <td>0.000000</td>\n",
       "      <td>0.00000</td>\n",
       "      <td>0.0</td>\n",
       "      <td>0.000000</td>\n",
       "      <td>0.386320</td>\n",
       "      <td>0.000000</td>\n",
       "      <td>0.000000</td>\n",
       "      <td>0.0</td>\n",
       "      <td>0.0</td>\n",
       "      <td>...</td>\n",
       "      <td>0.000000</td>\n",
       "      <td>0.0</td>\n",
       "      <td>0.0</td>\n",
       "      <td>0.0</td>\n",
       "      <td>0.000000</td>\n",
       "      <td>0.0</td>\n",
       "      <td>0.0</td>\n",
       "      <td>0.0</td>\n",
       "      <td>0.000000</td>\n",
       "      <td>Python;Docker;Git;Flask;AWS</td>\n",
       "    </tr>\n",
       "    <tr>\n",
       "      <th>71584</th>\n",
       "      <td>0.0</td>\n",
       "      <td>0.211507</td>\n",
       "      <td>0.00000</td>\n",
       "      <td>0.0</td>\n",
       "      <td>0.000000</td>\n",
       "      <td>0.158154</td>\n",
       "      <td>0.000000</td>\n",
       "      <td>0.000000</td>\n",
       "      <td>0.0</td>\n",
       "      <td>0.0</td>\n",
       "      <td>...</td>\n",
       "      <td>0.169949</td>\n",
       "      <td>0.0</td>\n",
       "      <td>0.0</td>\n",
       "      <td>0.0</td>\n",
       "      <td>0.000000</td>\n",
       "      <td>0.0</td>\n",
       "      <td>0.0</td>\n",
       "      <td>0.0</td>\n",
       "      <td>0.000000</td>\n",
       "      <td>HTML/CSS;JavaScript;Ruby;TypeScript;npm;Angula...</td>\n",
       "    </tr>\n",
       "  </tbody>\n",
       "</table>\n",
       "<p>5 rows × 101 columns</p>\n",
       "</div>"
      ],
      "text/plain": [
       "         0         1        2    3         4         5         6         7  \\\n",
       "35651  0.0  0.000000  0.25141  0.0  0.000000  0.000000  0.000000  0.161112   \n",
       "43475  0.0  0.000000  0.00000  0.0  0.282275  0.117758  0.153831  0.141078   \n",
       "70575  0.0  0.000000  0.00000  0.0  0.000000  0.186561  0.000000  0.000000   \n",
       "27702  0.0  0.000000  0.00000  0.0  0.000000  0.386320  0.000000  0.000000   \n",
       "71584  0.0  0.211507  0.00000  0.0  0.000000  0.158154  0.000000  0.000000   \n",
       "\n",
       "         8    9  ...        91   92   93   94        95   96   97   98  \\\n",
       "35651  0.0  0.0  ...  0.000000  0.0  0.0  0.0  0.000000  0.0  0.0  0.0   \n",
       "43475  0.0  0.0  ...  0.000000  0.0  0.0  0.0  0.301172  0.0  0.0  0.0   \n",
       "70575  0.0  0.0  ...  0.200475  0.0  0.0  0.0  0.000000  0.0  0.0  0.0   \n",
       "27702  0.0  0.0  ...  0.000000  0.0  0.0  0.0  0.000000  0.0  0.0  0.0   \n",
       "71584  0.0  0.0  ...  0.169949  0.0  0.0  0.0  0.000000  0.0  0.0  0.0   \n",
       "\n",
       "             99                                     HaveWorkedWith  \n",
       "35651  0.000000  Bash/Shell;Clojure;HTML/CSS;JavaScript;LISP;Ru...  \n",
       "43475  0.164063  Assembly;Bash/Shell;C;C++;HTML/CSS;JavaScript;...  \n",
       "70575  0.000000  JavaScript;TypeScript;Docker;Homebrew;npm;Expr...  \n",
       "27702  0.000000                        Python;Docker;Git;Flask;AWS  \n",
       "71584  0.000000  HTML/CSS;JavaScript;Ruby;TypeScript;npm;Angula...  \n",
       "\n",
       "[5 rows x 101 columns]"
      ]
     },
     "execution_count": 38,
     "metadata": {},
     "output_type": "execute_result"
    }
   ],
   "source": [
    "X = pd.DataFrame(tf_X_vectorized)\n",
    "X['HaveWorkedWith'] = df[\"HaveWorkedWith\"].values\n",
    "y = df['Employed']\n",
    "X.sample(5)"
   ]
  },
  {
   "cell_type": "code",
   "execution_count": 32,
   "id": "4a91ec4b",
   "metadata": {},
   "outputs": [
    {
     "name": "stdout",
     "output_type": "stream",
     "text": [
      "There are in total 73395 observations, of which 58716 are now in the train set, and 14679 in the test set.\n"
     ]
    }
   ],
   "source": [
    "\n",
    "## Split the dataset into training and testing sets\n",
    "X_train, X_test, y_train, y_test = train_test_split(X, y, test_size=0.2, random_state=42)\n",
    "print(\"There are in total\", len(X), \"observations, of which\", len(X_train), \"are now in the train set, and\", len(X_test), \"in the test set.\")"
   ]
  },
  {
   "cell_type": "code",
   "execution_count": 33,
   "id": "c7ac71f4",
   "metadata": {},
   "outputs": [],
   "source": [
    "X_train = X_train.drop(['HaveWorkedWith'], axis=1)\n",
    "X_HaveWorkedWith_text = X_test['HaveWorkedWith']\n",
    "X_test = X_test.drop(['HaveWorkedWith'], axis=1)"
   ]
  },
  {
   "cell_type": "code",
   "execution_count": 34,
   "id": "7cf8303c",
   "metadata": {},
   "outputs": [],
   "source": [
    "\n",
    "classifier=RandomForestClassifier().fit(X_train,y_train)\n",
    "y_pred=classifier.predict(X_test)"
   ]
  },
  {
   "cell_type": "code",
   "execution_count": 35,
   "id": "b2714bf5",
   "metadata": {},
   "outputs": [
    {
     "data": {
      "text/plain": [
       "0.963962122760406"
      ]
     },
     "execution_count": 35,
     "metadata": {},
     "output_type": "execute_result"
    }
   ],
   "source": [
    "accuracy_score(y_test,y_pred)"
   ]
  },
  {
   "cell_type": "code",
   "execution_count": 36,
   "id": "157858c1",
   "metadata": {},
   "outputs": [
    {
     "data": {
      "text/plain": [
       "array([[6553,  217],\n",
       "       [ 312, 7597]], dtype=int64)"
      ]
     },
     "execution_count": 36,
     "metadata": {},
     "output_type": "execute_result"
    }
   ],
   "source": [
    "confusion_matrix(y_test,y_pred)"
   ]
  },
  {
   "cell_type": "markdown",
   "id": "452f285d",
   "metadata": {},
   "source": [
    "## Evaluation"
   ]
  },
  {
   "cell_type": "code",
   "execution_count": 37,
   "id": "c342ab61",
   "metadata": {},
   "outputs": [
    {
     "name": "stdout",
     "output_type": "stream",
     "text": [
      "              precision    recall  f1-score   support\n",
      "\n",
      "           0       0.95      0.97      0.96      6770\n",
      "           1       0.97      0.96      0.97      7909\n",
      "\n",
      "    accuracy                           0.96     14679\n",
      "   macro avg       0.96      0.96      0.96     14679\n",
      "weighted avg       0.96      0.96      0.96     14679\n",
      "\n"
     ]
    }
   ],
   "source": [
    "print(classification_report(y_test,y_pred))"
   ]
  },
  {
   "cell_type": "markdown",
   "id": "ac4d81be",
   "metadata": {},
   "source": [
    "Looking at the accuracy score, we can see that this Random Forest model performs very well compared to the KNN model, achieving a 96% accuracy. The reason for this performance could be that Random Forests reduce overfitting by achieving a balance between bias and variance. KNN can overfit with a small number of neighbors or underfit with a large number.\n",
    "\n"
   ]
  },
  {
   "cell_type": "code",
   "execution_count": null,
   "id": "65b58099",
   "metadata": {},
   "outputs": [],
   "source": []
  }
 ],
 "metadata": {
  "kernelspec": {
   "display_name": "Python 3",
   "language": "python",
   "name": "python3"
  },
  "language_info": {
   "codemirror_mode": {
    "name": "ipython",
    "version": 3
   },
   "file_extension": ".py",
   "mimetype": "text/x-python",
   "name": "python",
   "nbconvert_exporter": "python",
   "pygments_lexer": "ipython3",
   "version": "3.8.8"
  }
 },
 "nbformat": 4,
 "nbformat_minor": 5
}
