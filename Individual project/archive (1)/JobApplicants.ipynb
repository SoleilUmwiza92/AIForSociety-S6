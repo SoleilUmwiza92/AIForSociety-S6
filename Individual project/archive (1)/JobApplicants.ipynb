{
 "cells": [
  {
   "cell_type": "code",
   "execution_count": 1,
   "id": "264ea4c0",
   "metadata": {},
   "outputs": [
    {
     "name": "stdout",
     "output_type": "stream",
     "text": [
      "scikit-learn version: 0.24.1\n",
      "pandas version: 1.2.4\n",
      "seaborn version: 0.11.1\n",
      "matplotlib version: 3.4.1\n"
     ]
    }
   ],
   "source": [
    "import numpy as np\n",
    "import matplotlib \n",
    "import matplotlib.pyplot as plt\n",
    "import pandas as pd\n",
    "import seaborn as sns\n",
    "\n",
    "#import the ML libs\n",
    "import sklearn\n",
    "import warnings\n",
    "from sklearn.cluster import KMeans\n",
    "from sklearn.metrics import max_error\n",
    "from sklearn.metrics import mean_squared_error, mean_absolute_error\n",
    "from sklearn.linear_model import LinearRegression\n",
    "from sklearn.model_selection import train_test_split\n",
    "\n",
    "from sklearn.ensemble import RandomForestClassifier\n",
    "from sklearn.neighbors import KNeighborsClassifier\n",
    "from sklearn.metrics import classification_report\n",
    "from sklearn.model_selection import train_test_split\n",
    "from sklearn.feature_extraction.text import TfidfVectorizer\n",
    "\n",
    "warnings.filterwarnings('ignore')\n",
    "\n",
    "\n",
    "print(\"scikit-learn version:\", sklearn.__version__)    \n",
    "print(\"pandas version:\", pd.__version__)            \n",
    "print(\"seaborn version:\", sns.__version__)  \n",
    "print(\"matplotlib version:\", matplotlib.__version__) "
   ]
  },
  {
   "cell_type": "markdown",
   "id": "1a63de8f",
   "metadata": {},
   "source": [
    "#### Data understanding\n",
    "\n",
    "##### Exploratory Data Analysis"
   ]
  },
  {
   "cell_type": "markdown",
   "id": "f2c92b70",
   "metadata": {},
   "source": [
    "The datasets are downloaded from [Kaggle Job applicants](https://www.kaggle.com/datasets/ayushtankha/70k-job-applicants-data-human-resource). Below I am reading the dataset as a Pandas' dataframe and print its shape(number of rows and columns)"
   ]
  },
  {
   "cell_type": "code",
   "execution_count": 2,
   "id": "4512630c",
   "metadata": {},
   "outputs": [
    {
     "name": "stdout",
     "output_type": "stream",
     "text": [
      "(73462, 14)\n"
     ]
    }
   ],
   "source": [
    "df = pd.read_csv(\"JobPosting.csv\", index_col=0)\n",
    "print(df.shape)"
   ]
  },
  {
   "cell_type": "markdown",
   "id": "e01b111b",
   "metadata": {},
   "source": [
    "Viewing 10 random rows from the dataframe"
   ]
  },
  {
   "cell_type": "code",
   "execution_count": 3,
   "id": "c6272185",
   "metadata": {
    "scrolled": false
   },
   "outputs": [
    {
     "data": {
      "text/html": [
       "<div>\n",
       "<style scoped>\n",
       "    .dataframe tbody tr th:only-of-type {\n",
       "        vertical-align: middle;\n",
       "    }\n",
       "\n",
       "    .dataframe tbody tr th {\n",
       "        vertical-align: top;\n",
       "    }\n",
       "\n",
       "    .dataframe thead th {\n",
       "        text-align: right;\n",
       "    }\n",
       "</style>\n",
       "<table border=\"1\" class=\"dataframe\">\n",
       "  <thead>\n",
       "    <tr style=\"text-align: right;\">\n",
       "      <th></th>\n",
       "      <th>Age</th>\n",
       "      <th>Accessibility</th>\n",
       "      <th>EdLevel</th>\n",
       "      <th>Employment</th>\n",
       "      <th>Gender</th>\n",
       "      <th>MentalHealth</th>\n",
       "      <th>MainBranch</th>\n",
       "      <th>YearsCode</th>\n",
       "      <th>YearsCodePro</th>\n",
       "      <th>Country</th>\n",
       "      <th>PreviousSalary</th>\n",
       "      <th>HaveWorkedWith</th>\n",
       "      <th>ComputerSkills</th>\n",
       "      <th>Employed</th>\n",
       "    </tr>\n",
       "  </thead>\n",
       "  <tbody>\n",
       "    <tr>\n",
       "      <th>57894</th>\n",
       "      <td>&lt;35</td>\n",
       "      <td>No</td>\n",
       "      <td>Undergraduate</td>\n",
       "      <td>1</td>\n",
       "      <td>Man</td>\n",
       "      <td>Yes</td>\n",
       "      <td>Dev</td>\n",
       "      <td>8</td>\n",
       "      <td>3</td>\n",
       "      <td>Canada</td>\n",
       "      <td>74961.0</td>\n",
       "      <td>C++;Go;Python;Docker;Homebrew;Kubernetes;npm;A...</td>\n",
       "      <td>13</td>\n",
       "      <td>0</td>\n",
       "    </tr>\n",
       "    <tr>\n",
       "      <th>36573</th>\n",
       "      <td>&lt;35</td>\n",
       "      <td>No</td>\n",
       "      <td>Master</td>\n",
       "      <td>1</td>\n",
       "      <td>Woman</td>\n",
       "      <td>No</td>\n",
       "      <td>Dev</td>\n",
       "      <td>3</td>\n",
       "      <td>2</td>\n",
       "      <td>France</td>\n",
       "      <td>37834.0</td>\n",
       "      <td>Bash/Shell;HTML/CSS;JavaScript;Node.js;PHP;Pyt...</td>\n",
       "      <td>13</td>\n",
       "      <td>1</td>\n",
       "    </tr>\n",
       "    <tr>\n",
       "      <th>8262</th>\n",
       "      <td>&gt;35</td>\n",
       "      <td>No</td>\n",
       "      <td>Undergraduate</td>\n",
       "      <td>1</td>\n",
       "      <td>Man</td>\n",
       "      <td>Yes</td>\n",
       "      <td>Dev</td>\n",
       "      <td>36</td>\n",
       "      <td>23</td>\n",
       "      <td>Belgium</td>\n",
       "      <td>87992.0</td>\n",
       "      <td>Java;JavaScript;Git;React.js;Spring;MongoDB</td>\n",
       "      <td>6</td>\n",
       "      <td>0</td>\n",
       "    </tr>\n",
       "    <tr>\n",
       "      <th>60188</th>\n",
       "      <td>&lt;35</td>\n",
       "      <td>No</td>\n",
       "      <td>Other</td>\n",
       "      <td>1</td>\n",
       "      <td>Man</td>\n",
       "      <td>No</td>\n",
       "      <td>NotDev</td>\n",
       "      <td>11</td>\n",
       "      <td>7</td>\n",
       "      <td>Russian Federation</td>\n",
       "      <td>83124.0</td>\n",
       "      <td>Python;SQL;Docker;Homebrew;Django;Google Cloud...</td>\n",
       "      <td>11</td>\n",
       "      <td>0</td>\n",
       "    </tr>\n",
       "    <tr>\n",
       "      <th>46149</th>\n",
       "      <td>&lt;35</td>\n",
       "      <td>No</td>\n",
       "      <td>Undergraduate</td>\n",
       "      <td>1</td>\n",
       "      <td>Man</td>\n",
       "      <td>Yes</td>\n",
       "      <td>Dev</td>\n",
       "      <td>5</td>\n",
       "      <td>3</td>\n",
       "      <td>Israel</td>\n",
       "      <td>140496.0</td>\n",
       "      <td>Bash/Shell;Go;Java;Python;Scala;SQL;Docker;Hom...</td>\n",
       "      <td>18</td>\n",
       "      <td>1</td>\n",
       "    </tr>\n",
       "    <tr>\n",
       "      <th>29841</th>\n",
       "      <td>&lt;35</td>\n",
       "      <td>No</td>\n",
       "      <td>Undergraduate</td>\n",
       "      <td>1</td>\n",
       "      <td>Man</td>\n",
       "      <td>Yes</td>\n",
       "      <td>Dev</td>\n",
       "      <td>6</td>\n",
       "      <td>3</td>\n",
       "      <td>Brazil</td>\n",
       "      <td>12372.0</td>\n",
       "      <td>HTML/CSS;PHP;SQL;Docker;Git;Unity 3D;jQuery;La...</td>\n",
       "      <td>13</td>\n",
       "      <td>0</td>\n",
       "    </tr>\n",
       "    <tr>\n",
       "      <th>58913</th>\n",
       "      <td>&lt;35</td>\n",
       "      <td>No</td>\n",
       "      <td>Undergraduate</td>\n",
       "      <td>1</td>\n",
       "      <td>Man</td>\n",
       "      <td>No</td>\n",
       "      <td>Dev</td>\n",
       "      <td>8</td>\n",
       "      <td>1</td>\n",
       "      <td>United States of America</td>\n",
       "      <td>75000.0</td>\n",
       "      <td>C#;HTML/CSS;JavaScript;PowerShell;Python;SQL;V...</td>\n",
       "      <td>13</td>\n",
       "      <td>1</td>\n",
       "    </tr>\n",
       "    <tr>\n",
       "      <th>32085</th>\n",
       "      <td>&lt;35</td>\n",
       "      <td>No</td>\n",
       "      <td>Undergraduate</td>\n",
       "      <td>1</td>\n",
       "      <td>Man</td>\n",
       "      <td>Yes</td>\n",
       "      <td>Dev</td>\n",
       "      <td>6</td>\n",
       "      <td>2</td>\n",
       "      <td>Canada</td>\n",
       "      <td>49160.0</td>\n",
       "      <td>Go;HTML/CSS;Java;JavaScript;Node.js;SQL;TypeSc...</td>\n",
       "      <td>19</td>\n",
       "      <td>1</td>\n",
       "    </tr>\n",
       "    <tr>\n",
       "      <th>72435</th>\n",
       "      <td>&gt;35</td>\n",
       "      <td>No</td>\n",
       "      <td>Undergraduate</td>\n",
       "      <td>1</td>\n",
       "      <td>Man</td>\n",
       "      <td>No</td>\n",
       "      <td>NotDev</td>\n",
       "      <td>30</td>\n",
       "      <td>22</td>\n",
       "      <td>Australia</td>\n",
       "      <td>88464.0</td>\n",
       "      <td>Bash/Shell;Python;Ansible;Docker;Kubernetes;AWS</td>\n",
       "      <td>6</td>\n",
       "      <td>0</td>\n",
       "    </tr>\n",
       "    <tr>\n",
       "      <th>33454</th>\n",
       "      <td>&gt;35</td>\n",
       "      <td>No</td>\n",
       "      <td>Other</td>\n",
       "      <td>1</td>\n",
       "      <td>Man</td>\n",
       "      <td>No</td>\n",
       "      <td>Dev</td>\n",
       "      <td>24</td>\n",
       "      <td>15</td>\n",
       "      <td>Italy</td>\n",
       "      <td>30267.0</td>\n",
       "      <td>HTML/CSS;JavaScript;PHP;SQL;Git;Symfony;Micros...</td>\n",
       "      <td>8</td>\n",
       "      <td>0</td>\n",
       "    </tr>\n",
       "  </tbody>\n",
       "</table>\n",
       "</div>"
      ],
      "text/plain": [
       "       Age Accessibility        EdLevel  Employment Gender MentalHealth  \\\n",
       "57894  <35            No  Undergraduate           1    Man          Yes   \n",
       "36573  <35            No         Master           1  Woman           No   \n",
       "8262   >35            No  Undergraduate           1    Man          Yes   \n",
       "60188  <35            No          Other           1    Man           No   \n",
       "46149  <35            No  Undergraduate           1    Man          Yes   \n",
       "29841  <35            No  Undergraduate           1    Man          Yes   \n",
       "58913  <35            No  Undergraduate           1    Man           No   \n",
       "32085  <35            No  Undergraduate           1    Man          Yes   \n",
       "72435  >35            No  Undergraduate           1    Man           No   \n",
       "33454  >35            No          Other           1    Man           No   \n",
       "\n",
       "      MainBranch  YearsCode  YearsCodePro                   Country  \\\n",
       "57894        Dev          8             3                    Canada   \n",
       "36573        Dev          3             2                    France   \n",
       "8262         Dev         36            23                   Belgium   \n",
       "60188     NotDev         11             7        Russian Federation   \n",
       "46149        Dev          5             3                    Israel   \n",
       "29841        Dev          6             3                    Brazil   \n",
       "58913        Dev          8             1  United States of America   \n",
       "32085        Dev          6             2                    Canada   \n",
       "72435     NotDev         30            22                 Australia   \n",
       "33454        Dev         24            15                     Italy   \n",
       "\n",
       "       PreviousSalary                                     HaveWorkedWith  \\\n",
       "57894         74961.0  C++;Go;Python;Docker;Homebrew;Kubernetes;npm;A...   \n",
       "36573         37834.0  Bash/Shell;HTML/CSS;JavaScript;Node.js;PHP;Pyt...   \n",
       "8262          87992.0        Java;JavaScript;Git;React.js;Spring;MongoDB   \n",
       "60188         83124.0  Python;SQL;Docker;Homebrew;Django;Google Cloud...   \n",
       "46149        140496.0  Bash/Shell;Go;Java;Python;Scala;SQL;Docker;Hom...   \n",
       "29841         12372.0  HTML/CSS;PHP;SQL;Docker;Git;Unity 3D;jQuery;La...   \n",
       "58913         75000.0  C#;HTML/CSS;JavaScript;PowerShell;Python;SQL;V...   \n",
       "32085         49160.0  Go;HTML/CSS;Java;JavaScript;Node.js;SQL;TypeSc...   \n",
       "72435         88464.0    Bash/Shell;Python;Ansible;Docker;Kubernetes;AWS   \n",
       "33454         30267.0  HTML/CSS;JavaScript;PHP;SQL;Git;Symfony;Micros...   \n",
       "\n",
       "       ComputerSkills  Employed  \n",
       "57894              13         0  \n",
       "36573              13         1  \n",
       "8262                6         0  \n",
       "60188              11         0  \n",
       "46149              18         1  \n",
       "29841              13         0  \n",
       "58913              13         1  \n",
       "32085              19         1  \n",
       "72435               6         0  \n",
       "33454               8         0  "
      ]
     },
     "execution_count": 3,
     "metadata": {},
     "output_type": "execute_result"
    }
   ],
   "source": [
    "df.sample(10)"
   ]
  },
  {
   "cell_type": "markdown",
   "id": "4c6c1699",
   "metadata": {},
   "source": [
    "Here I am globally looking at the data. I did that by printing the data info."
   ]
  },
  {
   "cell_type": "code",
   "execution_count": 4,
   "id": "60c19f33",
   "metadata": {},
   "outputs": [
    {
     "name": "stdout",
     "output_type": "stream",
     "text": [
      "<class 'pandas.core.frame.DataFrame'>\n",
      "Int64Index: 73462 entries, 0 to 73461\n",
      "Data columns (total 14 columns):\n",
      " #   Column          Non-Null Count  Dtype  \n",
      "---  ------          --------------  -----  \n",
      " 0   Age             73462 non-null  object \n",
      " 1   Accessibility   73462 non-null  object \n",
      " 2   EdLevel         73462 non-null  object \n",
      " 3   Employment      73462 non-null  int64  \n",
      " 4   Gender          73462 non-null  object \n",
      " 5   MentalHealth    73462 non-null  object \n",
      " 6   MainBranch      73462 non-null  object \n",
      " 7   YearsCode       73462 non-null  int64  \n",
      " 8   YearsCodePro    73462 non-null  int64  \n",
      " 9   Country         73462 non-null  object \n",
      " 10  PreviousSalary  73462 non-null  float64\n",
      " 11  HaveWorkedWith  73399 non-null  object \n",
      " 12  ComputerSkills  73462 non-null  int64  \n",
      " 13  Employed        73462 non-null  int64  \n",
      "dtypes: float64(1), int64(5), object(8)\n",
      "memory usage: 8.4+ MB\n"
     ]
    }
   ],
   "source": [
    "df.info()"
   ]
  },
  {
   "cell_type": "markdown",
   "id": "2d1e5d8e",
   "metadata": {},
   "source": [
    "From the result above We can see that non-null for the column `HaveWorkedWith` are less than rest of the columns.\n",
    "Below we are looking at the number of rows where the column has null values."
   ]
  },
  {
   "cell_type": "code",
   "execution_count": 5,
   "id": "bfffb9f5",
   "metadata": {},
   "outputs": [
    {
     "data": {
      "text/plain": [
       "Age                0\n",
       "Accessibility      0\n",
       "EdLevel            0\n",
       "Employment         0\n",
       "Gender             0\n",
       "MentalHealth       0\n",
       "MainBranch         0\n",
       "YearsCode          0\n",
       "YearsCodePro       0\n",
       "Country            0\n",
       "PreviousSalary     0\n",
       "HaveWorkedWith    63\n",
       "ComputerSkills     0\n",
       "Employed           0\n",
       "dtype: int64"
      ]
     },
     "execution_count": 5,
     "metadata": {},
     "output_type": "execute_result"
    }
   ],
   "source": [
    "df.isnull().sum()"
   ]
  },
  {
   "cell_type": "markdown",
   "id": "0eca32e2",
   "metadata": {},
   "source": [
    "Checking duplicate rows in the dataset"
   ]
  },
  {
   "cell_type": "code",
   "execution_count": 6,
   "id": "14d3611b",
   "metadata": {},
   "outputs": [
    {
     "data": {
      "text/html": [
       "<div>\n",
       "<style scoped>\n",
       "    .dataframe tbody tr th:only-of-type {\n",
       "        vertical-align: middle;\n",
       "    }\n",
       "\n",
       "    .dataframe tbody tr th {\n",
       "        vertical-align: top;\n",
       "    }\n",
       "\n",
       "    .dataframe thead th {\n",
       "        text-align: right;\n",
       "    }\n",
       "</style>\n",
       "<table border=\"1\" class=\"dataframe\">\n",
       "  <thead>\n",
       "    <tr style=\"text-align: right;\">\n",
       "      <th></th>\n",
       "      <th>Age</th>\n",
       "      <th>Accessibility</th>\n",
       "      <th>EdLevel</th>\n",
       "      <th>Employment</th>\n",
       "      <th>Gender</th>\n",
       "      <th>MentalHealth</th>\n",
       "      <th>MainBranch</th>\n",
       "      <th>YearsCode</th>\n",
       "      <th>YearsCodePro</th>\n",
       "      <th>Country</th>\n",
       "      <th>PreviousSalary</th>\n",
       "      <th>HaveWorkedWith</th>\n",
       "      <th>ComputerSkills</th>\n",
       "      <th>Employed</th>\n",
       "    </tr>\n",
       "  </thead>\n",
       "  <tbody>\n",
       "    <tr>\n",
       "      <th>3134</th>\n",
       "      <td>&gt;35</td>\n",
       "      <td>No</td>\n",
       "      <td>Undergraduate</td>\n",
       "      <td>1</td>\n",
       "      <td>Man</td>\n",
       "      <td>No</td>\n",
       "      <td>Dev</td>\n",
       "      <td>39</td>\n",
       "      <td>27</td>\n",
       "      <td>Croatia</td>\n",
       "      <td>26124.0</td>\n",
       "      <td>SQL;Oracle</td>\n",
       "      <td>2</td>\n",
       "      <td>0</td>\n",
       "    </tr>\n",
       "    <tr>\n",
       "      <th>6652</th>\n",
       "      <td>&gt;35</td>\n",
       "      <td>No</td>\n",
       "      <td>Master</td>\n",
       "      <td>0</td>\n",
       "      <td>Man</td>\n",
       "      <td>No</td>\n",
       "      <td>Dev</td>\n",
       "      <td>25</td>\n",
       "      <td>15</td>\n",
       "      <td>Italy</td>\n",
       "      <td>129718.0</td>\n",
       "      <td>Go;Java;JavaScript;Kotlin;Node.js;Rust;TypeScr...</td>\n",
       "      <td>16</td>\n",
       "      <td>1</td>\n",
       "    </tr>\n",
       "    <tr>\n",
       "      <th>6664</th>\n",
       "      <td>&gt;35</td>\n",
       "      <td>No</td>\n",
       "      <td>Master</td>\n",
       "      <td>0</td>\n",
       "      <td>Man</td>\n",
       "      <td>No</td>\n",
       "      <td>Dev</td>\n",
       "      <td>25</td>\n",
       "      <td>15</td>\n",
       "      <td>Italy</td>\n",
       "      <td>129718.0</td>\n",
       "      <td>Go;Java;JavaScript;Kotlin;Node.js;Rust;TypeScr...</td>\n",
       "      <td>16</td>\n",
       "      <td>1</td>\n",
       "    </tr>\n",
       "    <tr>\n",
       "      <th>7280</th>\n",
       "      <td>&lt;35</td>\n",
       "      <td>No</td>\n",
       "      <td>Undergraduate</td>\n",
       "      <td>1</td>\n",
       "      <td>Man</td>\n",
       "      <td>No</td>\n",
       "      <td>Dev</td>\n",
       "      <td>4</td>\n",
       "      <td>0</td>\n",
       "      <td>India</td>\n",
       "      <td>2653.0</td>\n",
       "      <td>Java;Python;Docker;Git;Kubernetes;Flask;Spring...</td>\n",
       "      <td>10</td>\n",
       "      <td>0</td>\n",
       "    </tr>\n",
       "    <tr>\n",
       "      <th>7329</th>\n",
       "      <td>&lt;35</td>\n",
       "      <td>No</td>\n",
       "      <td>Undergraduate</td>\n",
       "      <td>1</td>\n",
       "      <td>Man</td>\n",
       "      <td>No</td>\n",
       "      <td>Dev</td>\n",
       "      <td>4</td>\n",
       "      <td>0</td>\n",
       "      <td>India</td>\n",
       "      <td>2653.0</td>\n",
       "      <td>Java;Python;Docker;Git;Kubernetes;Flask;Spring...</td>\n",
       "      <td>10</td>\n",
       "      <td>0</td>\n",
       "    </tr>\n",
       "    <tr>\n",
       "      <th>7783</th>\n",
       "      <td>&gt;35</td>\n",
       "      <td>No</td>\n",
       "      <td>Undergraduate</td>\n",
       "      <td>1</td>\n",
       "      <td>Man</td>\n",
       "      <td>No</td>\n",
       "      <td>Dev</td>\n",
       "      <td>39</td>\n",
       "      <td>27</td>\n",
       "      <td>Croatia</td>\n",
       "      <td>26124.0</td>\n",
       "      <td>SQL;Oracle</td>\n",
       "      <td>2</td>\n",
       "      <td>0</td>\n",
       "    </tr>\n",
       "    <tr>\n",
       "      <th>45964</th>\n",
       "      <td>&lt;35</td>\n",
       "      <td>No</td>\n",
       "      <td>Undergraduate</td>\n",
       "      <td>1</td>\n",
       "      <td>Man</td>\n",
       "      <td>No</td>\n",
       "      <td>Dev</td>\n",
       "      <td>17</td>\n",
       "      <td>10</td>\n",
       "      <td>Finland</td>\n",
       "      <td>44796.0</td>\n",
       "      <td>C#;Java;Python;Ansible;Docker;Unity 3D;Microso...</td>\n",
       "      <td>10</td>\n",
       "      <td>1</td>\n",
       "    </tr>\n",
       "    <tr>\n",
       "      <th>46025</th>\n",
       "      <td>&lt;35</td>\n",
       "      <td>No</td>\n",
       "      <td>Undergraduate</td>\n",
       "      <td>1</td>\n",
       "      <td>Man</td>\n",
       "      <td>No</td>\n",
       "      <td>Dev</td>\n",
       "      <td>17</td>\n",
       "      <td>10</td>\n",
       "      <td>Finland</td>\n",
       "      <td>44796.0</td>\n",
       "      <td>C#;Java;Python;Ansible;Docker;Unity 3D;Microso...</td>\n",
       "      <td>10</td>\n",
       "      <td>1</td>\n",
       "    </tr>\n",
       "  </tbody>\n",
       "</table>\n",
       "</div>"
      ],
      "text/plain": [
       "       Age Accessibility        EdLevel  Employment Gender MentalHealth  \\\n",
       "3134   >35            No  Undergraduate           1    Man           No   \n",
       "6652   >35            No         Master           0    Man           No   \n",
       "6664   >35            No         Master           0    Man           No   \n",
       "7280   <35            No  Undergraduate           1    Man           No   \n",
       "7329   <35            No  Undergraduate           1    Man           No   \n",
       "7783   >35            No  Undergraduate           1    Man           No   \n",
       "45964  <35            No  Undergraduate           1    Man           No   \n",
       "46025  <35            No  Undergraduate           1    Man           No   \n",
       "\n",
       "      MainBranch  YearsCode  YearsCodePro  Country  PreviousSalary  \\\n",
       "3134         Dev         39            27  Croatia         26124.0   \n",
       "6652         Dev         25            15    Italy        129718.0   \n",
       "6664         Dev         25            15    Italy        129718.0   \n",
       "7280         Dev          4             0    India          2653.0   \n",
       "7329         Dev          4             0    India          2653.0   \n",
       "7783         Dev         39            27  Croatia         26124.0   \n",
       "45964        Dev         17            10  Finland         44796.0   \n",
       "46025        Dev         17            10  Finland         44796.0   \n",
       "\n",
       "                                          HaveWorkedWith  ComputerSkills  \\\n",
       "3134                                          SQL;Oracle               2   \n",
       "6652   Go;Java;JavaScript;Kotlin;Node.js;Rust;TypeScr...              16   \n",
       "6664   Go;Java;JavaScript;Kotlin;Node.js;Rust;TypeScr...              16   \n",
       "7280   Java;Python;Docker;Git;Kubernetes;Flask;Spring...              10   \n",
       "7329   Java;Python;Docker;Git;Kubernetes;Flask;Spring...              10   \n",
       "7783                                          SQL;Oracle               2   \n",
       "45964  C#;Java;Python;Ansible;Docker;Unity 3D;Microso...              10   \n",
       "46025  C#;Java;Python;Ansible;Docker;Unity 3D;Microso...              10   \n",
       "\n",
       "       Employed  \n",
       "3134          0  \n",
       "6652          1  \n",
       "6664          1  \n",
       "7280          0  \n",
       "7329          0  \n",
       "7783          0  \n",
       "45964         1  \n",
       "46025         1  "
      ]
     },
     "execution_count": 6,
     "metadata": {},
     "output_type": "execute_result"
    }
   ],
   "source": [
    "df[df.duplicated(keep=False)]"
   ]
  },
  {
   "cell_type": "markdown",
   "id": "bd4bb9d0",
   "metadata": {},
   "source": [
    "Droping rows with null values together with duplicated rows"
   ]
  },
  {
   "cell_type": "code",
   "execution_count": 7,
   "id": "f59254c1",
   "metadata": {},
   "outputs": [],
   "source": [
    "df.dropna(inplace=True)"
   ]
  },
  {
   "cell_type": "code",
   "execution_count": 8,
   "id": "11f054a8",
   "metadata": {},
   "outputs": [],
   "source": [
    "df=df.drop_duplicates(keep='first', ignore_index=True)"
   ]
  },
  {
   "cell_type": "code",
   "execution_count": 9,
   "id": "9cbf3718",
   "metadata": {},
   "outputs": [
    {
     "data": {
      "text/plain": [
       "(73395, 14)"
      ]
     },
     "execution_count": 9,
     "metadata": {},
     "output_type": "execute_result"
    }
   ],
   "source": [
    "df.shape"
   ]
  },
  {
   "cell_type": "markdown",
   "id": "aa5bdd3f",
   "metadata": {},
   "source": [
    " #### Modelling\n",
    " \n",
    " \n",
    "In this step only the train set is used to fit the model, which in this case uses KNeighborsClassifier algorithm for classification from Scikit-learn. https://scikit-learn.org/stable/modules/neighbors.html#nearest-neighbors-classification And after that the test set is used to calculate the model's accuracy, in other words how well it performs. Accuracy is a fraction where any value closer to 1 is considered better, and 1 itself (100% accurate) is usually impossible."
   ]
  },
  {
   "cell_type": "markdown",
   "id": "6e767330",
   "metadata": {},
   "source": [
    "Assigning feature and target to variables"
   ]
  },
  {
   "cell_type": "code",
   "execution_count": 10,
   "id": "ecdcc73f",
   "metadata": {},
   "outputs": [],
   "source": [
    "X = df.drop(['Employed'],axis=1)\n",
    "y = df['Employed']"
   ]
  },
  {
   "cell_type": "markdown",
   "id": "da56f479",
   "metadata": {},
   "source": [
    "#### Using TF-IDF as a text tokenizer and vectorizer\n",
    "\n",
    "The goal of using tf-idf is that it not only focuses on the frequency of words present in a text, but also provides the weight of the words. Sklearn.feature_extraction.text.TfidFVectorizer. (n.d.). Scikit-learn. https://scikit-learn.org/stable/modules/generated/sklearn.feature_extraction.text.TfidfVectorizer.html#sklearn.feature_extraction.t"
   ]
  },
  {
   "cell_type": "code",
   "execution_count": 11,
   "id": "e3ff7ecb",
   "metadata": {},
   "outputs": [
    {
     "data": {
      "text/plain": [
       "(73395, 100)"
      ]
     },
     "execution_count": 11,
     "metadata": {},
     "output_type": "execute_result"
    }
   ],
   "source": [
    "tfidf_vectorizer = TfidfVectorizer(min_df=.01, use_idf =True, stop_words = 'english')\n",
    "tf_X_vectorized = tfidf_vectorizer.fit_transform(df['HaveWorkedWith']).toarray()\n",
    "tf_X_vectorized.shape"
   ]
  },
  {
   "cell_type": "markdown",
   "id": "bdf215e3",
   "metadata": {},
   "source": [
    "Make a dataframe of the vectorized data and view the result"
   ]
  },
  {
   "cell_type": "code",
   "execution_count": 12,
   "id": "01d4e264",
   "metadata": {},
   "outputs": [
    {
     "data": {
      "text/html": [
       "<div>\n",
       "<style scoped>\n",
       "    .dataframe tbody tr th:only-of-type {\n",
       "        vertical-align: middle;\n",
       "    }\n",
       "\n",
       "    .dataframe tbody tr th {\n",
       "        vertical-align: top;\n",
       "    }\n",
       "\n",
       "    .dataframe thead th {\n",
       "        text-align: right;\n",
       "    }\n",
       "</style>\n",
       "<table border=\"1\" class=\"dataframe\">\n",
       "  <thead>\n",
       "    <tr style=\"text-align: right;\">\n",
       "      <th></th>\n",
       "      <th>0</th>\n",
       "      <th>1</th>\n",
       "      <th>2</th>\n",
       "      <th>3</th>\n",
       "      <th>4</th>\n",
       "      <th>5</th>\n",
       "      <th>6</th>\n",
       "      <th>7</th>\n",
       "      <th>8</th>\n",
       "      <th>9</th>\n",
       "      <th>...</th>\n",
       "      <th>91</th>\n",
       "      <th>92</th>\n",
       "      <th>93</th>\n",
       "      <th>94</th>\n",
       "      <th>95</th>\n",
       "      <th>96</th>\n",
       "      <th>97</th>\n",
       "      <th>98</th>\n",
       "      <th>99</th>\n",
       "      <th>HaveWorkedWith</th>\n",
       "    </tr>\n",
       "  </thead>\n",
       "  <tbody>\n",
       "    <tr>\n",
       "      <th>43324</th>\n",
       "      <td>0.0</td>\n",
       "      <td>0.000000</td>\n",
       "      <td>0.0</td>\n",
       "      <td>0.00000</td>\n",
       "      <td>0.0</td>\n",
       "      <td>0.000000</td>\n",
       "      <td>0.0</td>\n",
       "      <td>0.000000</td>\n",
       "      <td>0.0</td>\n",
       "      <td>0.0</td>\n",
       "      <td>...</td>\n",
       "      <td>0.000000</td>\n",
       "      <td>0.0</td>\n",
       "      <td>0.0</td>\n",
       "      <td>0.337344</td>\n",
       "      <td>0.389447</td>\n",
       "      <td>0.000000</td>\n",
       "      <td>0.0</td>\n",
       "      <td>0.0</td>\n",
       "      <td>0.000000</td>\n",
       "      <td>HTML/CSS;Java;JavaScript;PHP;Python;SQL;VBA;np...</td>\n",
       "    </tr>\n",
       "    <tr>\n",
       "      <th>23426</th>\n",
       "      <td>0.0</td>\n",
       "      <td>0.000000</td>\n",
       "      <td>0.0</td>\n",
       "      <td>0.00000</td>\n",
       "      <td>0.0</td>\n",
       "      <td>0.000000</td>\n",
       "      <td>0.0</td>\n",
       "      <td>0.000000</td>\n",
       "      <td>0.0</td>\n",
       "      <td>0.0</td>\n",
       "      <td>...</td>\n",
       "      <td>0.000000</td>\n",
       "      <td>0.0</td>\n",
       "      <td>0.0</td>\n",
       "      <td>0.000000</td>\n",
       "      <td>0.000000</td>\n",
       "      <td>0.000000</td>\n",
       "      <td>0.0</td>\n",
       "      <td>0.0</td>\n",
       "      <td>0.000000</td>\n",
       "      <td>C;Ruby;Git</td>\n",
       "    </tr>\n",
       "    <tr>\n",
       "      <th>60373</th>\n",
       "      <td>0.0</td>\n",
       "      <td>0.000000</td>\n",
       "      <td>0.0</td>\n",
       "      <td>0.45535</td>\n",
       "      <td>0.0</td>\n",
       "      <td>0.162945</td>\n",
       "      <td>0.0</td>\n",
       "      <td>0.000000</td>\n",
       "      <td>0.0</td>\n",
       "      <td>0.0</td>\n",
       "      <td>...</td>\n",
       "      <td>0.000000</td>\n",
       "      <td>0.0</td>\n",
       "      <td>0.0</td>\n",
       "      <td>0.000000</td>\n",
       "      <td>0.000000</td>\n",
       "      <td>0.000000</td>\n",
       "      <td>0.0</td>\n",
       "      <td>0.0</td>\n",
       "      <td>0.000000</td>\n",
       "      <td>C#;HTML/CSS;JavaScript;Python;npm;ASP.NET;ASP....</td>\n",
       "    </tr>\n",
       "    <tr>\n",
       "      <th>14620</th>\n",
       "      <td>0.0</td>\n",
       "      <td>0.479453</td>\n",
       "      <td>0.0</td>\n",
       "      <td>0.00000</td>\n",
       "      <td>0.0</td>\n",
       "      <td>0.179255</td>\n",
       "      <td>0.0</td>\n",
       "      <td>0.000000</td>\n",
       "      <td>0.0</td>\n",
       "      <td>0.0</td>\n",
       "      <td>...</td>\n",
       "      <td>0.192624</td>\n",
       "      <td>0.0</td>\n",
       "      <td>0.0</td>\n",
       "      <td>0.000000</td>\n",
       "      <td>0.000000</td>\n",
       "      <td>0.275337</td>\n",
       "      <td>0.0</td>\n",
       "      <td>0.0</td>\n",
       "      <td>0.000000</td>\n",
       "      <td>HTML/CSS;JavaScript;Node.js;TypeScript;Git;Ang...</td>\n",
       "    </tr>\n",
       "    <tr>\n",
       "      <th>51967</th>\n",
       "      <td>0.0</td>\n",
       "      <td>0.291377</td>\n",
       "      <td>0.0</td>\n",
       "      <td>0.00000</td>\n",
       "      <td>0.0</td>\n",
       "      <td>0.217876</td>\n",
       "      <td>0.0</td>\n",
       "      <td>0.261023</td>\n",
       "      <td>0.0</td>\n",
       "      <td>0.0</td>\n",
       "      <td>...</td>\n",
       "      <td>0.234126</td>\n",
       "      <td>0.0</td>\n",
       "      <td>0.0</td>\n",
       "      <td>0.000000</td>\n",
       "      <td>0.000000</td>\n",
       "      <td>0.000000</td>\n",
       "      <td>0.0</td>\n",
       "      <td>0.0</td>\n",
       "      <td>0.303551</td>\n",
       "      <td>Bash/Shell;HTML/CSS;JavaScript;SQL;TypeScript;...</td>\n",
       "    </tr>\n",
       "  </tbody>\n",
       "</table>\n",
       "<p>5 rows × 101 columns</p>\n",
       "</div>"
      ],
      "text/plain": [
       "         0         1    2        3    4         5    6         7    8    9  \\\n",
       "43324  0.0  0.000000  0.0  0.00000  0.0  0.000000  0.0  0.000000  0.0  0.0   \n",
       "23426  0.0  0.000000  0.0  0.00000  0.0  0.000000  0.0  0.000000  0.0  0.0   \n",
       "60373  0.0  0.000000  0.0  0.45535  0.0  0.162945  0.0  0.000000  0.0  0.0   \n",
       "14620  0.0  0.479453  0.0  0.00000  0.0  0.179255  0.0  0.000000  0.0  0.0   \n",
       "51967  0.0  0.291377  0.0  0.00000  0.0  0.217876  0.0  0.261023  0.0  0.0   \n",
       "\n",
       "       ...        91   92   93        94        95        96   97   98  \\\n",
       "43324  ...  0.000000  0.0  0.0  0.337344  0.389447  0.000000  0.0  0.0   \n",
       "23426  ...  0.000000  0.0  0.0  0.000000  0.000000  0.000000  0.0  0.0   \n",
       "60373  ...  0.000000  0.0  0.0  0.000000  0.000000  0.000000  0.0  0.0   \n",
       "14620  ...  0.192624  0.0  0.0  0.000000  0.000000  0.275337  0.0  0.0   \n",
       "51967  ...  0.234126  0.0  0.0  0.000000  0.000000  0.000000  0.0  0.0   \n",
       "\n",
       "             99                                     HaveWorkedWith  \n",
       "43324  0.000000  HTML/CSS;Java;JavaScript;PHP;Python;SQL;VBA;np...  \n",
       "23426  0.000000                                         C;Ruby;Git  \n",
       "60373  0.000000  C#;HTML/CSS;JavaScript;Python;npm;ASP.NET;ASP....  \n",
       "14620  0.000000  HTML/CSS;JavaScript;Node.js;TypeScript;Git;Ang...  \n",
       "51967  0.303551  Bash/Shell;HTML/CSS;JavaScript;SQL;TypeScript;...  \n",
       "\n",
       "[5 rows x 101 columns]"
      ]
     },
     "execution_count": 12,
     "metadata": {},
     "output_type": "execute_result"
    }
   ],
   "source": [
    "X = pd.DataFrame(tf_X_vectorized)\n",
    "X['HaveWorkedWith'] = df[\"HaveWorkedWith\"].values\n",
    "y = df['Employed']\n",
    "X.sample(5)"
   ]
  },
  {
   "cell_type": "markdown",
   "id": "7f9c8893",
   "metadata": {},
   "source": [
    "Splitting train and test data. Train data takes 80% and Test 20%"
   ]
  },
  {
   "cell_type": "code",
   "execution_count": 13,
   "id": "d321d834",
   "metadata": {},
   "outputs": [
    {
     "name": "stdout",
     "output_type": "stream",
     "text": [
      "There are in total 73395 observations, of which 58716 are now in the train set, and 14679 in the test set.\n"
     ]
    }
   ],
   "source": [
    "from sklearn.model_selection import train_test_split\n",
    "X_train, X_test, y_train, y_test = train_test_split(X, y, test_size=0.2, random_state=80)\n",
    "print(\"There are in total\", len(X), \"observations, of which\", len(X_train), \"are now in the train set, and\", len(X_test), \"in the test set.\")"
   ]
  },
  {
   "cell_type": "code",
   "execution_count": 14,
   "id": "3513e989",
   "metadata": {},
   "outputs": [],
   "source": [
    "X_train = X_train.drop(['HaveWorkedWith'], axis=1)\n",
    "X_HaveWorkedWith_text = X_test['HaveWorkedWith']\n",
    "X_test = X_test.drop(['HaveWorkedWith'], axis=1)"
   ]
  },
  {
   "cell_type": "markdown",
   "id": "81d128e2",
   "metadata": {},
   "source": [
    "Running the model with KNeighborsClassifier"
   ]
  },
  {
   "cell_type": "code",
   "execution_count": 15,
   "id": "be8ed318",
   "metadata": {},
   "outputs": [
    {
     "name": "stdout",
     "output_type": "stream",
     "text": [
      "Accuracy: 0.8630696913958716\n"
     ]
    }
   ],
   "source": [
    "from sklearn.neighbors import KNeighborsClassifier\n",
    "model = KNeighborsClassifier()\n",
    "model.fit(X_train, y_train)\n",
    "score = model.score(X_test, y_test)\n",
    "\n",
    "print(\"Accuracy:\", score)"
   ]
  },
  {
   "cell_type": "markdown",
   "id": "00a102c7",
   "metadata": {},
   "source": [
    "Using KNN with Tfid FVectorizer we are getting an accuracy of 86%. We can run our model on train and test data and compare their classification results and check if this performance is not an overfitting or underfitting.\n",
    "\n",
    "We can see a difference of 5% on training and test data accuracy, so we can say that there is a slight overfitting. Next we will perform hyperparameters tuning and see if the performance will improve."
   ]
  },
  {
   "cell_type": "code",
   "execution_count": 16,
   "id": "5fb1f0ca",
   "metadata": {
    "scrolled": true
   },
   "outputs": [
    {
     "name": "stdout",
     "output_type": "stream",
     "text": [
      "              precision    recall  f1-score   support\n",
      "\n",
      "           0       0.89      0.92      0.91     27246\n",
      "           1       0.93      0.91      0.92     31470\n",
      "\n",
      "    accuracy                           0.91     58716\n",
      "   macro avg       0.91      0.91      0.91     58716\n",
      "weighted avg       0.91      0.91      0.91     58716\n",
      "\n",
      "              precision    recall  f1-score   support\n",
      "\n",
      "           0       0.84      0.87      0.85      6759\n",
      "           1       0.88      0.86      0.87      7920\n",
      "\n",
      "    accuracy                           0.86     14679\n",
      "   macro avg       0.86      0.86      0.86     14679\n",
      "weighted avg       0.86      0.86      0.86     14679\n",
      "\n"
     ]
    }
   ],
   "source": [
    "pred = model.predict(X_train.values)\n",
    "report= classification_report(y_train,pred)\n",
    "print(report)\n",
    "\n",
    "pred = model.predict(X_test.values)\n",
    "report= classification_report(y_test,pred)\n",
    "print(report)"
   ]
  },
  {
   "cell_type": "markdown",
   "id": "a6a8ed5f",
   "metadata": {},
   "source": [
    "In the above model we used default values of hyperparameters, for example n_neighbors (K) is 5 by default.\n",
    "\n",
    "Let's search an optimal K value which will improve our model with less error rate. We are going to run the KNeighborsClassifier model with K values in range 1 to 10 and visualize in a plot to see which K will produce minimal error rate."
   ]
  },
  {
   "cell_type": "code",
   "execution_count": 17,
   "id": "1726afae",
   "metadata": {},
   "outputs": [
    {
     "name": "stdout",
     "output_type": "stream",
     "text": [
      "Minimum error:  0.13182096873083998 at K = 9\n"
     ]
    },
    {
     "data": {
      "image/png": "[encoded data removed]",
      "text/plain": [
       "<Figure size 720x432 with 1 Axes>"
      ]
     },
     "metadata": {
      "needs_background": "light"
     },
     "output_type": "display_data"
    }
   ],
   "source": [
    "from sklearn import metrics\n",
    "acc=[]\n",
    "error_rate = []\n",
    "for i in range(1,10):\n",
    "    knn = KNeighborsClassifier(n_neighbors=i)\n",
    "    knn.fit(X_train,y_train)\n",
    "    pred_i = knn.predict(X_test)\n",
    "    error_rate.append(np.mean(pred_i != y_test))\n",
    "    acc.append(metrics.accuracy_score(y_test, pred_i))\n",
    "\n",
    "plt.figure(figsize=(10,6))\n",
    "plt.plot(range(1,10),error_rate,color='blue', linestyle='dashed', \n",
    "         marker='o',markerfacecolor='red', markersize=10)\n",
    "plt.title('Error Rate vs. K Value')\n",
    "plt.xlabel('K')\n",
    "plt.ylabel('Error Rate')\n",
    "print(\"Minimum error: \",min(error_rate),\"at K =\",error_rate.index(min(error_rate))+1)"
   ]
  },
  {
   "cell_type": "markdown",
   "id": "630ec38d",
   "metadata": {},
   "source": [
    "We find that at K=9 the model produces the lowest error rate of 0.13, and we are validating this by plotting the accuracy against K values and got the best accuracy of 86,8% when K=9"
   ]
  },
  {
   "cell_type": "code",
   "execution_count": 18,
   "id": "a6e00156",
   "metadata": {},
   "outputs": [
    {
     "name": "stdout",
     "output_type": "stream",
     "text": [
      "Maximum accuracy:  0.8681790312691601 at K = 9\n"
     ]
    },
    {
     "data": {
      "image/png": "[encoded data removed]",
      "text/plain": [
       "<Figure size 720x432 with 1 Axes>"
      ]
     },
     "metadata": {
      "needs_background": "light"
     },
     "output_type": "display_data"
    }
   ],
   "source": [
    "plt.figure(figsize=(10,6))\n",
    "plt.plot(range(1,10),acc,color='blue', linestyle='dashed', \n",
    "         marker='o',markerfacecolor='red', markersize=10)\n",
    "plt.title('accuracy vs. K Value')\n",
    "plt.xlabel('K')\n",
    "plt.ylabel('Accuracy')\n",
    "print(\"Maximum accuracy: \",max(acc),\"at K =\",acc.index(max(acc))+1)"
   ]
  },
  {
   "cell_type": "markdown",
   "id": "bafdee8f",
   "metadata": {},
   "source": [
    "Use the optimal K value of 9 and the model scored 86,8%"
   ]
  },
  {
   "cell_type": "code",
   "execution_count": 19,
   "id": "9f0624c3",
   "metadata": {},
   "outputs": [
    {
     "name": "stdout",
     "output_type": "stream",
     "text": [
      "Accuracy: 0.8681790312691601\n"
     ]
    }
   ],
   "source": [
    "from sklearn.neighbors import KNeighborsClassifier\n",
    "model = KNeighborsClassifier(n_neighbors=9)\n",
    "model.fit(X_train, y_train)\n",
    "score = model.score(X_test, y_test)\n",
    "\n",
    "print(\"Accuracy:\", score)"
   ]
  },
  {
   "cell_type": "markdown",
   "id": "a2fc8acf",
   "metadata": {},
   "source": [
    "We can now see that the model's performance slight improved by 0.08%"
   ]
  },
  {
   "cell_type": "code",
   "execution_count": 21,
   "id": "cc84da62",
   "metadata": {},
   "outputs": [
    {
     "name": "stdout",
     "output_type": "stream",
     "text": [
      "              precision    recall  f1-score   support\n",
      "\n",
      "           0       0.88      0.90      0.89     27246\n",
      "           1       0.91      0.89      0.90     31470\n",
      "\n",
      "    accuracy                           0.90     58716\n",
      "   macro avg       0.90      0.90      0.90     58716\n",
      "weighted avg       0.90      0.90      0.90     58716\n",
      "\n",
      "              precision    recall  f1-score   support\n",
      "\n",
      "           0       0.85      0.87      0.86      6759\n",
      "           1       0.89      0.86      0.88      7920\n",
      "\n",
      "    accuracy                           0.87     14679\n",
      "   macro avg       0.87      0.87      0.87     14679\n",
      "weighted avg       0.87      0.87      0.87     14679\n",
      "\n"
     ]
    }
   ],
   "source": [
    "pred = model.predict(X_train.values)\n",
    "report= classification_report(y_train,pred)\n",
    "print(report)\n",
    "\n",
    "pred = model.predict(X_test.values)\n",
    "report= classification_report(y_test,pred)\n",
    "print(report)"
   ]
  }
 ],
 "metadata": {
  "kernelspec": {
   "display_name": "Python 3",
   "language": "python",
   "name": "python3"
  },
  "language_info": {
   "codemirror_mode": {
    "name": "ipython",
    "version": 3
   },
   "file_extension": ".py",
   "mimetype": "text/x-python",
   "name": "python",
   "nbconvert_exporter": "python",
   "pygments_lexer": "ipython3",
   "version": "3.8.8"
  }
 },
 "nbformat": 4,
 "nbformat_minor": 5
}
