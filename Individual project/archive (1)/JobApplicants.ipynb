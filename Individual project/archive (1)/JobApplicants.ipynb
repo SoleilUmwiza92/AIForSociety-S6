{
 "cells": [
  {
   "cell_type": "markdown",
   "id": "ec517345",
   "metadata": {},
   "source": [
    "- Umwiza Soleil\n",
    "- Student number:4386019"
   ]
  },
  {
   "cell_type": "markdown",
   "id": "ac330cfc",
   "metadata": {},
   "source": [
    "## Data requirements \n",
    "\n",
    "To be able to implement my model, some data are required so that the model can be trained, tested and evaluated.\n",
    "  The following data elements will help me to achieve this goal:\n",
    "  \n",
    "  \n",
    "- Age: age of the applicant, >35 years old or <35 years old (categorical)\n",
    "- EdLevel: education level of the applicant (Undergraduate, Master, PhD…) (categorical)\n",
    "- Gender: gender of the applicant, (Man, Woman, or NonBinary) (categorical)\n",
    "- MainBranch: whether the applicant is a profesional developer (categorical)\n",
    "- YearsCode: how long the applicant has been coding (integer)\n",
    "- YearsCodePro: how long the applicant has been coding in a professional context, (integer)\n",
    "- PreviousSalary: the applicant's previous job salary (float)\n",
    "- ComputerSkills: number of computer skills known by the applicant (integer)\n",
    "- Employed: target variable, whether the applicant has been hired (categorical)\n",
    "\n"
   ]
  },
  {
   "cell_type": "markdown",
   "id": "4bc54468",
   "metadata": {},
   "source": [
    "## Data collection\n",
    "\n",
    "\n",
    "> This data is available publicly on Kaggle website, and can be downloaded freely\n",
    " 70K+ job applicants data (Human Resource). (2023, 10 juli). Kaggle. https://www.kaggle.com/datasets/ayushtankha/70k-job-applicants-data-human-resource"
   ]
  },
  {
   "cell_type": "code",
   "execution_count": null,
   "id": "264ea4c0",
   "metadata": {},
   "outputs": [],
   "source": [
    "import numpy as np\n",
    "import matplotlib \n",
    "import matplotlib.pyplot as plt\n",
    "import pandas as pd\n",
    "import seaborn as sns\n",
    "\n",
    "#import the ML libs\n",
    "import sklearn\n",
    "import warnings\n",
    "from sklearn.cluster import KMeans\n",
    "from sklearn.metrics import max_error\n",
    "from sklearn.metrics import mean_squared_error, mean_absolute_error\n",
    "from sklearn.linear_model import LinearRegression\n",
    "from sklearn.model_selection import train_test_split\n",
    "\n",
    "from sklearn.ensemble import RandomForestClassifier\n",
    "from sklearn.neighbors import KNeighborsClassifier\n",
    "from sklearn import metrics\n",
    "from sklearn.metrics import classification_report,accuracy_score,confusion_matrix\n",
    "from sklearn.metrics import classification_report\n",
    "from sklearn.model_selection import train_test_split, GridSearchCV\n",
    "from sklearn.feature_extraction.text import TfidfVectorizer\n",
    "\n",
    "warnings.filterwarnings('ignore')\n",
    "\n",
    "\n",
    "print(\"scikit-learn version:\", sklearn.__version__)    \n",
    "print(\"pandas version:\", pd.__version__)            \n",
    "print(\"seaborn version:\", sns.__version__)  \n",
    "print(\"matplotlib version:\", matplotlib.__version__) "
   ]
  },
  {
   "cell_type": "markdown",
   "id": "1a63de8f",
   "metadata": {},
   "source": [
    "#### Data understanding\n",
    "\n",
    "##### Exploratory Data Analysis"
   ]
  },
  {
   "cell_type": "markdown",
   "id": "f2c92b70",
   "metadata": {},
   "source": [
    " Below I am reading the dataset as a Pandas' dataframe and print its shape(number of rows and columns)"
   ]
  },
  {
   "cell_type": "code",
   "execution_count": 2,
   "id": "4512630c",
   "metadata": {},
   "outputs": [
    {
     "name": "stdout",
     "output_type": "stream",
     "text": [
      "(73462, 14)\n"
     ]
    }
   ],
   "source": [
    "df = pd.read_csv(\"JobPosting.csv\", index_col=0)\n",
    "print(df.shape)"
   ]
  },
  {
   "cell_type": "markdown",
   "id": "e01b111b",
   "metadata": {},
   "source": [
    "Viewing 10 random rows from the dataframe"
   ]
  },
  {
   "cell_type": "code",
   "execution_count": 3,
   "id": "c6272185",
   "metadata": {
    "scrolled": false
   },
   "outputs": [
    {
     "data": {
      "text/html": [
       "<div>\n",
       "<style scoped>\n",
       "    .dataframe tbody tr th:only-of-type {\n",
       "        vertical-align: middle;\n",
       "    }\n",
       "\n",
       "    .dataframe tbody tr th {\n",
       "        vertical-align: top;\n",
       "    }\n",
       "\n",
       "    .dataframe thead th {\n",
       "        text-align: right;\n",
       "    }\n",
       "</style>\n",
       "<table border=\"1\" class=\"dataframe\">\n",
       "  <thead>\n",
       "    <tr style=\"text-align: right;\">\n",
       "      <th></th>\n",
       "      <th>Age</th>\n",
       "      <th>Accessibility</th>\n",
       "      <th>EdLevel</th>\n",
       "      <th>Employment</th>\n",
       "      <th>Gender</th>\n",
       "      <th>MentalHealth</th>\n",
       "      <th>MainBranch</th>\n",
       "      <th>YearsCode</th>\n",
       "      <th>YearsCodePro</th>\n",
       "      <th>Country</th>\n",
       "      <th>PreviousSalary</th>\n",
       "      <th>HaveWorkedWith</th>\n",
       "      <th>ComputerSkills</th>\n",
       "      <th>Employed</th>\n",
       "    </tr>\n",
       "  </thead>\n",
       "  <tbody>\n",
       "    <tr>\n",
       "      <th>65474</th>\n",
       "      <td>&gt;35</td>\n",
       "      <td>No</td>\n",
       "      <td>Other</td>\n",
       "      <td>1</td>\n",
       "      <td>Man</td>\n",
       "      <td>No</td>\n",
       "      <td>Dev</td>\n",
       "      <td>20</td>\n",
       "      <td>18</td>\n",
       "      <td>Russian Federation</td>\n",
       "      <td>62340.0</td>\n",
       "      <td>Go;Docker;Kubernetes;ASP.NET Core ;Microsoft S...</td>\n",
       "      <td>7</td>\n",
       "      <td>0</td>\n",
       "    </tr>\n",
       "    <tr>\n",
       "      <th>48909</th>\n",
       "      <td>&gt;35</td>\n",
       "      <td>No</td>\n",
       "      <td>Other</td>\n",
       "      <td>1</td>\n",
       "      <td>Man</td>\n",
       "      <td>No</td>\n",
       "      <td>Dev</td>\n",
       "      <td>35</td>\n",
       "      <td>30</td>\n",
       "      <td>Netherlands</td>\n",
       "      <td>99816.0</td>\n",
       "      <td>Assembly;C;C++;Delphi;HTML/CSS;JavaScript;Home...</td>\n",
       "      <td>11</td>\n",
       "      <td>1</td>\n",
       "    </tr>\n",
       "    <tr>\n",
       "      <th>25406</th>\n",
       "      <td>&lt;35</td>\n",
       "      <td>No</td>\n",
       "      <td>Undergraduate</td>\n",
       "      <td>1</td>\n",
       "      <td>Man</td>\n",
       "      <td>Yes</td>\n",
       "      <td>Dev</td>\n",
       "      <td>10</td>\n",
       "      <td>0</td>\n",
       "      <td>United States of America</td>\n",
       "      <td>55000.0</td>\n",
       "      <td>Bash/Shell;HTML/CSS;JavaScript;Kotlin;TypeScri...</td>\n",
       "      <td>8</td>\n",
       "      <td>0</td>\n",
       "    </tr>\n",
       "    <tr>\n",
       "      <th>1348</th>\n",
       "      <td>&lt;35</td>\n",
       "      <td>No</td>\n",
       "      <td>Undergraduate</td>\n",
       "      <td>1</td>\n",
       "      <td>Man</td>\n",
       "      <td>Yes</td>\n",
       "      <td>Dev</td>\n",
       "      <td>15</td>\n",
       "      <td>4</td>\n",
       "      <td>Germany</td>\n",
       "      <td>54480.0</td>\n",
       "      <td>Bash/Shell;C#;C++;HTML/CSS;Java;Python;SQL;Doc...</td>\n",
       "      <td>16</td>\n",
       "      <td>1</td>\n",
       "    </tr>\n",
       "    <tr>\n",
       "      <th>10794</th>\n",
       "      <td>&lt;35</td>\n",
       "      <td>No</td>\n",
       "      <td>Undergraduate</td>\n",
       "      <td>1</td>\n",
       "      <td>Man</td>\n",
       "      <td>No</td>\n",
       "      <td>Dev</td>\n",
       "      <td>9</td>\n",
       "      <td>6</td>\n",
       "      <td>United States of America</td>\n",
       "      <td>140000.0</td>\n",
       "      <td>C#;HTML/CSS;JavaScript;Node.js;PowerShell;Type...</td>\n",
       "      <td>17</td>\n",
       "      <td>1</td>\n",
       "    </tr>\n",
       "    <tr>\n",
       "      <th>6015</th>\n",
       "      <td>&lt;35</td>\n",
       "      <td>No</td>\n",
       "      <td>Undergraduate</td>\n",
       "      <td>1</td>\n",
       "      <td>Man</td>\n",
       "      <td>No</td>\n",
       "      <td>Dev</td>\n",
       "      <td>7</td>\n",
       "      <td>6</td>\n",
       "      <td>India</td>\n",
       "      <td>18150.0</td>\n",
       "      <td>HTML/CSS;JavaScript;PHP;Git;Angular;Angular.js...</td>\n",
       "      <td>8</td>\n",
       "      <td>0</td>\n",
       "    </tr>\n",
       "    <tr>\n",
       "      <th>6869</th>\n",
       "      <td>&lt;35</td>\n",
       "      <td>No</td>\n",
       "      <td>Master</td>\n",
       "      <td>1</td>\n",
       "      <td>Man</td>\n",
       "      <td>Yes</td>\n",
       "      <td>Dev</td>\n",
       "      <td>8</td>\n",
       "      <td>1</td>\n",
       "      <td>Italy</td>\n",
       "      <td>20760.0</td>\n",
       "      <td>Bash/Shell;C;Erlang;Haskell;HTML/CSS;Java;Java...</td>\n",
       "      <td>16</td>\n",
       "      <td>1</td>\n",
       "    </tr>\n",
       "    <tr>\n",
       "      <th>58344</th>\n",
       "      <td>&gt;35</td>\n",
       "      <td>No</td>\n",
       "      <td>Undergraduate</td>\n",
       "      <td>0</td>\n",
       "      <td>Man</td>\n",
       "      <td>Yes</td>\n",
       "      <td>Dev</td>\n",
       "      <td>28</td>\n",
       "      <td>28</td>\n",
       "      <td>United States of America</td>\n",
       "      <td>110000.0</td>\n",
       "      <td>HTML/CSS;JavaScript;PHP;SQL;Homebrew;jQuery;La...</td>\n",
       "      <td>12</td>\n",
       "      <td>0</td>\n",
       "    </tr>\n",
       "    <tr>\n",
       "      <th>61460</th>\n",
       "      <td>&lt;35</td>\n",
       "      <td>No</td>\n",
       "      <td>Undergraduate</td>\n",
       "      <td>0</td>\n",
       "      <td>Man</td>\n",
       "      <td>Yes</td>\n",
       "      <td>Dev</td>\n",
       "      <td>4</td>\n",
       "      <td>2</td>\n",
       "      <td>Kenya</td>\n",
       "      <td>10296.0</td>\n",
       "      <td>C;HTML/CSS;Java;JavaScript;PHP;Python;TypeScri...</td>\n",
       "      <td>21</td>\n",
       "      <td>1</td>\n",
       "    </tr>\n",
       "    <tr>\n",
       "      <th>33054</th>\n",
       "      <td>&lt;35</td>\n",
       "      <td>No</td>\n",
       "      <td>Undergraduate</td>\n",
       "      <td>1</td>\n",
       "      <td>Man</td>\n",
       "      <td>Yes</td>\n",
       "      <td>Dev</td>\n",
       "      <td>9</td>\n",
       "      <td>7</td>\n",
       "      <td>United States of America</td>\n",
       "      <td>135000.0</td>\n",
       "      <td>Go;HTML/CSS;JavaScript;TypeScript;Docker;Git;Y...</td>\n",
       "      <td>12</td>\n",
       "      <td>0</td>\n",
       "    </tr>\n",
       "  </tbody>\n",
       "</table>\n",
       "</div>"
      ],
      "text/plain": [
       "       Age Accessibility        EdLevel  Employment Gender MentalHealth  \\\n",
       "65474  >35            No          Other           1    Man           No   \n",
       "48909  >35            No          Other           1    Man           No   \n",
       "25406  <35            No  Undergraduate           1    Man          Yes   \n",
       "1348   <35            No  Undergraduate           1    Man          Yes   \n",
       "10794  <35            No  Undergraduate           1    Man           No   \n",
       "6015   <35            No  Undergraduate           1    Man           No   \n",
       "6869   <35            No         Master           1    Man          Yes   \n",
       "58344  >35            No  Undergraduate           0    Man          Yes   \n",
       "61460  <35            No  Undergraduate           0    Man          Yes   \n",
       "33054  <35            No  Undergraduate           1    Man          Yes   \n",
       "\n",
       "      MainBranch  YearsCode  YearsCodePro                   Country  \\\n",
       "65474        Dev         20            18        Russian Federation   \n",
       "48909        Dev         35            30               Netherlands   \n",
       "25406        Dev         10             0  United States of America   \n",
       "1348         Dev         15             4                   Germany   \n",
       "10794        Dev          9             6  United States of America   \n",
       "6015         Dev          7             6                     India   \n",
       "6869         Dev          8             1                     Italy   \n",
       "58344        Dev         28            28  United States of America   \n",
       "61460        Dev          4             2                     Kenya   \n",
       "33054        Dev          9             7  United States of America   \n",
       "\n",
       "       PreviousSalary                                     HaveWorkedWith  \\\n",
       "65474         62340.0  Go;Docker;Kubernetes;ASP.NET Core ;Microsoft S...   \n",
       "48909         99816.0  Assembly;C;C++;Delphi;HTML/CSS;JavaScript;Home...   \n",
       "25406         55000.0  Bash/Shell;HTML/CSS;JavaScript;Kotlin;TypeScri...   \n",
       "1348          54480.0  Bash/Shell;C#;C++;HTML/CSS;Java;Python;SQL;Doc...   \n",
       "10794        140000.0  C#;HTML/CSS;JavaScript;Node.js;PowerShell;Type...   \n",
       "6015          18150.0  HTML/CSS;JavaScript;PHP;Git;Angular;Angular.js...   \n",
       "6869          20760.0  Bash/Shell;C;Erlang;Haskell;HTML/CSS;Java;Java...   \n",
       "58344        110000.0  HTML/CSS;JavaScript;PHP;SQL;Homebrew;jQuery;La...   \n",
       "61460         10296.0  C;HTML/CSS;Java;JavaScript;PHP;Python;TypeScri...   \n",
       "33054        135000.0  Go;HTML/CSS;JavaScript;TypeScript;Docker;Git;Y...   \n",
       "\n",
       "       ComputerSkills  Employed  \n",
       "65474               7         0  \n",
       "48909              11         1  \n",
       "25406               8         0  \n",
       "1348               16         1  \n",
       "10794              17         1  \n",
       "6015                8         0  \n",
       "6869               16         1  \n",
       "58344              12         0  \n",
       "61460              21         1  \n",
       "33054              12         0  "
      ]
     },
     "execution_count": 3,
     "metadata": {},
     "output_type": "execute_result"
    }
   ],
   "source": [
    "df.sample(10)"
   ]
  },
  {
   "cell_type": "markdown",
   "id": "4c6c1699",
   "metadata": {},
   "source": [
    "Here I am globally looking at the data. I did that by printing the data info."
   ]
  },
  {
   "cell_type": "code",
   "execution_count": 4,
   "id": "60c19f33",
   "metadata": {},
   "outputs": [
    {
     "name": "stdout",
     "output_type": "stream",
     "text": [
      "<class 'pandas.core.frame.DataFrame'>\n",
      "Int64Index: 73462 entries, 0 to 73461\n",
      "Data columns (total 14 columns):\n",
      " #   Column          Non-Null Count  Dtype  \n",
      "---  ------          --------------  -----  \n",
      " 0   Age             73462 non-null  object \n",
      " 1   Accessibility   73462 non-null  object \n",
      " 2   EdLevel         73462 non-null  object \n",
      " 3   Employment      73462 non-null  int64  \n",
      " 4   Gender          73462 non-null  object \n",
      " 5   MentalHealth    73462 non-null  object \n",
      " 6   MainBranch      73462 non-null  object \n",
      " 7   YearsCode       73462 non-null  int64  \n",
      " 8   YearsCodePro    73462 non-null  int64  \n",
      " 9   Country         73462 non-null  object \n",
      " 10  PreviousSalary  73462 non-null  float64\n",
      " 11  HaveWorkedWith  73399 non-null  object \n",
      " 12  ComputerSkills  73462 non-null  int64  \n",
      " 13  Employed        73462 non-null  int64  \n",
      "dtypes: float64(1), int64(5), object(8)\n",
      "memory usage: 8.4+ MB\n"
     ]
    }
   ],
   "source": [
    "df.info()"
   ]
  },
  {
   "cell_type": "markdown",
   "id": "2d1e5d8e",
   "metadata": {},
   "source": [
    "From the result above We can see that non-null for the column `HaveWorkedWith` are less than rest of the columns.\n",
    "Below we are looking at the number of rows where the column has null values."
   ]
  },
  {
   "cell_type": "code",
   "execution_count": 5,
   "id": "bfffb9f5",
   "metadata": {},
   "outputs": [
    {
     "data": {
      "text/plain": [
       "Age                0\n",
       "Accessibility      0\n",
       "EdLevel            0\n",
       "Employment         0\n",
       "Gender             0\n",
       "MentalHealth       0\n",
       "MainBranch         0\n",
       "YearsCode          0\n",
       "YearsCodePro       0\n",
       "Country            0\n",
       "PreviousSalary     0\n",
       "HaveWorkedWith    63\n",
       "ComputerSkills     0\n",
       "Employed           0\n",
       "dtype: int64"
      ]
     },
     "execution_count": 5,
     "metadata": {},
     "output_type": "execute_result"
    }
   ],
   "source": [
    "df.isnull().sum()"
   ]
  },
  {
   "cell_type": "markdown",
   "id": "68f7bb3a",
   "metadata": {},
   "source": [
    "Checking the number of occurrences of each educational level"
   ]
  },
  {
   "cell_type": "code",
   "execution_count": 6,
   "id": "3e0126e7",
   "metadata": {},
   "outputs": [
    {
     "data": {
      "image/png": "[encoded data removed]",
      "text/plain": [
       "<Figure size 720x432 with 1 Axes>"
      ]
     },
     "metadata": {
      "needs_background": "light"
     },
     "output_type": "display_data"
    }
   ],
   "source": [
    "\n",
    "education_counts = df['EdLevel'].value_counts()\n",
    "\n",
    "# Plot the data\n",
    "plt.figure(figsize=(10, 6))\n",
    "sns.barplot(x=education_counts.index, y=education_counts.values, palette='viridis')\n",
    "plt.title('Distribution of Educational Levels among Applicants')\n",
    "plt.xlabel('Educational Level')\n",
    "plt.ylabel('Number of Applicants')\n",
    "plt.xticks(rotation=45)\n",
    "plt.show()"
   ]
  },
  {
   "cell_type": "code",
   "execution_count": 7,
   "id": "86659697",
   "metadata": {},
   "outputs": [
    {
     "data": {
      "image/png": "[encoded data removed]",
      "text/plain": [
       "<Figure size 576x576 with 1 Axes>"
      ]
     },
     "metadata": {},
     "output_type": "display_data"
    }
   ],
   "source": [
    "# Count occurrences of each gender\n",
    "gender_counts = df['Gender'].value_counts()\n",
    "\n",
    "# Create pie chart\n",
    "plt.figure(figsize=(8, 8))\n",
    "plt.pie(gender_counts, labels=gender_counts.index, autopct='%1.1f%%', startangle=140, colors=['lightblue', 'lightpink'])\n",
    "plt.title('Gender Distribution of Applicants')\n",
    "plt.axis('equal')  # Equal aspect ratio ensures that pie is drawn as a circle.\n",
    "plt.legend(gender_counts.index, title=\"Gender\", loc=\"center left\", bbox_to_anchor=(1, 0, 0.5, 1))\n",
    "plt.show()"
   ]
  },
  {
   "cell_type": "markdown",
   "id": "56f15124",
   "metadata": {},
   "source": [
    " Above we see that a significantly larger portion of the pie chart represents male applicants compared to female applicants, we can conclude that more men are applying for the job compared to women."
   ]
  },
  {
   "cell_type": "code",
   "execution_count": 8,
   "id": "fa7967c7",
   "metadata": {},
   "outputs": [
    {
     "data": {
      "image/png": "[encoded data removed]",
      "text/plain": [
       "<Figure size 720x432 with 1 Axes>"
      ]
     },
     "metadata": {
      "needs_background": "light"
     },
     "output_type": "display_data"
    }
   ],
   "source": [
    "# Create histogram\n",
    "plt.figure(figsize=(10, 6))\n",
    "plt.hist(df['YearsCodePro'], bins=10, edgecolor='black', color='skyblue')\n",
    "plt.title('Distribution of Applicants\\' Professional Coding Experience')\n",
    "plt.xlabel('Years of Experience')\n",
    "plt.ylabel('Number of Applicants')\n",
    "plt.grid(axis='y', alpha=0.75)\n",
    "plt.show()"
   ]
  },
  {
   "cell_type": "markdown",
   "id": "0eca32e2",
   "metadata": {},
   "source": [
    "Checking duplicate rows in the dataset"
   ]
  },
  {
   "cell_type": "code",
   "execution_count": 9,
   "id": "14d3611b",
   "metadata": {},
   "outputs": [
    {
     "data": {
      "text/html": [
       "<div>\n",
       "<style scoped>\n",
       "    .dataframe tbody tr th:only-of-type {\n",
       "        vertical-align: middle;\n",
       "    }\n",
       "\n",
       "    .dataframe tbody tr th {\n",
       "        vertical-align: top;\n",
       "    }\n",
       "\n",
       "    .dataframe thead th {\n",
       "        text-align: right;\n",
       "    }\n",
       "</style>\n",
       "<table border=\"1\" class=\"dataframe\">\n",
       "  <thead>\n",
       "    <tr style=\"text-align: right;\">\n",
       "      <th></th>\n",
       "      <th>Age</th>\n",
       "      <th>Accessibility</th>\n",
       "      <th>EdLevel</th>\n",
       "      <th>Employment</th>\n",
       "      <th>Gender</th>\n",
       "      <th>MentalHealth</th>\n",
       "      <th>MainBranch</th>\n",
       "      <th>YearsCode</th>\n",
       "      <th>YearsCodePro</th>\n",
       "      <th>Country</th>\n",
       "      <th>PreviousSalary</th>\n",
       "      <th>HaveWorkedWith</th>\n",
       "      <th>ComputerSkills</th>\n",
       "      <th>Employed</th>\n",
       "    </tr>\n",
       "  </thead>\n",
       "  <tbody>\n",
       "    <tr>\n",
       "      <th>3134</th>\n",
       "      <td>&gt;35</td>\n",
       "      <td>No</td>\n",
       "      <td>Undergraduate</td>\n",
       "      <td>1</td>\n",
       "      <td>Man</td>\n",
       "      <td>No</td>\n",
       "      <td>Dev</td>\n",
       "      <td>39</td>\n",
       "      <td>27</td>\n",
       "      <td>Croatia</td>\n",
       "      <td>26124.0</td>\n",
       "      <td>SQL;Oracle</td>\n",
       "      <td>2</td>\n",
       "      <td>0</td>\n",
       "    </tr>\n",
       "    <tr>\n",
       "      <th>6652</th>\n",
       "      <td>&gt;35</td>\n",
       "      <td>No</td>\n",
       "      <td>Master</td>\n",
       "      <td>0</td>\n",
       "      <td>Man</td>\n",
       "      <td>No</td>\n",
       "      <td>Dev</td>\n",
       "      <td>25</td>\n",
       "      <td>15</td>\n",
       "      <td>Italy</td>\n",
       "      <td>129718.0</td>\n",
       "      <td>Go;Java;JavaScript;Kotlin;Node.js;Rust;TypeScr...</td>\n",
       "      <td>16</td>\n",
       "      <td>1</td>\n",
       "    </tr>\n",
       "    <tr>\n",
       "      <th>6664</th>\n",
       "      <td>&gt;35</td>\n",
       "      <td>No</td>\n",
       "      <td>Master</td>\n",
       "      <td>0</td>\n",
       "      <td>Man</td>\n",
       "      <td>No</td>\n",
       "      <td>Dev</td>\n",
       "      <td>25</td>\n",
       "      <td>15</td>\n",
       "      <td>Italy</td>\n",
       "      <td>129718.0</td>\n",
       "      <td>Go;Java;JavaScript;Kotlin;Node.js;Rust;TypeScr...</td>\n",
       "      <td>16</td>\n",
       "      <td>1</td>\n",
       "    </tr>\n",
       "    <tr>\n",
       "      <th>7280</th>\n",
       "      <td>&lt;35</td>\n",
       "      <td>No</td>\n",
       "      <td>Undergraduate</td>\n",
       "      <td>1</td>\n",
       "      <td>Man</td>\n",
       "      <td>No</td>\n",
       "      <td>Dev</td>\n",
       "      <td>4</td>\n",
       "      <td>0</td>\n",
       "      <td>India</td>\n",
       "      <td>2653.0</td>\n",
       "      <td>Java;Python;Docker;Git;Kubernetes;Flask;Spring...</td>\n",
       "      <td>10</td>\n",
       "      <td>0</td>\n",
       "    </tr>\n",
       "    <tr>\n",
       "      <th>7329</th>\n",
       "      <td>&lt;35</td>\n",
       "      <td>No</td>\n",
       "      <td>Undergraduate</td>\n",
       "      <td>1</td>\n",
       "      <td>Man</td>\n",
       "      <td>No</td>\n",
       "      <td>Dev</td>\n",
       "      <td>4</td>\n",
       "      <td>0</td>\n",
       "      <td>India</td>\n",
       "      <td>2653.0</td>\n",
       "      <td>Java;Python;Docker;Git;Kubernetes;Flask;Spring...</td>\n",
       "      <td>10</td>\n",
       "      <td>0</td>\n",
       "    </tr>\n",
       "    <tr>\n",
       "      <th>7783</th>\n",
       "      <td>&gt;35</td>\n",
       "      <td>No</td>\n",
       "      <td>Undergraduate</td>\n",
       "      <td>1</td>\n",
       "      <td>Man</td>\n",
       "      <td>No</td>\n",
       "      <td>Dev</td>\n",
       "      <td>39</td>\n",
       "      <td>27</td>\n",
       "      <td>Croatia</td>\n",
       "      <td>26124.0</td>\n",
       "      <td>SQL;Oracle</td>\n",
       "      <td>2</td>\n",
       "      <td>0</td>\n",
       "    </tr>\n",
       "    <tr>\n",
       "      <th>45964</th>\n",
       "      <td>&lt;35</td>\n",
       "      <td>No</td>\n",
       "      <td>Undergraduate</td>\n",
       "      <td>1</td>\n",
       "      <td>Man</td>\n",
       "      <td>No</td>\n",
       "      <td>Dev</td>\n",
       "      <td>17</td>\n",
       "      <td>10</td>\n",
       "      <td>Finland</td>\n",
       "      <td>44796.0</td>\n",
       "      <td>C#;Java;Python;Ansible;Docker;Unity 3D;Microso...</td>\n",
       "      <td>10</td>\n",
       "      <td>1</td>\n",
       "    </tr>\n",
       "    <tr>\n",
       "      <th>46025</th>\n",
       "      <td>&lt;35</td>\n",
       "      <td>No</td>\n",
       "      <td>Undergraduate</td>\n",
       "      <td>1</td>\n",
       "      <td>Man</td>\n",
       "      <td>No</td>\n",
       "      <td>Dev</td>\n",
       "      <td>17</td>\n",
       "      <td>10</td>\n",
       "      <td>Finland</td>\n",
       "      <td>44796.0</td>\n",
       "      <td>C#;Java;Python;Ansible;Docker;Unity 3D;Microso...</td>\n",
       "      <td>10</td>\n",
       "      <td>1</td>\n",
       "    </tr>\n",
       "  </tbody>\n",
       "</table>\n",
       "</div>"
      ],
      "text/plain": [
       "       Age Accessibility        EdLevel  Employment Gender MentalHealth  \\\n",
       "3134   >35            No  Undergraduate           1    Man           No   \n",
       "6652   >35            No         Master           0    Man           No   \n",
       "6664   >35            No         Master           0    Man           No   \n",
       "7280   <35            No  Undergraduate           1    Man           No   \n",
       "7329   <35            No  Undergraduate           1    Man           No   \n",
       "7783   >35            No  Undergraduate           1    Man           No   \n",
       "45964  <35            No  Undergraduate           1    Man           No   \n",
       "46025  <35            No  Undergraduate           1    Man           No   \n",
       "\n",
       "      MainBranch  YearsCode  YearsCodePro  Country  PreviousSalary  \\\n",
       "3134         Dev         39            27  Croatia         26124.0   \n",
       "6652         Dev         25            15    Italy        129718.0   \n",
       "6664         Dev         25            15    Italy        129718.0   \n",
       "7280         Dev          4             0    India          2653.0   \n",
       "7329         Dev          4             0    India          2653.0   \n",
       "7783         Dev         39            27  Croatia         26124.0   \n",
       "45964        Dev         17            10  Finland         44796.0   \n",
       "46025        Dev         17            10  Finland         44796.0   \n",
       "\n",
       "                                          HaveWorkedWith  ComputerSkills  \\\n",
       "3134                                          SQL;Oracle               2   \n",
       "6652   Go;Java;JavaScript;Kotlin;Node.js;Rust;TypeScr...              16   \n",
       "6664   Go;Java;JavaScript;Kotlin;Node.js;Rust;TypeScr...              16   \n",
       "7280   Java;Python;Docker;Git;Kubernetes;Flask;Spring...              10   \n",
       "7329   Java;Python;Docker;Git;Kubernetes;Flask;Spring...              10   \n",
       "7783                                          SQL;Oracle               2   \n",
       "45964  C#;Java;Python;Ansible;Docker;Unity 3D;Microso...              10   \n",
       "46025  C#;Java;Python;Ansible;Docker;Unity 3D;Microso...              10   \n",
       "\n",
       "       Employed  \n",
       "3134          0  \n",
       "6652          1  \n",
       "6664          1  \n",
       "7280          0  \n",
       "7329          0  \n",
       "7783          0  \n",
       "45964         1  \n",
       "46025         1  "
      ]
     },
     "execution_count": 9,
     "metadata": {},
     "output_type": "execute_result"
    }
   ],
   "source": [
    "df[df.duplicated(keep=False)]"
   ]
  },
  {
   "cell_type": "markdown",
   "id": "0ba558bf",
   "metadata": {},
   "source": [
    "# Predictions"
   ]
  },
  {
   "cell_type": "markdown",
   "id": "edb696eb",
   "metadata": {},
   "source": [
    "## ⚙️ Preprocessing"
   ]
  },
  {
   "cell_type": "markdown",
   "id": "bd4bb9d0",
   "metadata": {},
   "source": [
    "Droping rows with null values together with duplicated rows"
   ]
  },
  {
   "cell_type": "code",
   "execution_count": 10,
   "id": "f59254c1",
   "metadata": {},
   "outputs": [],
   "source": [
    "df.dropna(inplace=True)"
   ]
  },
  {
   "cell_type": "code",
   "execution_count": 11,
   "id": "11f054a8",
   "metadata": {},
   "outputs": [],
   "source": [
    "df=df.drop_duplicates(keep='first', ignore_index=True)"
   ]
  },
  {
   "cell_type": "code",
   "execution_count": 12,
   "id": "9cbf3718",
   "metadata": {},
   "outputs": [
    {
     "data": {
      "text/plain": [
       "(73395, 14)"
      ]
     },
     "execution_count": 12,
     "metadata": {},
     "output_type": "execute_result"
    }
   ],
   "source": [
    "df.shape"
   ]
  },
  {
   "cell_type": "markdown",
   "id": "aa5bdd3f",
   "metadata": {},
   "source": [
    " # 🧬 Modelling\n",
    " \n",
    "In this step only the train set is used to fit the model, which in this case uses KNeighborsClassifier algorithm for classification from Scikit-learn. https://scikit-learn.org/stable/modules/neighbors.html#nearest-neighbors-classification And after that the test set is used to calculate the model's accuracy, in other words how well it performs. Accuracy is a fraction where any value closer to 1 is considered better, and 1 itself (100% accurate) is usually impossible."
   ]
  },
  {
   "cell_type": "markdown",
   "id": "6e767330",
   "metadata": {},
   "source": [
    "Assigning feature and target to variables"
   ]
  },
  {
   "cell_type": "code",
   "execution_count": 13,
   "id": "ecdcc73f",
   "metadata": {},
   "outputs": [],
   "source": [
    "X = df.drop(['Employed'],axis=1)\n",
    "y = df['Employed']"
   ]
  },
  {
   "cell_type": "markdown",
   "id": "da56f479",
   "metadata": {},
   "source": [
    "#### Using TF-IDF as a text tokenizer and vectorizer\n",
    "\n",
    "The goal of using tf-idf is that it not only focuses on the frequency of words present in a text, but also provides the weight of the words. Sklearn.feature_extraction.text.TfidFVectorizer. (n.d.). Scikit-learn. https://scikit-learn.org/stable/modules/generated/sklearn.feature_extraction.text.TfidfVectorizer.html#sklearn.feature_extraction.t"
   ]
  },
  {
   "cell_type": "code",
   "execution_count": 14,
   "id": "e3ff7ecb",
   "metadata": {},
   "outputs": [
    {
     "data": {
      "text/plain": [
       "(73395, 100)"
      ]
     },
     "execution_count": 14,
     "metadata": {},
     "output_type": "execute_result"
    }
   ],
   "source": [
    "tfidf_vectorizer = TfidfVectorizer(min_df=.01, use_idf =True, stop_words = 'english')\n",
    "tf_X_vectorized = tfidf_vectorizer.fit_transform(df['HaveWorkedWith']).toarray()\n",
    "tf_X_vectorized.shape"
   ]
  },
  {
   "cell_type": "markdown",
   "id": "bdf215e3",
   "metadata": {},
   "source": [
    "Make a dataframe of the vectorized data and view the result"
   ]
  },
  {
   "cell_type": "code",
   "execution_count": 15,
   "id": "01d4e264",
   "metadata": {},
   "outputs": [
    {
     "data": {
      "text/html": [
       "<div>\n",
       "<style scoped>\n",
       "    .dataframe tbody tr th:only-of-type {\n",
       "        vertical-align: middle;\n",
       "    }\n",
       "\n",
       "    .dataframe tbody tr th {\n",
       "        vertical-align: top;\n",
       "    }\n",
       "\n",
       "    .dataframe thead th {\n",
       "        text-align: right;\n",
       "    }\n",
       "</style>\n",
       "<table border=\"1\" class=\"dataframe\">\n",
       "  <thead>\n",
       "    <tr style=\"text-align: right;\">\n",
       "      <th></th>\n",
       "      <th>0</th>\n",
       "      <th>1</th>\n",
       "      <th>2</th>\n",
       "      <th>3</th>\n",
       "      <th>4</th>\n",
       "      <th>5</th>\n",
       "      <th>6</th>\n",
       "      <th>7</th>\n",
       "      <th>8</th>\n",
       "      <th>9</th>\n",
       "      <th>...</th>\n",
       "      <th>91</th>\n",
       "      <th>92</th>\n",
       "      <th>93</th>\n",
       "      <th>94</th>\n",
       "      <th>95</th>\n",
       "      <th>96</th>\n",
       "      <th>97</th>\n",
       "      <th>98</th>\n",
       "      <th>99</th>\n",
       "      <th>HaveWorkedWith</th>\n",
       "    </tr>\n",
       "  </thead>\n",
       "  <tbody>\n",
       "    <tr>\n",
       "      <th>69957</th>\n",
       "      <td>0.000000</td>\n",
       "      <td>0.000000</td>\n",
       "      <td>0.0</td>\n",
       "      <td>0.000000</td>\n",
       "      <td>0.0</td>\n",
       "      <td>0.151133</td>\n",
       "      <td>0.000000</td>\n",
       "      <td>0.181062</td>\n",
       "      <td>0.0</td>\n",
       "      <td>0.0</td>\n",
       "      <td>...</td>\n",
       "      <td>0.000000</td>\n",
       "      <td>0.000000</td>\n",
       "      <td>0.0</td>\n",
       "      <td>0.000000</td>\n",
       "      <td>0.0</td>\n",
       "      <td>0.000000</td>\n",
       "      <td>0.0</td>\n",
       "      <td>0.0</td>\n",
       "      <td>0.000000</td>\n",
       "      <td>Bash/Shell;HTML/CSS;JavaScript;PHP;Python;SQL;...</td>\n",
       "    </tr>\n",
       "    <tr>\n",
       "      <th>17513</th>\n",
       "      <td>0.000000</td>\n",
       "      <td>0.000000</td>\n",
       "      <td>0.0</td>\n",
       "      <td>0.439206</td>\n",
       "      <td>0.0</td>\n",
       "      <td>0.000000</td>\n",
       "      <td>0.205314</td>\n",
       "      <td>0.000000</td>\n",
       "      <td>0.0</td>\n",
       "      <td>0.0</td>\n",
       "      <td>...</td>\n",
       "      <td>0.000000</td>\n",
       "      <td>0.000000</td>\n",
       "      <td>0.0</td>\n",
       "      <td>0.000000</td>\n",
       "      <td>0.0</td>\n",
       "      <td>0.241412</td>\n",
       "      <td>0.0</td>\n",
       "      <td>0.0</td>\n",
       "      <td>0.218971</td>\n",
       "      <td>C#;HTML/CSS;JavaScript;PowerShell;Python;SQL;D...</td>\n",
       "    </tr>\n",
       "    <tr>\n",
       "      <th>43073</th>\n",
       "      <td>0.000000</td>\n",
       "      <td>0.000000</td>\n",
       "      <td>0.0</td>\n",
       "      <td>0.000000</td>\n",
       "      <td>0.0</td>\n",
       "      <td>0.000000</td>\n",
       "      <td>0.288222</td>\n",
       "      <td>0.000000</td>\n",
       "      <td>0.0</td>\n",
       "      <td>0.0</td>\n",
       "      <td>...</td>\n",
       "      <td>0.000000</td>\n",
       "      <td>0.000000</td>\n",
       "      <td>0.0</td>\n",
       "      <td>0.000000</td>\n",
       "      <td>0.0</td>\n",
       "      <td>0.000000</td>\n",
       "      <td>0.0</td>\n",
       "      <td>0.0</td>\n",
       "      <td>0.000000</td>\n",
       "      <td>C#;PowerShell;Python;Scala;SQL;Microsoft Azure...</td>\n",
       "    </tr>\n",
       "    <tr>\n",
       "      <th>39236</th>\n",
       "      <td>0.237228</td>\n",
       "      <td>0.304164</td>\n",
       "      <td>0.0</td>\n",
       "      <td>0.000000</td>\n",
       "      <td>0.0</td>\n",
       "      <td>0.000000</td>\n",
       "      <td>0.000000</td>\n",
       "      <td>0.000000</td>\n",
       "      <td>0.0</td>\n",
       "      <td>0.0</td>\n",
       "      <td>...</td>\n",
       "      <td>0.122200</td>\n",
       "      <td>0.237228</td>\n",
       "      <td>0.0</td>\n",
       "      <td>0.000000</td>\n",
       "      <td>0.0</td>\n",
       "      <td>0.174673</td>\n",
       "      <td>0.0</td>\n",
       "      <td>0.0</td>\n",
       "      <td>0.000000</td>\n",
       "      <td>C;C#;C++;Dart;Go;HTML/CSS;Java;JavaScript;Node...</td>\n",
       "    </tr>\n",
       "    <tr>\n",
       "      <th>14202</th>\n",
       "      <td>0.000000</td>\n",
       "      <td>0.130642</td>\n",
       "      <td>0.0</td>\n",
       "      <td>0.272986</td>\n",
       "      <td>0.0</td>\n",
       "      <td>0.097687</td>\n",
       "      <td>0.127612</td>\n",
       "      <td>0.117032</td>\n",
       "      <td>0.0</td>\n",
       "      <td>0.0</td>\n",
       "      <td>...</td>\n",
       "      <td>0.104973</td>\n",
       "      <td>0.000000</td>\n",
       "      <td>0.0</td>\n",
       "      <td>0.216415</td>\n",
       "      <td>0.0</td>\n",
       "      <td>0.150048</td>\n",
       "      <td>0.0</td>\n",
       "      <td>0.0</td>\n",
       "      <td>0.136100</td>\n",
       "      <td>Bash/Shell;C;C#;C++;HTML/CSS;Java;JavaScript;N...</td>\n",
       "    </tr>\n",
       "  </tbody>\n",
       "</table>\n",
       "<p>5 rows × 101 columns</p>\n",
       "</div>"
      ],
      "text/plain": [
       "              0         1    2         3    4         5         6         7  \\\n",
       "69957  0.000000  0.000000  0.0  0.000000  0.0  0.151133  0.000000  0.181062   \n",
       "17513  0.000000  0.000000  0.0  0.439206  0.0  0.000000  0.205314  0.000000   \n",
       "43073  0.000000  0.000000  0.0  0.000000  0.0  0.000000  0.288222  0.000000   \n",
       "39236  0.237228  0.304164  0.0  0.000000  0.0  0.000000  0.000000  0.000000   \n",
       "14202  0.000000  0.130642  0.0  0.272986  0.0  0.097687  0.127612  0.117032   \n",
       "\n",
       "         8    9  ...        91        92   93        94   95        96   97  \\\n",
       "69957  0.0  0.0  ...  0.000000  0.000000  0.0  0.000000  0.0  0.000000  0.0   \n",
       "17513  0.0  0.0  ...  0.000000  0.000000  0.0  0.000000  0.0  0.241412  0.0   \n",
       "43073  0.0  0.0  ...  0.000000  0.000000  0.0  0.000000  0.0  0.000000  0.0   \n",
       "39236  0.0  0.0  ...  0.122200  0.237228  0.0  0.000000  0.0  0.174673  0.0   \n",
       "14202  0.0  0.0  ...  0.104973  0.000000  0.0  0.216415  0.0  0.150048  0.0   \n",
       "\n",
       "        98        99                                     HaveWorkedWith  \n",
       "69957  0.0  0.000000  Bash/Shell;HTML/CSS;JavaScript;PHP;Python;SQL;...  \n",
       "17513  0.0  0.218971  C#;HTML/CSS;JavaScript;PowerShell;Python;SQL;D...  \n",
       "43073  0.0  0.000000  C#;PowerShell;Python;Scala;SQL;Microsoft Azure...  \n",
       "39236  0.0  0.000000  C;C#;C++;Dart;Go;HTML/CSS;Java;JavaScript;Node...  \n",
       "14202  0.0  0.136100  Bash/Shell;C;C#;C++;HTML/CSS;Java;JavaScript;N...  \n",
       "\n",
       "[5 rows x 101 columns]"
      ]
     },
     "execution_count": 15,
     "metadata": {},
     "output_type": "execute_result"
    }
   ],
   "source": [
    "X = pd.DataFrame(tf_X_vectorized)\n",
    "X['HaveWorkedWith'] = df[\"HaveWorkedWith\"].values\n",
    "y = df['Employed']\n",
    "X.sample(5)"
   ]
  },
  {
   "cell_type": "markdown",
   "id": "0880df4c",
   "metadata": {},
   "source": [
    "## 🪓 Splitting into train/test"
   ]
  },
  {
   "cell_type": "markdown",
   "id": "7f9c8893",
   "metadata": {},
   "source": [
    "Splitting train and test data. Train data takes 80% and Test 20%"
   ]
  },
  {
   "cell_type": "code",
   "execution_count": 69,
   "id": "d321d834",
   "metadata": {},
   "outputs": [
    {
     "name": "stdout",
     "output_type": "stream",
     "text": [
      "There are in total 73395 observations, of which 58716 are now in the train set, and 14679 in the test set.\n"
     ]
    }
   ],
   "source": [
    "X_train, X_test, y_train, y_test = train_test_split(X, y, test_size=0.2, random_state=80)\n",
    "print(\"There are in total\", len(X), \"observations, of which\", len(X_train), \"are now in the train set, and\", len(X_test), \"in the test set.\")"
   ]
  },
  {
   "cell_type": "code",
   "execution_count": 70,
   "id": "3513e989",
   "metadata": {},
   "outputs": [],
   "source": [
    "X_train = X_train.drop(['HaveWorkedWith'], axis=1)\n",
    "X_HaveWorkedWith_text = X_test['HaveWorkedWith']\n",
    "X_test = X_test.drop(['HaveWorkedWith'], axis=1)"
   ]
  },
  {
   "cell_type": "markdown",
   "id": "9656d1a7",
   "metadata": {},
   "source": [
    "## Running the model with KNeighborsClassifier"
   ]
  },
  {
   "cell_type": "code",
   "execution_count": 71,
   "id": "be8ed318",
   "metadata": {},
   "outputs": [
    {
     "name": "stdout",
     "output_type": "stream",
     "text": [
      "Accuracy: 0.8630696913958716\n"
     ]
    }
   ],
   "source": [
    "model = KNeighborsClassifier()\n",
    "model.fit(X_train, y_train)\n",
    "score = model.score(X_test, y_test)\n",
    "\n",
    "print(\"Accuracy:\", score)"
   ]
  },
  {
   "cell_type": "markdown",
   "id": "56e798be",
   "metadata": {},
   "source": [
    "Using KNN with Tfid FVectorizer we are getting an accuracy of 86%. We can run our model on train and test data and compare their classification results and check if this performance is not an overfitting or underfitting.\n",
    "\n",
    "We can see a difference of 5% on training and test data accuracy, so we can say that there is a slight overfitting. Next we will perform hyperparameters tuning and see if the performance will improve."
   ]
  },
  {
   "cell_type": "code",
   "execution_count": null,
   "id": "5fb1f0ca",
   "metadata": {
    "scrolled": true
   },
   "outputs": [],
   "source": [
    "pred = model.predict(X_train.values)\n",
    "report= classification_report(y_train,pred)\n",
    "print(report)\n",
    "\n",
    "pred = model.predict(X_test.values)\n",
    "report= classification_report(y_test,pred)\n",
    "print(report)"
   ]
  },
  {
   "cell_type": "markdown",
   "id": "054be515",
   "metadata": {},
   "source": [
    "In the above model we used default values of hyperparameters, for example n_neighbors (K) is 5 by default.\n",
    "\n",
    "Let's search an optimal K value which will improve our model with less error rate. We are going to run the KNeighborsClassifier model with K values in range 1 to 10 and visualize in a plot to see which K will produce minimal error rate."
   ]
  },
  {
   "cell_type": "code",
   "execution_count": 33,
   "id": "1726afae",
   "metadata": {},
   "outputs": [
    {
     "name": "stdout",
     "output_type": "stream",
     "text": [
      "Minimum error:  0.12984535731316849 at K = 9\n"
     ]
    },
    {
     "data": {
      "image/png": "[encoded data removed]",
      "text/plain": [
       "<Figure size 720x432 with 1 Axes>"
      ]
     },
     "metadata": {
      "needs_background": "light"
     },
     "output_type": "display_data"
    }
   ],
   "source": [
    "acc=[]\n",
    "error_rate = []\n",
    "for i in range(1,10):\n",
    "    knn = KNeighborsClassifier(n_neighbors=i)\n",
    "    knn.fit(X_train,y_train)\n",
    "    pred_i = knn.predict(X_test)\n",
    "    error_rate.append(np.mean(pred_i != y_test))\n",
    "    acc.append(metrics.accuracy_score(y_test, pred_i))\n",
    "\n",
    "plt.figure(figsize=(10,6))\n",
    "plt.plot(range(1,10),error_rate,color='blue', linestyle='dashed', \n",
    "         marker='o',markerfacecolor='red', markersize=10)\n",
    "plt.title('Error Rate vs. K Value')\n",
    "plt.xlabel('K')\n",
    "plt.ylabel('Error Rate')\n",
    "print(\"Minimum error: \",min(error_rate),\"at K =\",error_rate.index(min(error_rate))+1)"
   ]
  },
  {
   "cell_type": "markdown",
   "id": "85250cae",
   "metadata": {},
   "source": [
    "We find that at K=9 the model produces the lowest error rate of 0.13, and we are validating this by plotting the accuracy against K values and got the best accuracy of 86,8% when K=9"
   ]
  },
  {
   "cell_type": "code",
   "execution_count": 34,
   "id": "73bec1ce",
   "metadata": {},
   "outputs": [
    {
     "name": "stdout",
     "output_type": "stream",
     "text": [
      "Maximum accuracy:  0.8701546426868315 at K = 9\n"
     ]
    },
    {
     "data": {
      "image/png": "[encoded data removed]",
      "text/plain": [
       "<Figure size 720x432 with 1 Axes>"
      ]
     },
     "metadata": {
      "needs_background": "light"
     },
     "output_type": "display_data"
    }
   ],
   "source": [
    "plt.figure(figsize=(10,6))\n",
    "plt.plot(range(1,10),acc,color='blue', linestyle='dashed', \n",
    "         marker='o',markerfacecolor='red', markersize=10)\n",
    "plt.title('accuracy vs. K Value')\n",
    "plt.xlabel('K')\n",
    "plt.ylabel('Accuracy')\n",
    "print(\"Maximum accuracy: \",max(acc),\"at K =\",acc.index(max(acc))+1)"
   ]
  },
  {
   "cell_type": "markdown",
   "id": "fd848968",
   "metadata": {},
   "source": [
    "Use the optimal K value of 9 and the model scored 86,8%"
   ]
  },
  {
   "cell_type": "code",
   "execution_count": 35,
   "id": "9f0624c3",
   "metadata": {},
   "outputs": [
    {
     "name": "stdout",
     "output_type": "stream",
     "text": [
      "Accuracy: 0.8701546426868315\n"
     ]
    }
   ],
   "source": [
    "from sklearn.neighbors import KNeighborsClassifier\n",
    "model = KNeighborsClassifier(n_neighbors=9)\n",
    "model.fit(X_train, y_train)\n",
    "score = model.score(X_test, y_test)\n",
    "\n",
    "print(\"Accuracy:\", score)"
   ]
  },
  {
   "cell_type": "markdown",
   "id": "b55a146f",
   "metadata": {},
   "source": [
    "We can now see that the model's performance slight improved by 0.08%"
   ]
  },
  {
   "cell_type": "code",
   "execution_count": 36,
   "id": "cc84da62",
   "metadata": {
    "scrolled": true
   },
   "outputs": [
    {
     "name": "stdout",
     "output_type": "stream",
     "text": [
      "              precision    recall  f1-score   support\n",
      "\n",
      "           0       0.88      0.90      0.89     27235\n",
      "           1       0.91      0.89      0.90     31481\n",
      "\n",
      "    accuracy                           0.90     58716\n",
      "   macro avg       0.90      0.90      0.90     58716\n",
      "weighted avg       0.90      0.90      0.90     58716\n",
      "\n",
      "              precision    recall  f1-score   support\n",
      "\n",
      "           0       0.85      0.88      0.86      6770\n",
      "           1       0.89      0.86      0.88      7909\n",
      "\n",
      "    accuracy                           0.87     14679\n",
      "   macro avg       0.87      0.87      0.87     14679\n",
      "weighted avg       0.87      0.87      0.87     14679\n",
      "\n"
     ]
    }
   ],
   "source": [
    "pred = model.predict(X_train.values)\n",
    "report= classification_report(y_train,pred)\n",
    "print(report)\n",
    "\n",
    "pred = model.predict(X_test.values)\n",
    "report= classification_report(y_test,pred)\n",
    "print(report)"
   ]
  },
  {
   "cell_type": "markdown",
   "id": "2c318fcc",
   "metadata": {},
   "source": [
    "## Running model with Random Forest Classifier"
   ]
  },
  {
   "cell_type": "markdown",
   "id": "9d1f46ff",
   "metadata": {},
   "source": [
    "In this step only the train set is used to fit the model, which in this case uses a Random forest Classifier algorithm for classification named sklearn.ensemble. Ref: RandomForestClassifier. (n.d.-b). Scikit-learn. https://scikitlearn.org/stable/modules/generated/sklearn.ensemble.RandomForestClassifier.html And after that the test set is used to calculate the model's accuracy, in other words how well it performs. Accuracy is a fraction where any value closer to 1 is considered better, and 1 itself (100% accurate) is usually impossible."
   ]
  },
  {
   "cell_type": "code",
   "execution_count": 37,
   "id": "1793fa06",
   "metadata": {},
   "outputs": [
    {
     "data": {
      "text/html": [
       "<div>\n",
       "<style scoped>\n",
       "    .dataframe tbody tr th:only-of-type {\n",
       "        vertical-align: middle;\n",
       "    }\n",
       "\n",
       "    .dataframe tbody tr th {\n",
       "        vertical-align: top;\n",
       "    }\n",
       "\n",
       "    .dataframe thead th {\n",
       "        text-align: right;\n",
       "    }\n",
       "</style>\n",
       "<table border=\"1\" class=\"dataframe\">\n",
       "  <thead>\n",
       "    <tr style=\"text-align: right;\">\n",
       "      <th></th>\n",
       "      <th>0</th>\n",
       "      <th>1</th>\n",
       "      <th>2</th>\n",
       "      <th>3</th>\n",
       "      <th>4</th>\n",
       "      <th>5</th>\n",
       "      <th>6</th>\n",
       "      <th>7</th>\n",
       "      <th>8</th>\n",
       "      <th>9</th>\n",
       "      <th>...</th>\n",
       "      <th>91</th>\n",
       "      <th>92</th>\n",
       "      <th>93</th>\n",
       "      <th>94</th>\n",
       "      <th>95</th>\n",
       "      <th>96</th>\n",
       "      <th>97</th>\n",
       "      <th>98</th>\n",
       "      <th>99</th>\n",
       "      <th>HaveWorkedWith</th>\n",
       "    </tr>\n",
       "  </thead>\n",
       "  <tbody>\n",
       "    <tr>\n",
       "      <th>52120</th>\n",
       "      <td>0.0</td>\n",
       "      <td>0.348075</td>\n",
       "      <td>0.000000</td>\n",
       "      <td>0.0</td>\n",
       "      <td>0.0</td>\n",
       "      <td>0.260272</td>\n",
       "      <td>0.0</td>\n",
       "      <td>0.000000</td>\n",
       "      <td>0.0</td>\n",
       "      <td>0.0</td>\n",
       "      <td>...</td>\n",
       "      <td>0.279683</td>\n",
       "      <td>0.0</td>\n",
       "      <td>0.0</td>\n",
       "      <td>0.0</td>\n",
       "      <td>0.000000</td>\n",
       "      <td>0.000000</td>\n",
       "      <td>0.0</td>\n",
       "      <td>0.0</td>\n",
       "      <td>0.000000</td>\n",
       "      <td>Java;PowerShell;TypeScript;Kubernetes;Angular;...</td>\n",
       "    </tr>\n",
       "    <tr>\n",
       "      <th>54673</th>\n",
       "      <td>0.0</td>\n",
       "      <td>0.000000</td>\n",
       "      <td>0.000000</td>\n",
       "      <td>0.0</td>\n",
       "      <td>0.0</td>\n",
       "      <td>0.000000</td>\n",
       "      <td>0.0</td>\n",
       "      <td>0.299577</td>\n",
       "      <td>0.0</td>\n",
       "      <td>0.0</td>\n",
       "      <td>...</td>\n",
       "      <td>0.000000</td>\n",
       "      <td>0.0</td>\n",
       "      <td>0.0</td>\n",
       "      <td>0.0</td>\n",
       "      <td>0.000000</td>\n",
       "      <td>0.000000</td>\n",
       "      <td>0.0</td>\n",
       "      <td>0.0</td>\n",
       "      <td>0.000000</td>\n",
       "      <td>Bash/Shell;C++;HTML/CSS;JavaScript;Python;SQL;...</td>\n",
       "    </tr>\n",
       "    <tr>\n",
       "      <th>57180</th>\n",
       "      <td>0.0</td>\n",
       "      <td>0.000000</td>\n",
       "      <td>0.000000</td>\n",
       "      <td>0.0</td>\n",
       "      <td>0.0</td>\n",
       "      <td>0.000000</td>\n",
       "      <td>0.0</td>\n",
       "      <td>0.607774</td>\n",
       "      <td>0.0</td>\n",
       "      <td>0.0</td>\n",
       "      <td>...</td>\n",
       "      <td>0.000000</td>\n",
       "      <td>0.0</td>\n",
       "      <td>0.0</td>\n",
       "      <td>0.0</td>\n",
       "      <td>0.000000</td>\n",
       "      <td>0.000000</td>\n",
       "      <td>0.0</td>\n",
       "      <td>0.0</td>\n",
       "      <td>0.000000</td>\n",
       "      <td>Bash/Shell;C;Python</td>\n",
       "    </tr>\n",
       "    <tr>\n",
       "      <th>63885</th>\n",
       "      <td>0.0</td>\n",
       "      <td>0.000000</td>\n",
       "      <td>0.000000</td>\n",
       "      <td>0.0</td>\n",
       "      <td>0.0</td>\n",
       "      <td>0.000000</td>\n",
       "      <td>0.0</td>\n",
       "      <td>0.000000</td>\n",
       "      <td>0.0</td>\n",
       "      <td>0.0</td>\n",
       "      <td>...</td>\n",
       "      <td>0.000000</td>\n",
       "      <td>0.0</td>\n",
       "      <td>0.0</td>\n",
       "      <td>0.0</td>\n",
       "      <td>0.419811</td>\n",
       "      <td>0.000000</td>\n",
       "      <td>0.0</td>\n",
       "      <td>0.0</td>\n",
       "      <td>0.000000</td>\n",
       "      <td>C++;Java;Kotlin;PHP;SQL;Docker;Drupal;Laravel;...</td>\n",
       "    </tr>\n",
       "    <tr>\n",
       "      <th>57029</th>\n",
       "      <td>0.0</td>\n",
       "      <td>0.000000</td>\n",
       "      <td>0.425229</td>\n",
       "      <td>0.0</td>\n",
       "      <td>0.0</td>\n",
       "      <td>0.000000</td>\n",
       "      <td>0.0</td>\n",
       "      <td>0.000000</td>\n",
       "      <td>0.0</td>\n",
       "      <td>0.0</td>\n",
       "      <td>...</td>\n",
       "      <td>0.244421</td>\n",
       "      <td>0.0</td>\n",
       "      <td>0.0</td>\n",
       "      <td>0.0</td>\n",
       "      <td>0.000000</td>\n",
       "      <td>0.349377</td>\n",
       "      <td>0.0</td>\n",
       "      <td>0.0</td>\n",
       "      <td>0.316899</td>\n",
       "      <td>HTML/CSS;Java;JavaScript;SQL;TypeScript;Ansibl...</td>\n",
       "    </tr>\n",
       "  </tbody>\n",
       "</table>\n",
       "<p>5 rows × 101 columns</p>\n",
       "</div>"
      ],
      "text/plain": [
       "         0         1         2    3    4         5    6         7    8    9  \\\n",
       "52120  0.0  0.348075  0.000000  0.0  0.0  0.260272  0.0  0.000000  0.0  0.0   \n",
       "54673  0.0  0.000000  0.000000  0.0  0.0  0.000000  0.0  0.299577  0.0  0.0   \n",
       "57180  0.0  0.000000  0.000000  0.0  0.0  0.000000  0.0  0.607774  0.0  0.0   \n",
       "63885  0.0  0.000000  0.000000  0.0  0.0  0.000000  0.0  0.000000  0.0  0.0   \n",
       "57029  0.0  0.000000  0.425229  0.0  0.0  0.000000  0.0  0.000000  0.0  0.0   \n",
       "\n",
       "       ...        91   92   93   94        95        96   97   98        99  \\\n",
       "52120  ...  0.279683  0.0  0.0  0.0  0.000000  0.000000  0.0  0.0  0.000000   \n",
       "54673  ...  0.000000  0.0  0.0  0.0  0.000000  0.000000  0.0  0.0  0.000000   \n",
       "57180  ...  0.000000  0.0  0.0  0.0  0.000000  0.000000  0.0  0.0  0.000000   \n",
       "63885  ...  0.000000  0.0  0.0  0.0  0.419811  0.000000  0.0  0.0  0.000000   \n",
       "57029  ...  0.244421  0.0  0.0  0.0  0.000000  0.349377  0.0  0.0  0.316899   \n",
       "\n",
       "                                          HaveWorkedWith  \n",
       "52120  Java;PowerShell;TypeScript;Kubernetes;Angular;...  \n",
       "54673  Bash/Shell;C++;HTML/CSS;JavaScript;Python;SQL;...  \n",
       "57180                                Bash/Shell;C;Python  \n",
       "63885  C++;Java;Kotlin;PHP;SQL;Docker;Drupal;Laravel;...  \n",
       "57029  HTML/CSS;Java;JavaScript;SQL;TypeScript;Ansibl...  \n",
       "\n",
       "[5 rows x 101 columns]"
      ]
     },
     "execution_count": 37,
     "metadata": {},
     "output_type": "execute_result"
    }
   ],
   "source": [
    "X = pd.DataFrame(tf_X_vectorized)\n",
    "X['HaveWorkedWith'] = df[\"HaveWorkedWith\"].values\n",
    "y = df['Employed']\n",
    "X.sample(5)"
   ]
  },
  {
   "cell_type": "code",
   "execution_count": null,
   "id": "4a91ec4b",
   "metadata": {},
   "outputs": [],
   "source": [
    "\n",
    "## Split the dataset into training and testing sets\n",
    "X_train, X_test, y_train, y_test = train_test_split(X, y, test_size=0.2, random_state=42)\n",
    "print(\"There are in total\", len(X), \"observations, of which\", len(X_train), \"are now in the train set, and\", len(X_test), \"in the test set.\")"
   ]
  },
  {
   "cell_type": "code",
   "execution_count": 39,
   "id": "c7ac71f4",
   "metadata": {},
   "outputs": [],
   "source": [
    "X_train = X_train.drop(['HaveWorkedWith'], axis=1)\n",
    "X_HaveWorkedWith_text = X_test['HaveWorkedWith']\n",
    "X_test = X_test.drop(['HaveWorkedWith'], axis=1)"
   ]
  },
  {
   "cell_type": "code",
   "execution_count": 54,
   "id": "7cf8303c",
   "metadata": {},
   "outputs": [],
   "source": [
    "\n",
    "classifier=RandomForestClassifier().fit(X_train,y_train)\n",
    "y_pred=classifier.predict(X_test)"
   ]
  },
  {
   "cell_type": "code",
   "execution_count": 55,
   "id": "b2714bf5",
   "metadata": {},
   "outputs": [
    {
     "data": {
      "text/plain": [
       "0.9647114926084883"
      ]
     },
     "execution_count": 55,
     "metadata": {},
     "output_type": "execute_result"
    }
   ],
   "source": [
    "accuracy_score(y_test,y_pred)"
   ]
  },
  {
   "cell_type": "code",
   "execution_count": 56,
   "id": "157858c1",
   "metadata": {},
   "outputs": [
    {
     "data": {
      "text/plain": [
       "array([[6550,  220],\n",
       "       [ 298, 7611]], dtype=int64)"
      ]
     },
     "execution_count": 56,
     "metadata": {},
     "output_type": "execute_result"
    }
   ],
   "source": [
    "confusion_matrix(y_test,y_pred)"
   ]
  },
  {
   "cell_type": "markdown",
   "id": "452f285d",
   "metadata": {},
   "source": [
    "## Evaluation"
   ]
  },
  {
   "cell_type": "code",
   "execution_count": 64,
   "id": "c342ab61",
   "metadata": {},
   "outputs": [
    {
     "name": "stdout",
     "output_type": "stream",
     "text": [
      "              precision    recall  f1-score   support\n",
      "\n",
      "           0       0.96      0.97      0.96      6770\n",
      "           1       0.97      0.96      0.97      7909\n",
      "\n",
      "    accuracy                           0.96     14679\n",
      "   macro avg       0.96      0.96      0.96     14679\n",
      "weighted avg       0.96      0.96      0.96     14679\n",
      "\n"
     ]
    }
   ],
   "source": [
    "print(classification_report(y_test,y_pred))"
   ]
  },
  {
   "cell_type": "markdown",
   "id": "ac4d81be",
   "metadata": {},
   "source": [
    "Looking at the accuracy score we see that this model perform very well compare to KNN as it is predicting with 96% accuracy."
   ]
  },
  {
   "cell_type": "code",
   "execution_count": null,
   "id": "27ec01e6",
   "metadata": {},
   "outputs": [],
   "source": [
    "# Split into training and testing sets\n",
    "X_train, X_test, y_train, y_test = train_test_split(X, y, test_size=0.3, random_state=42)\n",
    "\n",
    "# Initialize Random Forest Classifier\n",
    "rf = RandomForestClassifier(random_state=42)"
   ]
  },
  {
   "cell_type": "code",
   "execution_count": null,
   "id": "afc312a9",
   "metadata": {},
   "outputs": [],
   "source": [
    "# Define hyperparameter grid\n",
    "param_grid = {\n",
    "    'n_estimators': [100, 200, 300],\n",
    "    'max_depth': [None, 10, 20, 30],\n",
    "    'max_features': ['auto', 'sqrt', 'log2'],\n",
    "    'min_samples_split': [2, 5, 10],\n",
    "    'min_samples_leaf': [1, 2, 4]\n",
    "}\n",
    "\n",
    "# Perform grid search with cross-validation\n",
    "grid_search = GridSearchCV(estimator=rf, param_grid=param_grid, cv=5, n_jobs=-1, verbose=2)\n",
    "grid_search.fit(X_train, y_train)\n",
    "\n",
    "# Best parameters\n",
    "print(f\"Best parameters: {grid_search.best_params_}\")\n",
    "\n",
    "# Evaluate the tuned model\n",
    "best_rf = grid_search.best_estimator_\n",
    "y_pred = best_rf.predict(X_test)\n",
    "\n",
    "# Evaluate the performance\n",
    "accuracy = accuracy_score(y_test, y_pred)\n",
    "print(f\"Accuracy: {accuracy}\")\n",
    "print(classification_report(y_test, y_pred))"
   ]
  },
  {
   "cell_type": "code",
   "execution_count": null,
   "id": "4f9a3811",
   "metadata": {},
   "outputs": [],
   "source": []
  }
 ],
 "metadata": {
  "kernelspec": {
   "display_name": "Python 3",
   "language": "python",
   "name": "python3"
  },
  "language_info": {
   "codemirror_mode": {
    "name": "ipython",
    "version": 3
   },
   "file_extension": ".py",
   "mimetype": "text/x-python",
   "name": "python",
   "nbconvert_exporter": "python",
   "pygments_lexer": "ipython3",
   "version": "3.8.8"
  }
 },
 "nbformat": 4,
 "nbformat_minor": 5
}
