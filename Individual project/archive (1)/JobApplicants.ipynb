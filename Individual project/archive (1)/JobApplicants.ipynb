{
 "cells": [
  {
   "cell_type": "markdown",
   "id": "ec517345",
   "metadata": {},
   "source": [
    "\n",
    "\n",
    "\n",
    "<div style=\"text-align: center;\">\n",
    "   <h1>Personal Challenge</h1>\n",
    "</div>\n",
    "\n",
    "\n",
    "![Company Logo](logo.png)\n",
    "\n",
    "\n",
    "\n",
    "\n",
    "\n",
    "<div style=\"position: fixed; bottom: 0; left: 0; padding: 10px; background-color: white; border-top: 1px solid #ccc; width: 100%;\">\n",
    "    <ul style=\"list-style-type: none; margin: 0; padding: 0;\">\n",
    "        <li>Name: Soleil Umwiza</li>\n",
    "        <li>Student number:4386019</li>\n",
    "        <li>  Date: 16-June-2024</li>\n",
    "        <li> Location: Eindhoven</li>\n",
    "    </ul>\n",
    "</div>\n",
    "\n",
    "\n",
    "\n",
    "\n"
   ]
  },
  {
   "cell_type": "markdown",
   "id": "cd81cbe8",
   "metadata": {},
   "source": [
    "# Table of Contents\n",
    "\n",
    "1. [Introduction](#introduction)\n",
    "     \n",
    "2. [Proposal](#proposal)\n",
    "    - [Domain Understanding](#domain-understanding)\n",
    "    - [Data Sourcing](#data-sourcing)\n",
    "    - [Analytic Approach](#analytic-approach)\n",
    "3. [Provisioning](#provisioning)\n",
    "    - [Data Requirements](#data-requirements)\n",
    "    - [Data Collection](#data-collection)\n",
    "    - [Data Understanding](#data-understanding)\n",
    "    - [Data Preparation](#data-preparation)\n",
    "5. [Predictions](#predictions)\n",
    "    - [Modelling](#modelling)\n",
    "    - [Preprocessing](#preprocessing)\n",
    "    - [Evaluation](#evaluation)\n",
    "\n",
    "4. [Conclusion](#conclusion)\n",
    "\n",
    "\n",
    "\n"
   ]
  },
  {
   "cell_type": "markdown",
   "id": "11a74f6c",
   "metadata": {},
   "source": [
    "## Introduction <a name=\"introduction\"></a>\n",
    "\n",
    "Large companies like ASML, and Philips have thousands of resumes for each job posting and employ dedicated officers to screen qualified candidates. That is time-consuming and it costs a lot of money. To help these organisations to solve these issues, I want to build a machine learning algorithm to scan or analyse CVs against job requirements with great precision and select the right candidate.\n"
   ]
  },
  {
   "cell_type": "markdown",
   "id": "bd2abd0a",
   "metadata": {},
   "source": [
    "## Proposal <a name=\"proposal\"></a>\n",
    "\n",
    "### 🟡 Domain understanding <a name=\"domain-understanding\"></a>\n",
    "\n",
    "**What**\n",
    "\n",
    "The main goal of this project is to optimise the recruitment process, improve the quality of hires, and ensure a fair and efficient selection of candidates.\n",
    "\n",
    "**Why**\n",
    "\n",
    "Traditional CV screening can be time-consuming using AI for screening CVs will save time and reduce costs associated with manual screening. \n",
    "\n",
    "**Who**\n",
    "\n",
    "Several stakeholders will benefit from the results of implementing AI for CV screening because the system will select the right talent quickly.\n",
    "\n",
    "\n",
    "**When**\n",
    "\n",
    "For this individual project, I am using Jira software as a tool for my planning and progress of increments. I create use stories to work on during a sprint and for each sprint I set its goals.\n",
    "\n",
    "The final piece will be delivered on the 16th of June.\n",
    "\n",
    "\n",
    "**How**\n",
    "\n",
    "For this project, I will need the dataset to train and test my model. Python will be used as a programming language for cleaning, processing, and analyzing the dataset, and Jupyter Notebook will be used as a development environment. \n",
    "\n",
    "They are numerous postive and negative impact on screening CVs, i will name some of them below:\n",
    "\n",
    "**Positive impacts of AI on screening CVs**\n",
    "\n",
    "- **Faster Processing:** AI can quickly analyze large volumes of CVs, significantly reducing the time it takes to screen candidates. \n",
    "- **Objective Screening:** AI systems can be programmed to focus on specific skills, qualifications, and experiences, minimizing subjective judgments and potential biases that can influence human screeners.\n",
    "- **Predictive Analytics:** AI can predict candidate success and retention by analyzing historical hiring data and performance metrics, leading to better hiring decisions.\n",
    "\n",
    "**Potential negative impacts that need to be carefully managed.**\n",
    "\n",
    "- **Explainability Issues:** When candidates are rejected, it can be challenging to provide clear explanations for the AI's decision, which can affect the candidate's perception of fairness and the company's reputation.\n",
    "\n",
    "- **Data Privacy:** The use of AI in CV screening involves the collection and processing of personal data, raising concerns about data privacy and security. Unauthorized access or data breaches can compromise candidates' sensitive information.\n",
    "\n",
    "\n",
    "\n",
    "### 🟡 Data Sourcing <a name=\"data-sourcing\"></a>\n",
    "\n",
    "**Define Objectives:**\n",
    "\n",
    "-To implement a machine learning model for screening CV that predicts whether a candidate match job or not.\n",
    "\n",
    "**Data Requirements:** Determine the data requirements: To be able to implement this model, some data are required so that the model can be trained, tested and evaluated. The following data will help me to achieve this goal:\n",
    "\n",
    "  \n",
    "- Age: age of the applicant, >35 years old or <35 years old (categorical)\n",
    "- EdLevel: education level of the applicant (Undergraduate, Master, PhD…) (categorical)\n",
    "- Gender: gender of the applicant, (Man, Woman, or NonBinary) (categorical)\n",
    "- MainBranch: whether the applicant is a profesional developer (categorical)\n",
    "- YearsCode: how long the applicant has been coding (integer)\n",
    "- YearsCodePro: how long the applicant has been coding in a professional context, (integer)\n",
    "- PreviousSalary: the applicant's previous job salary (float)\n",
    "- ComputerSkills: number of computer skills known by the applicant (integer)\n",
    "- Employed: target variable, whether the applicant has been hired (categorical)\n",
    "\n",
    "\n",
    "\n",
    "**Data Legality and Ethics:**\n",
    "\n",
    "Use only publicly available data or data with appropriate licenses.\n",
    "Data used should not contain personal details or any sensitive data\n",
    "\n",
    "**Data Diversity:**\n",
    "\n",
    "For analyzing CVs, any source can be used as long as it is publicly available or has an appropriate license\n",
    "\n",
    "**Version Control:**\n",
    "\n",
    "- GitHub will be used to track all changes that will be performed during preprocessing, this will help to revert changes as needed.\n",
    "\n",
    "**Iterative Process:**\n",
    "\n",
    "Continuously monitor the model's performance and gather feedback.\n",
    "If the model is not performing well, consider reevaluating and updating the data sources.\n",
    "I have found a number of datasets from Kaggle which will enable me to bring my challenge to a successful conclusion.\n",
    "\n",
    "### 🟡 Analytic Approach<a name=\"analytic-approach\"></a>\n",
    "\n",
    "Given that the expected outcome of the project is to classify incoming CVs as a match or not, a classification algorithm is can be used fo this task. \n",
    "\n",
    "\n",
    "\n",
    "\n",
    "\n"
   ]
  },
  {
   "cell_type": "markdown",
   "id": "57109c5b",
   "metadata": {},
   "source": [
    "\n",
    "## 📦 Data Provisioning<a name=\"data-provisioning\"></a>"
   ]
  },
  {
   "cell_type": "markdown",
   "id": "ac330cfc",
   "metadata": {},
   "source": [
    "### Data requirements <a name=\"data-equirements \"></a>\n",
    "\n",
    "To be able to implement my models, some data are required so that the models can be trained, tested and evaluated.\n",
    "  The following data elements will help me to achieve this goal:\n",
    "  \n",
    "  \n",
    "- Age: age of the applicant, >35 years old or <35 years old (categorical)\n",
    "- EdLevel: education level of the applicant (Undergraduate, Master, PhD…) (categorical)\n",
    "- Gender: gender of the applicant, (Man, Woman, or NonBinary) (categorical)\n",
    "- MainBranch: whether the applicant is a profesional developer (categorical)\n",
    "- YearsCode: how long the applicant has been coding (integer)\n",
    "- YearsCodePro: how long the applicant has been coding in a professional context, (integer)\n",
    "- PreviousSalary: the applicant's previous job salary (float)\n",
    "- ComputerSkills: number of computer skills known by the applicant (integer)\n",
    "- Employed: target variable, whether the applicant has been hired (categorical)\n",
    "\n"
   ]
  },
  {
   "cell_type": "markdown",
   "id": "4bc54468",
   "metadata": {},
   "source": [
    "### Data Collection <a name=\"data-collection\"></a>\n",
    "\n",
    "\n",
    "> This data is available publicly on Kaggle website, and can be downloaded freely\n",
    " 70K+ job applicants data (Human Resource). (2023, 10 juli). Kaggle. https://www.kaggle.com/datasets/ayushtankha/70k-job-applicants-data-human-resource"
   ]
  },
  {
   "cell_type": "markdown",
   "id": "4297b17b",
   "metadata": {},
   "source": [
    "Importing needed libraries and printing their versions"
   ]
  },
  {
   "cell_type": "code",
   "execution_count": 1,
   "id": "264ea4c0",
   "metadata": {},
   "outputs": [
    {
     "name": "stdout",
     "output_type": "stream",
     "text": [
      "scikit-learn version: 0.24.1\n",
      "pandas version: 1.2.4\n",
      "seaborn version: 0.11.1\n",
      "matplotlib version: 3.4.1\n"
     ]
    }
   ],
   "source": [
    "import numpy as np\n",
    "import matplotlib \n",
    "import matplotlib.pyplot as plt\n",
    "import pandas as pd\n",
    "import seaborn as sns\n",
    "\n",
    "#import the ML libs\n",
    "import sklearn\n",
    "import warnings\n",
    "from sklearn.cluster import KMeans\n",
    "from sklearn.metrics import max_error\n",
    "from sklearn.metrics import mean_squared_error, mean_absolute_error\n",
    "from sklearn.linear_model import LinearRegression\n",
    "from sklearn.model_selection import train_test_split\n",
    "\n",
    "from sklearn.ensemble import RandomForestClassifier\n",
    "from sklearn import metrics\n",
    "from sklearn.neighbors import KNeighborsClassifier\n",
    "from sklearn.metrics import classification_report,accuracy_score,confusion_matrix\n",
    "from sklearn.metrics import classification_report\n",
    "from sklearn.model_selection import train_test_split\n",
    "from sklearn.feature_extraction.text import TfidfVectorizer\n",
    "\n",
    "warnings.filterwarnings('ignore')\n",
    "\n",
    "\n",
    "print(\"scikit-learn version:\", sklearn.__version__)    \n",
    "print(\"pandas version:\", pd.__version__)            \n",
    "print(\"seaborn version:\", sns.__version__)  \n",
    "print(\"matplotlib version:\", matplotlib.__version__) "
   ]
  },
  {
   "cell_type": "markdown",
   "id": "1a63de8f",
   "metadata": {},
   "source": [
    "### Data Understanding <a name=\"data-understanding\"></a>"
   ]
  },
  {
   "cell_type": "markdown",
   "id": "f2c92b70",
   "metadata": {},
   "source": [
    " Below I am reading the dataset as a Pandas' dataframe and print its shape(number of rows and columns)"
   ]
  },
  {
   "cell_type": "code",
   "execution_count": 2,
   "id": "4512630c",
   "metadata": {},
   "outputs": [
    {
     "name": "stdout",
     "output_type": "stream",
     "text": [
      "(73462, 14)\n"
     ]
    }
   ],
   "source": [
    "df = pd.read_csv(\"JobPosting.csv\", index_col=0)\n",
    "print(df.shape)"
   ]
  },
  {
   "cell_type": "markdown",
   "id": "e01b111b",
   "metadata": {},
   "source": [
    "📃 Sample the data\n",
    "\n",
    "Below I am viewing the dataset to have an impression of the data and see if indeed columns names of both datasets match. For that I am printing 10 random rows."
   ]
  },
  {
   "cell_type": "code",
   "execution_count": 3,
   "id": "c6272185",
   "metadata": {
    "scrolled": false
   },
   "outputs": [
    {
     "data": {
      "text/html": [
       "<div>\n",
       "<style scoped>\n",
       "    .dataframe tbody tr th:only-of-type {\n",
       "        vertical-align: middle;\n",
       "    }\n",
       "\n",
       "    .dataframe tbody tr th {\n",
       "        vertical-align: top;\n",
       "    }\n",
       "\n",
       "    .dataframe thead th {\n",
       "        text-align: right;\n",
       "    }\n",
       "</style>\n",
       "<table border=\"1\" class=\"dataframe\">\n",
       "  <thead>\n",
       "    <tr style=\"text-align: right;\">\n",
       "      <th></th>\n",
       "      <th>Age</th>\n",
       "      <th>Accessibility</th>\n",
       "      <th>EdLevel</th>\n",
       "      <th>Employment</th>\n",
       "      <th>Gender</th>\n",
       "      <th>MentalHealth</th>\n",
       "      <th>MainBranch</th>\n",
       "      <th>YearsCode</th>\n",
       "      <th>YearsCodePro</th>\n",
       "      <th>Country</th>\n",
       "      <th>PreviousSalary</th>\n",
       "      <th>HaveWorkedWith</th>\n",
       "      <th>ComputerSkills</th>\n",
       "      <th>Employed</th>\n",
       "    </tr>\n",
       "  </thead>\n",
       "  <tbody>\n",
       "    <tr>\n",
       "      <th>66118</th>\n",
       "      <td>&gt;35</td>\n",
       "      <td>No</td>\n",
       "      <td>Master</td>\n",
       "      <td>0</td>\n",
       "      <td>Man</td>\n",
       "      <td>No</td>\n",
       "      <td>Dev</td>\n",
       "      <td>32</td>\n",
       "      <td>24</td>\n",
       "      <td>Italy</td>\n",
       "      <td>63984.0</td>\n",
       "      <td>Bash/Shell;C#;Dart;npm;Unity 3D;Unreal Engine;...</td>\n",
       "      <td>8</td>\n",
       "      <td>1</td>\n",
       "    </tr>\n",
       "    <tr>\n",
       "      <th>9448</th>\n",
       "      <td>&lt;35</td>\n",
       "      <td>No</td>\n",
       "      <td>Undergraduate</td>\n",
       "      <td>1</td>\n",
       "      <td>Man</td>\n",
       "      <td>Yes</td>\n",
       "      <td>Dev</td>\n",
       "      <td>8</td>\n",
       "      <td>1</td>\n",
       "      <td>Mexico</td>\n",
       "      <td>9696.0</td>\n",
       "      <td>HTML/CSS;JavaScript;Kotlin;Node.js;Git;Express...</td>\n",
       "      <td>10</td>\n",
       "      <td>0</td>\n",
       "    </tr>\n",
       "    <tr>\n",
       "      <th>70154</th>\n",
       "      <td>&gt;35</td>\n",
       "      <td>No</td>\n",
       "      <td>Master</td>\n",
       "      <td>1</td>\n",
       "      <td>Man</td>\n",
       "      <td>No</td>\n",
       "      <td>Dev</td>\n",
       "      <td>20</td>\n",
       "      <td>17</td>\n",
       "      <td>India</td>\n",
       "      <td>128972.0</td>\n",
       "      <td>C;C#;C++;Java;JavaScript;Perl;SQL;Angular.js;j...</td>\n",
       "      <td>13</td>\n",
       "      <td>1</td>\n",
       "    </tr>\n",
       "    <tr>\n",
       "      <th>49405</th>\n",
       "      <td>&gt;35</td>\n",
       "      <td>No</td>\n",
       "      <td>Master</td>\n",
       "      <td>1</td>\n",
       "      <td>Man</td>\n",
       "      <td>No</td>\n",
       "      <td>Dev</td>\n",
       "      <td>32</td>\n",
       "      <td>26</td>\n",
       "      <td>Netherlands</td>\n",
       "      <td>85315.0</td>\n",
       "      <td>Bash/Shell;C;C++;Lua;Objective-C;Swift</td>\n",
       "      <td>6</td>\n",
       "      <td>0</td>\n",
       "    </tr>\n",
       "    <tr>\n",
       "      <th>44350</th>\n",
       "      <td>&lt;35</td>\n",
       "      <td>No</td>\n",
       "      <td>Master</td>\n",
       "      <td>1</td>\n",
       "      <td>Man</td>\n",
       "      <td>No</td>\n",
       "      <td>Dev</td>\n",
       "      <td>13</td>\n",
       "      <td>7</td>\n",
       "      <td>India</td>\n",
       "      <td>33275.0</td>\n",
       "      <td>Python;Rust;Homebrew;MariaDB</td>\n",
       "      <td>4</td>\n",
       "      <td>0</td>\n",
       "    </tr>\n",
       "    <tr>\n",
       "      <th>15237</th>\n",
       "      <td>&lt;35</td>\n",
       "      <td>Yes</td>\n",
       "      <td>Undergraduate</td>\n",
       "      <td>1</td>\n",
       "      <td>Man</td>\n",
       "      <td>No</td>\n",
       "      <td>Dev</td>\n",
       "      <td>11</td>\n",
       "      <td>10</td>\n",
       "      <td>Brazil</td>\n",
       "      <td>54839.0</td>\n",
       "      <td>Elixir;Erlang;JavaScript;Node.js;Python;R;Ruby...</td>\n",
       "      <td>23</td>\n",
       "      <td>1</td>\n",
       "    </tr>\n",
       "    <tr>\n",
       "      <th>33392</th>\n",
       "      <td>&gt;35</td>\n",
       "      <td>No</td>\n",
       "      <td>Undergraduate</td>\n",
       "      <td>1</td>\n",
       "      <td>Man</td>\n",
       "      <td>Yes</td>\n",
       "      <td>Dev</td>\n",
       "      <td>15</td>\n",
       "      <td>6</td>\n",
       "      <td>United States of America</td>\n",
       "      <td>71000.0</td>\n",
       "      <td>HTML/CSS;JavaScript;PHP;SQL;Docker;Git;Yarn;jQ...</td>\n",
       "      <td>16</td>\n",
       "      <td>0</td>\n",
       "    </tr>\n",
       "    <tr>\n",
       "      <th>72550</th>\n",
       "      <td>&gt;35</td>\n",
       "      <td>No</td>\n",
       "      <td>Other</td>\n",
       "      <td>1</td>\n",
       "      <td>Man</td>\n",
       "      <td>Yes</td>\n",
       "      <td>Dev</td>\n",
       "      <td>17</td>\n",
       "      <td>11</td>\n",
       "      <td>Indonesia</td>\n",
       "      <td>24576.0</td>\n",
       "      <td>HTML/CSS;JavaScript;PHP;SQL;TypeScript;Docker;...</td>\n",
       "      <td>24</td>\n",
       "      <td>1</td>\n",
       "    </tr>\n",
       "    <tr>\n",
       "      <th>1256</th>\n",
       "      <td>&lt;35</td>\n",
       "      <td>No</td>\n",
       "      <td>Undergraduate</td>\n",
       "      <td>1</td>\n",
       "      <td>Man</td>\n",
       "      <td>No</td>\n",
       "      <td>NotDev</td>\n",
       "      <td>1</td>\n",
       "      <td>3</td>\n",
       "      <td>India</td>\n",
       "      <td>9075.0</td>\n",
       "      <td>HTML/CSS;Java;Oracle</td>\n",
       "      <td>3</td>\n",
       "      <td>0</td>\n",
       "    </tr>\n",
       "    <tr>\n",
       "      <th>67211</th>\n",
       "      <td>&lt;35</td>\n",
       "      <td>No</td>\n",
       "      <td>Undergraduate</td>\n",
       "      <td>1</td>\n",
       "      <td>Man</td>\n",
       "      <td>No</td>\n",
       "      <td>Dev</td>\n",
       "      <td>7</td>\n",
       "      <td>2</td>\n",
       "      <td>Indonesia</td>\n",
       "      <td>2460.0</td>\n",
       "      <td>C;C++;Dart;HTML/CSS;Java;JavaScript;MATLAB;PHP...</td>\n",
       "      <td>27</td>\n",
       "      <td>1</td>\n",
       "    </tr>\n",
       "  </tbody>\n",
       "</table>\n",
       "</div>"
      ],
      "text/plain": [
       "       Age Accessibility        EdLevel  Employment Gender MentalHealth  \\\n",
       "66118  >35            No         Master           0    Man           No   \n",
       "9448   <35            No  Undergraduate           1    Man          Yes   \n",
       "70154  >35            No         Master           1    Man           No   \n",
       "49405  >35            No         Master           1    Man           No   \n",
       "44350  <35            No         Master           1    Man           No   \n",
       "15237  <35           Yes  Undergraduate           1    Man           No   \n",
       "33392  >35            No  Undergraduate           1    Man          Yes   \n",
       "72550  >35            No          Other           1    Man          Yes   \n",
       "1256   <35            No  Undergraduate           1    Man           No   \n",
       "67211  <35            No  Undergraduate           1    Man           No   \n",
       "\n",
       "      MainBranch  YearsCode  YearsCodePro                   Country  \\\n",
       "66118        Dev         32            24                     Italy   \n",
       "9448         Dev          8             1                    Mexico   \n",
       "70154        Dev         20            17                     India   \n",
       "49405        Dev         32            26               Netherlands   \n",
       "44350        Dev         13             7                     India   \n",
       "15237        Dev         11            10                    Brazil   \n",
       "33392        Dev         15             6  United States of America   \n",
       "72550        Dev         17            11                 Indonesia   \n",
       "1256      NotDev          1             3                     India   \n",
       "67211        Dev          7             2                 Indonesia   \n",
       "\n",
       "       PreviousSalary                                     HaveWorkedWith  \\\n",
       "66118         63984.0  Bash/Shell;C#;Dart;npm;Unity 3D;Unreal Engine;...   \n",
       "9448           9696.0  HTML/CSS;JavaScript;Kotlin;Node.js;Git;Express...   \n",
       "70154        128972.0  C;C#;C++;Java;JavaScript;Perl;SQL;Angular.js;j...   \n",
       "49405         85315.0             Bash/Shell;C;C++;Lua;Objective-C;Swift   \n",
       "44350         33275.0                       Python;Rust;Homebrew;MariaDB   \n",
       "15237         54839.0  Elixir;Erlang;JavaScript;Node.js;Python;R;Ruby...   \n",
       "33392         71000.0  HTML/CSS;JavaScript;PHP;SQL;Docker;Git;Yarn;jQ...   \n",
       "72550         24576.0  HTML/CSS;JavaScript;PHP;SQL;TypeScript;Docker;...   \n",
       "1256           9075.0                               HTML/CSS;Java;Oracle   \n",
       "67211          2460.0  C;C++;Dart;HTML/CSS;Java;JavaScript;MATLAB;PHP...   \n",
       "\n",
       "       ComputerSkills  Employed  \n",
       "66118               8         1  \n",
       "9448               10         0  \n",
       "70154              13         1  \n",
       "49405               6         0  \n",
       "44350               4         0  \n",
       "15237              23         1  \n",
       "33392              16         0  \n",
       "72550              24         1  \n",
       "1256                3         0  \n",
       "67211              27         1  "
      ]
     },
     "execution_count": 3,
     "metadata": {},
     "output_type": "execute_result"
    }
   ],
   "source": [
    "df.sample(10)"
   ]
  },
  {
   "cell_type": "markdown",
   "id": "4c6c1699",
   "metadata": {},
   "source": [
    "Here I am globally looking at the data. I did that by printing the data info."
   ]
  },
  {
   "cell_type": "code",
   "execution_count": 4,
   "id": "60c19f33",
   "metadata": {},
   "outputs": [
    {
     "name": "stdout",
     "output_type": "stream",
     "text": [
      "<class 'pandas.core.frame.DataFrame'>\n",
      "Int64Index: 73462 entries, 0 to 73461\n",
      "Data columns (total 14 columns):\n",
      " #   Column          Non-Null Count  Dtype  \n",
      "---  ------          --------------  -----  \n",
      " 0   Age             73462 non-null  object \n",
      " 1   Accessibility   73462 non-null  object \n",
      " 2   EdLevel         73462 non-null  object \n",
      " 3   Employment      73462 non-null  int64  \n",
      " 4   Gender          73462 non-null  object \n",
      " 5   MentalHealth    73462 non-null  object \n",
      " 6   MainBranch      73462 non-null  object \n",
      " 7   YearsCode       73462 non-null  int64  \n",
      " 8   YearsCodePro    73462 non-null  int64  \n",
      " 9   Country         73462 non-null  object \n",
      " 10  PreviousSalary  73462 non-null  float64\n",
      " 11  HaveWorkedWith  73399 non-null  object \n",
      " 12  ComputerSkills  73462 non-null  int64  \n",
      " 13  Employed        73462 non-null  int64  \n",
      "dtypes: float64(1), int64(5), object(8)\n",
      "memory usage: 8.4+ MB\n"
     ]
    }
   ],
   "source": [
    "df.info()"
   ]
  },
  {
   "cell_type": "markdown",
   "id": "2d1e5d8e",
   "metadata": {},
   "source": [
    "From the above result we can see that non-null for the column `HaveWorkedWith` are less than rest of the columns."
   ]
  },
  {
   "cell_type": "markdown",
   "id": "c72e7d0c",
   "metadata": {},
   "source": [
    "**Data Visualization**"
   ]
  },
  {
   "cell_type": "markdown",
   "id": "68f7bb3a",
   "metadata": {},
   "source": [
    "Checking the number of occurrences of each educational level"
   ]
  },
  {
   "cell_type": "code",
   "execution_count": 5,
   "id": "3e0126e7",
   "metadata": {},
   "outputs": [
    {
     "data": {
      "image/png": "[encoded data removed]",
      "text/plain": [
       "<Figure size 720x432 with 1 Axes>"
      ]
     },
     "metadata": {
      "needs_background": "light"
     },
     "output_type": "display_data"
    }
   ],
   "source": [
    "\n",
    "education_counts = df['EdLevel'].value_counts()\n",
    "\n",
    "# Plot the data\n",
    "plt.figure(figsize=(10, 6))\n",
    "sns.barplot(x=education_counts.index, y=education_counts.values, palette='viridis')\n",
    "plt.title('Distribution of Educational Levels among Applicants')\n",
    "plt.xlabel('Educational Level')\n",
    "plt.ylabel('Number of Applicants')\n",
    "plt.xticks(rotation=45)\n",
    "plt.show()"
   ]
  },
  {
   "cell_type": "markdown",
   "id": "fdb009f6",
   "metadata": {},
   "source": [
    "The barplot illustate that the majority of applicants have not yet graduated. "
   ]
  },
  {
   "cell_type": "code",
   "execution_count": 6,
   "id": "86659697",
   "metadata": {},
   "outputs": [
    {
     "data": {
      "image/png": "[encoded data removed]",
      "text/plain": [
       "<Figure size 576x576 with 1 Axes>"
      ]
     },
     "metadata": {},
     "output_type": "display_data"
    }
   ],
   "source": [
    "# Count occurrences of each gender\n",
    "gender_counts = df['Gender'].value_counts()\n",
    "\n",
    "# Create pie chart\n",
    "plt.figure(figsize=(8, 8))\n",
    "plt.pie(gender_counts, labels=gender_counts.index, autopct='%1.1f%%', startangle=140, colors=['green', 'orange'])\n",
    "plt.title('Gender Distribution of Applicants')\n",
    "plt.axis('equal')  # Equal aspect ratio ensures that pie is drawn as a circle.\n",
    "plt.legend(gender_counts.index, title=\"Gender\", loc=\"center left\", bbox_to_anchor=(1, 0, 0.5, 1))\n",
    "plt.show()"
   ]
  },
  {
   "cell_type": "markdown",
   "id": "56f15124",
   "metadata": {},
   "source": [
    " Above result shows that a significantly larger portion of the pie chart represents male applicants compared to female applicants, we can conclude that more men had applied for the job compared to women."
   ]
  },
  {
   "cell_type": "code",
   "execution_count": 7,
   "id": "fa7967c7",
   "metadata": {},
   "outputs": [
    {
     "data": {
      "image/png": "[encoded data removed]",
      "text/plain": [
       "<Figure size 720x432 with 1 Axes>"
      ]
     },
     "metadata": {
      "needs_background": "light"
     },
     "output_type": "display_data"
    }
   ],
   "source": [
    "# Create histogram\n",
    "plt.figure(figsize=(10, 6))\n",
    "plt.hist(df['YearsCodePro'], bins=10, edgecolor='black', color='blue')\n",
    "plt.title('Distribution of Applicants\\' Professional Coding Experience')\n",
    "plt.xlabel('Years of Experience')\n",
    "plt.ylabel('Number of Applicants')\n",
    "plt.grid(axis='y', alpha=0.75)\n",
    "plt.show()"
   ]
  },
  {
   "cell_type": "code",
   "execution_count": 8,
   "id": "dcbd0d59",
   "metadata": {},
   "outputs": [
    {
     "name": "stdout",
     "output_type": "stream",
     "text": [
      "Python            71\n",
      "                  63\n",
      "Python;Git        54\n",
      "C++;Python        49\n",
      "C++               41\n",
      "C++;Python;Git    36\n",
      "C++;Git           33\n",
      "Swift;Git         33\n",
      "Delphi            32\n",
      "R                 31\n",
      "Name: HaveWorkedWith, dtype: int64\n"
     ]
    },
    {
     "data": {
      "image/png": "[encoded data removed]",
      "text/plain": [
       "<Figure size 864x576 with 1 Axes>"
      ]
     },
     "metadata": {
      "needs_background": "light"
     },
     "output_type": "display_data"
    }
   ],
   "source": [
    "# For visualization, we'll need to split the 'HaveWorkedWith' entries and count them\n",
    "# HaveWorkedWith' column has comma-separated values\n",
    "df['HaveWorkedWith'] = df['HaveWorkedWith'].fillna('')  # Replace NaN with empty string\n",
    "technologies = df['HaveWorkedWith'].str.split(',').explode().str.strip().value_counts()\n",
    "\n",
    "# Display the top 10 most common technologies\n",
    "print(technologies.head(10))\n",
    "\n",
    "# Plot the top 10 technologies\n",
    "plt.figure(figsize=(12, 8))\n",
    "sns.barplot(x=technologies.head(10).values, y=technologies.head(10).index, palette='Set2')\n",
    "plt.title('Top 10 Technologies Applicants Have Worked With')\n",
    "plt.xlabel('Count')\n",
    "plt.ylabel('Technology')\n",
    "plt.show()"
   ]
  },
  {
   "cell_type": "markdown",
   "id": "f556f6d3",
   "metadata": {},
   "source": [
    "### Data Preparation <a name=\"data-preparation\"></a>\n",
    "\n",
    "\n",
    "In this section I will handle data with `NaN` values by removing them if it is necessary, check duplicates and drop them if required. These steps are very crucial in data preparation because its prevents bias result and helps to improve model performance."
   ]
  },
  {
   "cell_type": "markdown",
   "id": "44c4bee2",
   "metadata": {},
   "source": [
    "Below we are looking at the number of rows where the column has null values."
   ]
  },
  {
   "cell_type": "code",
   "execution_count": 9,
   "id": "bfffb9f5",
   "metadata": {},
   "outputs": [
    {
     "data": {
      "text/plain": [
       "Age               0\n",
       "Accessibility     0\n",
       "EdLevel           0\n",
       "Employment        0\n",
       "Gender            0\n",
       "MentalHealth      0\n",
       "MainBranch        0\n",
       "YearsCode         0\n",
       "YearsCodePro      0\n",
       "Country           0\n",
       "PreviousSalary    0\n",
       "HaveWorkedWith    0\n",
       "ComputerSkills    0\n",
       "Employed          0\n",
       "dtype: int64"
      ]
     },
     "execution_count": 9,
     "metadata": {},
     "output_type": "execute_result"
    }
   ],
   "source": [
    "df.isnull().sum()"
   ]
  },
  {
   "cell_type": "markdown",
   "id": "0eca32e2",
   "metadata": {},
   "source": [
    "Checking duplicate rows in the dataset"
   ]
  },
  {
   "cell_type": "code",
   "execution_count": 10,
   "id": "14d3611b",
   "metadata": {},
   "outputs": [
    {
     "data": {
      "text/html": [
       "<div>\n",
       "<style scoped>\n",
       "    .dataframe tbody tr th:only-of-type {\n",
       "        vertical-align: middle;\n",
       "    }\n",
       "\n",
       "    .dataframe tbody tr th {\n",
       "        vertical-align: top;\n",
       "    }\n",
       "\n",
       "    .dataframe thead th {\n",
       "        text-align: right;\n",
       "    }\n",
       "</style>\n",
       "<table border=\"1\" class=\"dataframe\">\n",
       "  <thead>\n",
       "    <tr style=\"text-align: right;\">\n",
       "      <th></th>\n",
       "      <th>Age</th>\n",
       "      <th>Accessibility</th>\n",
       "      <th>EdLevel</th>\n",
       "      <th>Employment</th>\n",
       "      <th>Gender</th>\n",
       "      <th>MentalHealth</th>\n",
       "      <th>MainBranch</th>\n",
       "      <th>YearsCode</th>\n",
       "      <th>YearsCodePro</th>\n",
       "      <th>Country</th>\n",
       "      <th>PreviousSalary</th>\n",
       "      <th>HaveWorkedWith</th>\n",
       "      <th>ComputerSkills</th>\n",
       "      <th>Employed</th>\n",
       "    </tr>\n",
       "  </thead>\n",
       "  <tbody>\n",
       "    <tr>\n",
       "      <th>3134</th>\n",
       "      <td>&gt;35</td>\n",
       "      <td>No</td>\n",
       "      <td>Undergraduate</td>\n",
       "      <td>1</td>\n",
       "      <td>Man</td>\n",
       "      <td>No</td>\n",
       "      <td>Dev</td>\n",
       "      <td>39</td>\n",
       "      <td>27</td>\n",
       "      <td>Croatia</td>\n",
       "      <td>26124.0</td>\n",
       "      <td>SQL;Oracle</td>\n",
       "      <td>2</td>\n",
       "      <td>0</td>\n",
       "    </tr>\n",
       "    <tr>\n",
       "      <th>6652</th>\n",
       "      <td>&gt;35</td>\n",
       "      <td>No</td>\n",
       "      <td>Master</td>\n",
       "      <td>0</td>\n",
       "      <td>Man</td>\n",
       "      <td>No</td>\n",
       "      <td>Dev</td>\n",
       "      <td>25</td>\n",
       "      <td>15</td>\n",
       "      <td>Italy</td>\n",
       "      <td>129718.0</td>\n",
       "      <td>Go;Java;JavaScript;Kotlin;Node.js;Rust;TypeScr...</td>\n",
       "      <td>16</td>\n",
       "      <td>1</td>\n",
       "    </tr>\n",
       "    <tr>\n",
       "      <th>6664</th>\n",
       "      <td>&gt;35</td>\n",
       "      <td>No</td>\n",
       "      <td>Master</td>\n",
       "      <td>0</td>\n",
       "      <td>Man</td>\n",
       "      <td>No</td>\n",
       "      <td>Dev</td>\n",
       "      <td>25</td>\n",
       "      <td>15</td>\n",
       "      <td>Italy</td>\n",
       "      <td>129718.0</td>\n",
       "      <td>Go;Java;JavaScript;Kotlin;Node.js;Rust;TypeScr...</td>\n",
       "      <td>16</td>\n",
       "      <td>1</td>\n",
       "    </tr>\n",
       "    <tr>\n",
       "      <th>7280</th>\n",
       "      <td>&lt;35</td>\n",
       "      <td>No</td>\n",
       "      <td>Undergraduate</td>\n",
       "      <td>1</td>\n",
       "      <td>Man</td>\n",
       "      <td>No</td>\n",
       "      <td>Dev</td>\n",
       "      <td>4</td>\n",
       "      <td>0</td>\n",
       "      <td>India</td>\n",
       "      <td>2653.0</td>\n",
       "      <td>Java;Python;Docker;Git;Kubernetes;Flask;Spring...</td>\n",
       "      <td>10</td>\n",
       "      <td>0</td>\n",
       "    </tr>\n",
       "    <tr>\n",
       "      <th>7329</th>\n",
       "      <td>&lt;35</td>\n",
       "      <td>No</td>\n",
       "      <td>Undergraduate</td>\n",
       "      <td>1</td>\n",
       "      <td>Man</td>\n",
       "      <td>No</td>\n",
       "      <td>Dev</td>\n",
       "      <td>4</td>\n",
       "      <td>0</td>\n",
       "      <td>India</td>\n",
       "      <td>2653.0</td>\n",
       "      <td>Java;Python;Docker;Git;Kubernetes;Flask;Spring...</td>\n",
       "      <td>10</td>\n",
       "      <td>0</td>\n",
       "    </tr>\n",
       "    <tr>\n",
       "      <th>7783</th>\n",
       "      <td>&gt;35</td>\n",
       "      <td>No</td>\n",
       "      <td>Undergraduate</td>\n",
       "      <td>1</td>\n",
       "      <td>Man</td>\n",
       "      <td>No</td>\n",
       "      <td>Dev</td>\n",
       "      <td>39</td>\n",
       "      <td>27</td>\n",
       "      <td>Croatia</td>\n",
       "      <td>26124.0</td>\n",
       "      <td>SQL;Oracle</td>\n",
       "      <td>2</td>\n",
       "      <td>0</td>\n",
       "    </tr>\n",
       "    <tr>\n",
       "      <th>45964</th>\n",
       "      <td>&lt;35</td>\n",
       "      <td>No</td>\n",
       "      <td>Undergraduate</td>\n",
       "      <td>1</td>\n",
       "      <td>Man</td>\n",
       "      <td>No</td>\n",
       "      <td>Dev</td>\n",
       "      <td>17</td>\n",
       "      <td>10</td>\n",
       "      <td>Finland</td>\n",
       "      <td>44796.0</td>\n",
       "      <td>C#;Java;Python;Ansible;Docker;Unity 3D;Microso...</td>\n",
       "      <td>10</td>\n",
       "      <td>1</td>\n",
       "    </tr>\n",
       "    <tr>\n",
       "      <th>46025</th>\n",
       "      <td>&lt;35</td>\n",
       "      <td>No</td>\n",
       "      <td>Undergraduate</td>\n",
       "      <td>1</td>\n",
       "      <td>Man</td>\n",
       "      <td>No</td>\n",
       "      <td>Dev</td>\n",
       "      <td>17</td>\n",
       "      <td>10</td>\n",
       "      <td>Finland</td>\n",
       "      <td>44796.0</td>\n",
       "      <td>C#;Java;Python;Ansible;Docker;Unity 3D;Microso...</td>\n",
       "      <td>10</td>\n",
       "      <td>1</td>\n",
       "    </tr>\n",
       "  </tbody>\n",
       "</table>\n",
       "</div>"
      ],
      "text/plain": [
       "       Age Accessibility        EdLevel  Employment Gender MentalHealth  \\\n",
       "3134   >35            No  Undergraduate           1    Man           No   \n",
       "6652   >35            No         Master           0    Man           No   \n",
       "6664   >35            No         Master           0    Man           No   \n",
       "7280   <35            No  Undergraduate           1    Man           No   \n",
       "7329   <35            No  Undergraduate           1    Man           No   \n",
       "7783   >35            No  Undergraduate           1    Man           No   \n",
       "45964  <35            No  Undergraduate           1    Man           No   \n",
       "46025  <35            No  Undergraduate           1    Man           No   \n",
       "\n",
       "      MainBranch  YearsCode  YearsCodePro  Country  PreviousSalary  \\\n",
       "3134         Dev         39            27  Croatia         26124.0   \n",
       "6652         Dev         25            15    Italy        129718.0   \n",
       "6664         Dev         25            15    Italy        129718.0   \n",
       "7280         Dev          4             0    India          2653.0   \n",
       "7329         Dev          4             0    India          2653.0   \n",
       "7783         Dev         39            27  Croatia         26124.0   \n",
       "45964        Dev         17            10  Finland         44796.0   \n",
       "46025        Dev         17            10  Finland         44796.0   \n",
       "\n",
       "                                          HaveWorkedWith  ComputerSkills  \\\n",
       "3134                                          SQL;Oracle               2   \n",
       "6652   Go;Java;JavaScript;Kotlin;Node.js;Rust;TypeScr...              16   \n",
       "6664   Go;Java;JavaScript;Kotlin;Node.js;Rust;TypeScr...              16   \n",
       "7280   Java;Python;Docker;Git;Kubernetes;Flask;Spring...              10   \n",
       "7329   Java;Python;Docker;Git;Kubernetes;Flask;Spring...              10   \n",
       "7783                                          SQL;Oracle               2   \n",
       "45964  C#;Java;Python;Ansible;Docker;Unity 3D;Microso...              10   \n",
       "46025  C#;Java;Python;Ansible;Docker;Unity 3D;Microso...              10   \n",
       "\n",
       "       Employed  \n",
       "3134          0  \n",
       "6652          1  \n",
       "6664          1  \n",
       "7280          0  \n",
       "7329          0  \n",
       "7783          0  \n",
       "45964         1  \n",
       "46025         1  "
      ]
     },
     "execution_count": 10,
     "metadata": {},
     "output_type": "execute_result"
    }
   ],
   "source": [
    "df[df.duplicated(keep=False)]"
   ]
  },
  {
   "cell_type": "markdown",
   "id": "bd4bb9d0",
   "metadata": {},
   "source": [
    "Droping rows with null values together with duplicated rows"
   ]
  },
  {
   "cell_type": "code",
   "execution_count": 11,
   "id": "f59254c1",
   "metadata": {},
   "outputs": [],
   "source": [
    "df.dropna(inplace=True)"
   ]
  },
  {
   "cell_type": "code",
   "execution_count": 12,
   "id": "11f054a8",
   "metadata": {},
   "outputs": [],
   "source": [
    "df=df.drop_duplicates(keep='first', ignore_index=True)"
   ]
  },
  {
   "cell_type": "code",
   "execution_count": 13,
   "id": "9cbf3718",
   "metadata": {},
   "outputs": [
    {
     "data": {
      "text/plain": [
       "(73458, 14)"
      ]
     },
     "execution_count": 13,
     "metadata": {},
     "output_type": "execute_result"
    }
   ],
   "source": [
    "df.shape"
   ]
  },
  {
   "cell_type": "markdown",
   "id": "0ba558bf",
   "metadata": {},
   "source": [
    "### Predictions <a name=\"predictions\"></a>"
   ]
  },
  {
   "cell_type": "markdown",
   "id": "edb696eb",
   "metadata": {},
   "source": [
    "### ⚙️ Preprocessing <a name=\"preprocessing\"></a>"
   ]
  },
  {
   "cell_type": "markdown",
   "id": "ec75a7ff",
   "metadata": {},
   "source": [
    "The step of preprocessing contains several activities to consider before we can start training the algorithm and produce a model that can predict our target variable."
   ]
  },
  {
   "cell_type": "markdown",
   "id": "aa5bdd3f",
   "metadata": {},
   "source": [
    "### 🧬 Modelling <a name=\"modelling\"></a>\n",
    " \n",
    "In this step only the train set is used to fit the model, which in this case uses KNeighborsClassifier algorithm for classification from Scikit-learn. 1.6. Nearest neighbors. (n.d.). Scikit-learn. https://scikit-learn.org/stable/modules/neighbors.html#nearest-neighbors-classification And after that the test set is used to calculate the model's accuracy, in other words how well it performs. Accuracy is a fraction where any value closer to 1 is considered better, and 1 itself (100% accurate) is usually impossible."
   ]
  },
  {
   "cell_type": "markdown",
   "id": "6e767330",
   "metadata": {},
   "source": [
    "Assigning feature and target to variables"
   ]
  },
  {
   "cell_type": "code",
   "execution_count": 14,
   "id": "ecdcc73f",
   "metadata": {},
   "outputs": [],
   "source": [
    "X = df.drop(['Employed'],axis=1)\n",
    "y = df['Employed']"
   ]
  },
  {
   "cell_type": "markdown",
   "id": "da56f479",
   "metadata": {},
   "source": [
    "#### Using TF-IDF as a text tokenizer and vectorizer\n",
    "\n",
    "The goal of using tf-idf is that it not only focuses on the frequency of words present in a text, but also provides the weight of the words. Sklearn.feature_extraction.text.TfidFVectorizer. (n.d.). Scikit-learn. https://scikit-learn.org/stable/modules/generated/sklearn.feature_extraction.text.TfidfVectorizer.html#sklearn.feature_extraction.t"
   ]
  },
  {
   "cell_type": "code",
   "execution_count": 15,
   "id": "e3ff7ecb",
   "metadata": {},
   "outputs": [
    {
     "data": {
      "text/plain": [
       "(73458, 100)"
      ]
     },
     "execution_count": 15,
     "metadata": {},
     "output_type": "execute_result"
    }
   ],
   "source": [
    "tfidf_vectorizer = TfidfVectorizer(min_df=.01, use_idf =True, stop_words = 'english')\n",
    "tf_X_vectorized = tfidf_vectorizer.fit_transform(df['HaveWorkedWith']).toarray()\n",
    "tf_X_vectorized.shape"
   ]
  },
  {
   "cell_type": "code",
   "execution_count": 16,
   "id": "b54d5a22",
   "metadata": {},
   "outputs": [
    {
     "data": {
      "text/plain": [
       "(73458, 100)"
      ]
     },
     "execution_count": 16,
     "metadata": {},
     "output_type": "execute_result"
    }
   ],
   "source": [
    "tfidf_vectorizer = TfidfVectorizer(min_df=.01, use_idf =True, stop_words = 'english')\n",
    "tf_X_vectorized = tfidf_vectorizer.fit_transform(df['HaveWorkedWith'], ['Gender']).toarray()\n",
    "tf_X_vectorized.shape"
   ]
  },
  {
   "cell_type": "markdown",
   "id": "bdf215e3",
   "metadata": {},
   "source": [
    "Make a dataframe of the vectorized data and view the result"
   ]
  },
  {
   "cell_type": "code",
   "execution_count": 17,
   "id": "01d4e264",
   "metadata": {},
   "outputs": [
    {
     "data": {
      "text/html": [
       "<div>\n",
       "<style scoped>\n",
       "    .dataframe tbody tr th:only-of-type {\n",
       "        vertical-align: middle;\n",
       "    }\n",
       "\n",
       "    .dataframe tbody tr th {\n",
       "        vertical-align: top;\n",
       "    }\n",
       "\n",
       "    .dataframe thead th {\n",
       "        text-align: right;\n",
       "    }\n",
       "</style>\n",
       "<table border=\"1\" class=\"dataframe\">\n",
       "  <thead>\n",
       "    <tr style=\"text-align: right;\">\n",
       "      <th></th>\n",
       "      <th>0</th>\n",
       "      <th>1</th>\n",
       "      <th>2</th>\n",
       "      <th>3</th>\n",
       "      <th>4</th>\n",
       "      <th>5</th>\n",
       "      <th>6</th>\n",
       "      <th>7</th>\n",
       "      <th>8</th>\n",
       "      <th>9</th>\n",
       "      <th>...</th>\n",
       "      <th>91</th>\n",
       "      <th>92</th>\n",
       "      <th>93</th>\n",
       "      <th>94</th>\n",
       "      <th>95</th>\n",
       "      <th>96</th>\n",
       "      <th>97</th>\n",
       "      <th>98</th>\n",
       "      <th>99</th>\n",
       "      <th>HaveWorkedWith</th>\n",
       "    </tr>\n",
       "  </thead>\n",
       "  <tbody>\n",
       "    <tr>\n",
       "      <th>6576</th>\n",
       "      <td>0.000000</td>\n",
       "      <td>0.000000</td>\n",
       "      <td>0.558208</td>\n",
       "      <td>0.000000</td>\n",
       "      <td>0.0</td>\n",
       "      <td>0.000000</td>\n",
       "      <td>0.0</td>\n",
       "      <td>0.000000</td>\n",
       "      <td>0.000000</td>\n",
       "      <td>0.0</td>\n",
       "      <td>...</td>\n",
       "      <td>0.000000</td>\n",
       "      <td>0.000000</td>\n",
       "      <td>0.000000</td>\n",
       "      <td>0.0</td>\n",
       "      <td>0.0</td>\n",
       "      <td>0.000000</td>\n",
       "      <td>0.0</td>\n",
       "      <td>0.0</td>\n",
       "      <td>0.000000</td>\n",
       "      <td>Python;Rust;Ansible;Docker;Git;PostgreSQL</td>\n",
       "    </tr>\n",
       "    <tr>\n",
       "      <th>43879</th>\n",
       "      <td>0.000000</td>\n",
       "      <td>0.000000</td>\n",
       "      <td>0.000000</td>\n",
       "      <td>0.000000</td>\n",
       "      <td>0.0</td>\n",
       "      <td>0.000000</td>\n",
       "      <td>0.0</td>\n",
       "      <td>0.000000</td>\n",
       "      <td>0.000000</td>\n",
       "      <td>0.0</td>\n",
       "      <td>...</td>\n",
       "      <td>0.208799</td>\n",
       "      <td>0.000000</td>\n",
       "      <td>0.000000</td>\n",
       "      <td>0.0</td>\n",
       "      <td>0.0</td>\n",
       "      <td>0.000000</td>\n",
       "      <td>0.0</td>\n",
       "      <td>0.0</td>\n",
       "      <td>0.270687</td>\n",
       "      <td>HTML/CSS;JavaScript;Kotlin;PHP;TypeScript;Dock...</td>\n",
       "    </tr>\n",
       "    <tr>\n",
       "      <th>33989</th>\n",
       "      <td>0.000000</td>\n",
       "      <td>0.220537</td>\n",
       "      <td>0.000000</td>\n",
       "      <td>0.230411</td>\n",
       "      <td>0.0</td>\n",
       "      <td>0.000000</td>\n",
       "      <td>0.0</td>\n",
       "      <td>0.000000</td>\n",
       "      <td>0.000000</td>\n",
       "      <td>0.0</td>\n",
       "      <td>...</td>\n",
       "      <td>0.177220</td>\n",
       "      <td>0.000000</td>\n",
       "      <td>0.000000</td>\n",
       "      <td>0.0</td>\n",
       "      <td>0.0</td>\n",
       "      <td>0.253285</td>\n",
       "      <td>0.0</td>\n",
       "      <td>0.0</td>\n",
       "      <td>0.000000</td>\n",
       "      <td>C#;Java;JavaScript;Python;TypeScript;Docker;Gi...</td>\n",
       "    </tr>\n",
       "    <tr>\n",
       "      <th>66622</th>\n",
       "      <td>0.264543</td>\n",
       "      <td>0.000000</td>\n",
       "      <td>0.000000</td>\n",
       "      <td>0.000000</td>\n",
       "      <td>0.0</td>\n",
       "      <td>0.000000</td>\n",
       "      <td>0.0</td>\n",
       "      <td>0.000000</td>\n",
       "      <td>0.346959</td>\n",
       "      <td>0.0</td>\n",
       "      <td>...</td>\n",
       "      <td>0.136299</td>\n",
       "      <td>0.264543</td>\n",
       "      <td>0.338904</td>\n",
       "      <td>0.0</td>\n",
       "      <td>0.0</td>\n",
       "      <td>0.000000</td>\n",
       "      <td>0.0</td>\n",
       "      <td>0.0</td>\n",
       "      <td>0.176699</td>\n",
       "      <td>C#;HTML/CSS;JavaScript;PowerShell;TypeScript;n...</td>\n",
       "    </tr>\n",
       "    <tr>\n",
       "      <th>46938</th>\n",
       "      <td>0.000000</td>\n",
       "      <td>0.000000</td>\n",
       "      <td>0.000000</td>\n",
       "      <td>0.000000</td>\n",
       "      <td>0.0</td>\n",
       "      <td>0.161508</td>\n",
       "      <td>0.0</td>\n",
       "      <td>0.193478</td>\n",
       "      <td>0.000000</td>\n",
       "      <td>0.0</td>\n",
       "      <td>...</td>\n",
       "      <td>0.173548</td>\n",
       "      <td>0.000000</td>\n",
       "      <td>0.000000</td>\n",
       "      <td>0.0</td>\n",
       "      <td>0.0</td>\n",
       "      <td>0.248038</td>\n",
       "      <td>0.0</td>\n",
       "      <td>0.0</td>\n",
       "      <td>0.000000</td>\n",
       "      <td>Bash/Shell;Go;HTML/CSS;Python;Rust;SQL;TypeScr...</td>\n",
       "    </tr>\n",
       "  </tbody>\n",
       "</table>\n",
       "<p>5 rows × 101 columns</p>\n",
       "</div>"
      ],
      "text/plain": [
       "              0         1         2         3    4         5    6         7  \\\n",
       "6576   0.000000  0.000000  0.558208  0.000000  0.0  0.000000  0.0  0.000000   \n",
       "43879  0.000000  0.000000  0.000000  0.000000  0.0  0.000000  0.0  0.000000   \n",
       "33989  0.000000  0.220537  0.000000  0.230411  0.0  0.000000  0.0  0.000000   \n",
       "66622  0.264543  0.000000  0.000000  0.000000  0.0  0.000000  0.0  0.000000   \n",
       "46938  0.000000  0.000000  0.000000  0.000000  0.0  0.161508  0.0  0.193478   \n",
       "\n",
       "              8    9  ...        91        92        93   94   95        96  \\\n",
       "6576   0.000000  0.0  ...  0.000000  0.000000  0.000000  0.0  0.0  0.000000   \n",
       "43879  0.000000  0.0  ...  0.208799  0.000000  0.000000  0.0  0.0  0.000000   \n",
       "33989  0.000000  0.0  ...  0.177220  0.000000  0.000000  0.0  0.0  0.253285   \n",
       "66622  0.346959  0.0  ...  0.136299  0.264543  0.338904  0.0  0.0  0.000000   \n",
       "46938  0.000000  0.0  ...  0.173548  0.000000  0.000000  0.0  0.0  0.248038   \n",
       "\n",
       "        97   98        99                                     HaveWorkedWith  \n",
       "6576   0.0  0.0  0.000000          Python;Rust;Ansible;Docker;Git;PostgreSQL  \n",
       "43879  0.0  0.0  0.270687  HTML/CSS;JavaScript;Kotlin;PHP;TypeScript;Dock...  \n",
       "33989  0.0  0.0  0.000000  C#;Java;JavaScript;Python;TypeScript;Docker;Gi...  \n",
       "66622  0.0  0.0  0.176699  C#;HTML/CSS;JavaScript;PowerShell;TypeScript;n...  \n",
       "46938  0.0  0.0  0.000000  Bash/Shell;Go;HTML/CSS;Python;Rust;SQL;TypeScr...  \n",
       "\n",
       "[5 rows x 101 columns]"
      ]
     },
     "execution_count": 17,
     "metadata": {},
     "output_type": "execute_result"
    }
   ],
   "source": [
    "X = pd.DataFrame(tf_X_vectorized)\n",
    "X['HaveWorkedWith'] = df[\"HaveWorkedWith\"].values\n",
    "y = df['Employed']\n",
    "X.sample(5)"
   ]
  },
  {
   "cell_type": "markdown",
   "id": "0880df4c",
   "metadata": {},
   "source": [
    "## 🪓 Splitting into train/test"
   ]
  },
  {
   "cell_type": "markdown",
   "id": "7f9c8893",
   "metadata": {},
   "source": [
    "Splitting train and test data. Train data takes 80% and Test 20%"
   ]
  },
  {
   "cell_type": "code",
   "execution_count": 18,
   "id": "d321d834",
   "metadata": {},
   "outputs": [
    {
     "name": "stdout",
     "output_type": "stream",
     "text": [
      "There are in total 73458 observations, of which 58766 are now in the train set, and 14692 in the test set.\n"
     ]
    }
   ],
   "source": [
    "X_train, X_test, y_train, y_test = train_test_split(X, y, test_size=0.2, random_state=80)\n",
    "print(\"There are in total\", len(X), \"observations, of which\", len(X_train), \"are now in the train set, and\", len(X_test), \"in the test set.\")"
   ]
  },
  {
   "cell_type": "code",
   "execution_count": 19,
   "id": "3513e989",
   "metadata": {},
   "outputs": [],
   "source": [
    "X_train = X_train.drop(['HaveWorkedWith'], axis=1)\n",
    "X_HaveWorkedWith_text = X_test['HaveWorkedWith']\n",
    "X_test = X_test.drop(['HaveWorkedWith'], axis=1)"
   ]
  },
  {
   "cell_type": "code",
   "execution_count": null,
   "id": "12b0289b",
   "metadata": {},
   "outputs": [],
   "source": []
  },
  {
   "cell_type": "markdown",
   "id": "9656d1a7",
   "metadata": {},
   "source": [
    "## Running the model with KNeighborsClassifier"
   ]
  },
  {
   "cell_type": "code",
   "execution_count": 20,
   "id": "be8ed318",
   "metadata": {},
   "outputs": [
    {
     "name": "stdout",
     "output_type": "stream",
     "text": [
      "Accuracy: 0.8601279607949904\n"
     ]
    }
   ],
   "source": [
    "model = KNeighborsClassifier()\n",
    "model.fit(X_train, y_train)\n",
    "score = model.score(X_test, y_test)\n",
    "\n",
    "print(\"Accuracy:\", score)"
   ]
  },
  {
   "cell_type": "markdown",
   "id": "56e798be",
   "metadata": {},
   "source": [
    "Using KNN with Tfid FVectorizer we are getting an accuracy of 86%. We can run our model on train and test data and compare their classification results and check if this performance is not an overfitting or underfitting.\n",
    "\n",
    "We can see a difference of 5% on training and test data accuracy, so we can say that there is a slight overfitting. Next we will perform hyperparameters tuning and see if the performance will improve."
   ]
  },
  {
   "cell_type": "code",
   "execution_count": 21,
   "id": "5fb1f0ca",
   "metadata": {
    "scrolled": true
   },
   "outputs": [
    {
     "name": "stdout",
     "output_type": "stream",
     "text": [
      "              precision    recall  f1-score   support\n",
      "\n",
      "           0       0.89      0.92      0.90     27163\n",
      "           1       0.93      0.91      0.92     31603\n",
      "\n",
      "    accuracy                           0.91     58766\n",
      "   macro avg       0.91      0.91      0.91     58766\n",
      "weighted avg       0.91      0.91      0.91     58766\n",
      "\n",
      "              precision    recall  f1-score   support\n",
      "\n",
      "           0       0.84      0.87      0.85      6905\n",
      "           1       0.88      0.86      0.87      7787\n",
      "\n",
      "    accuracy                           0.86     14692\n",
      "   macro avg       0.86      0.86      0.86     14692\n",
      "weighted avg       0.86      0.86      0.86     14692\n",
      "\n"
     ]
    }
   ],
   "source": [
    "pred = model.predict(X_train.values)\n",
    "report= classification_report(y_train,pred)\n",
    "print(report)\n",
    "\n",
    "pred = model.predict(X_test.values)\n",
    "report= classification_report(y_test,pred)\n",
    "print(report)"
   ]
  },
  {
   "cell_type": "markdown",
   "id": "054be515",
   "metadata": {},
   "source": [
    "In the above model we used default values of hyperparameters, for example n_neighbors (K) is 5 by default.\n",
    "\n",
    "Let's search an optimal K value which will improve our model with less error rate. We are going to run the KNeighborsClassifier model with K values in range 1 to 10 and visualize in a plot to see which K will produce minimal error rate."
   ]
  },
  {
   "cell_type": "code",
   "execution_count": 34,
   "id": "1726afae",
   "metadata": {},
   "outputs": [
    {
     "name": "stdout",
     "output_type": "stream",
     "text": [
      "Minimum error:  0.12945820854887014 at K = 9\n"
     ]
    },
    {
     "data": {
      "image/png": "[encoded data removed]",
      "text/plain": [
       "<Figure size 720x432 with 1 Axes>"
      ]
     },
     "metadata": {
      "needs_background": "light"
     },
     "output_type": "display_data"
    }
   ],
   "source": [
    "from sklearn import metrics\n",
    "acc=[]\n",
    "error_rate = []\n",
    "for i in range(1,10):\n",
    "    knn = KNeighborsClassifier(n_neighbors=i)\n",
    "    knn.fit(X_train,y_train)\n",
    "    pred_i = knn.predict(X_test)\n",
    "    error_rate.append(np.mean(pred_i != y_test))\n",
    "    acc.append(metrics.accuracy_score(y_test, pred_i))\n",
    "\n",
    "plt.figure(figsize=(10,6))\n",
    "plt.plot(range(1,10),error_rate,color='blue', linestyle='dashed', \n",
    "         marker='o',markerfacecolor='red', markersize=10)\n",
    "plt.title('Error Rate vs. K Value')\n",
    "plt.xlabel('K')\n",
    "plt.ylabel('Error Rate')\n",
    "print(\"Minimum error: \",min(error_rate),\"at K =\",error_rate.index(min(error_rate))+1)"
   ]
  },
  {
   "cell_type": "markdown",
   "id": "85250cae",
   "metadata": {},
   "source": [
    "We find that at K=9 the model produces the lowest error rate of 0.13, and we are validating this by plotting the accuracy against K values and got the best accuracy of 86,8% when K=9"
   ]
  },
  {
   "cell_type": "code",
   "execution_count": 35,
   "id": "73bec1ce",
   "metadata": {},
   "outputs": [
    {
     "name": "stdout",
     "output_type": "stream",
     "text": [
      "Maximum accuracy:  0.8705417914511299 at K = 9\n"
     ]
    },
    {
     "data": {
      "image/png": "[encoded data removed]",
      "text/plain": [
       "<Figure size 720x432 with 1 Axes>"
      ]
     },
     "metadata": {
      "needs_background": "light"
     },
     "output_type": "display_data"
    }
   ],
   "source": [
    "plt.figure(figsize=(10,6))\n",
    "plt.plot(range(1,10),acc,color='blue', linestyle='dashed', \n",
    "         marker='o',markerfacecolor='red', markersize=10)\n",
    "plt.title('accuracy vs. K Value')\n",
    "plt.xlabel('K')\n",
    "plt.ylabel('Accuracy')\n",
    "print(\"Maximum accuracy: \",max(acc),\"at K =\",acc.index(max(acc))+1)"
   ]
  },
  {
   "cell_type": "markdown",
   "id": "fd848968",
   "metadata": {},
   "source": [
    "Use the optimal K value of 9 and the model scored 86,8%"
   ]
  },
  {
   "cell_type": "code",
   "execution_count": 36,
   "id": "9f0624c3",
   "metadata": {},
   "outputs": [
    {
     "name": "stdout",
     "output_type": "stream",
     "text": [
      "Accuracy: 0.8705417914511299\n"
     ]
    }
   ],
   "source": [
    "from sklearn.neighbors import KNeighborsClassifier\n",
    "model = KNeighborsClassifier(n_neighbors=9)\n",
    "model.fit(X_train, y_train)\n",
    "score = model.score(X_test, y_test)\n",
    "\n",
    "print(\"Accuracy:\", score)"
   ]
  },
  {
   "cell_type": "markdown",
   "id": "b55a146f",
   "metadata": {},
   "source": [
    "We can now see that the model's performance slight improved by 0.08%"
   ]
  },
  {
   "cell_type": "code",
   "execution_count": 37,
   "id": "cc84da62",
   "metadata": {
    "scrolled": true
   },
   "outputs": [
    {
     "name": "stdout",
     "output_type": "stream",
     "text": [
      "              precision    recall  f1-score   support\n",
      "\n",
      "           0       0.88      0.90      0.89     27326\n",
      "           1       0.92      0.89      0.90     31440\n",
      "\n",
      "    accuracy                           0.90     58766\n",
      "   macro avg       0.90      0.90      0.90     58766\n",
      "weighted avg       0.90      0.90      0.90     58766\n",
      "\n",
      "              precision    recall  f1-score   support\n",
      "\n",
      "           0       0.84      0.88      0.86      6742\n",
      "           1       0.90      0.86      0.88      7950\n",
      "\n",
      "    accuracy                           0.87     14692\n",
      "   macro avg       0.87      0.87      0.87     14692\n",
      "weighted avg       0.87      0.87      0.87     14692\n",
      "\n"
     ]
    }
   ],
   "source": [
    "pred = model.predict(X_train.values)\n",
    "report= classification_report(y_train,pred)\n",
    "print(report)\n",
    "\n",
    "pred = model.predict(X_test.values)\n",
    "report= classification_report(y_test,pred)\n",
    "print(report)"
   ]
  },
  {
   "cell_type": "markdown",
   "id": "2c318fcc",
   "metadata": {},
   "source": [
    "## 🌲 Random Forest Classifier\n",
    "For my second model I have chosen a random forest the reason behind this is because it is a model that can handle non-linear relationships very well, and could capture complex relationships between features. It builds multiple deciscion trees and merges them to help improve the overall accuracy and predictions making it more stable."
   ]
  },
  {
   "cell_type": "markdown",
   "id": "9d1f46ff",
   "metadata": {},
   "source": [
    "In this step only the train set is used to fit the model, which in this case uses a Random forest Classifier algorithm for classification named sklearn.ensemble. Ref: RandomForestClassifier. (n.d.-b). Scikit-learn. https://scikitlearn.org/stable/modules/generated/sklearn.ensemble.RandomForestClassifier.html And after that the test set is used to calculate the model's accuracy, in other words how well it performs. Accuracy is a fraction where any value closer to 1 is considered better, and 1 itself (100% accurate) is usually impossible."
   ]
  },
  {
   "cell_type": "code",
   "execution_count": 38,
   "id": "1793fa06",
   "metadata": {},
   "outputs": [
    {
     "data": {
      "text/html": [
       "<div>\n",
       "<style scoped>\n",
       "    .dataframe tbody tr th:only-of-type {\n",
       "        vertical-align: middle;\n",
       "    }\n",
       "\n",
       "    .dataframe tbody tr th {\n",
       "        vertical-align: top;\n",
       "    }\n",
       "\n",
       "    .dataframe thead th {\n",
       "        text-align: right;\n",
       "    }\n",
       "</style>\n",
       "<table border=\"1\" class=\"dataframe\">\n",
       "  <thead>\n",
       "    <tr style=\"text-align: right;\">\n",
       "      <th></th>\n",
       "      <th>0</th>\n",
       "      <th>1</th>\n",
       "      <th>2</th>\n",
       "      <th>3</th>\n",
       "      <th>4</th>\n",
       "      <th>5</th>\n",
       "      <th>6</th>\n",
       "      <th>7</th>\n",
       "      <th>8</th>\n",
       "      <th>9</th>\n",
       "      <th>...</th>\n",
       "      <th>91</th>\n",
       "      <th>92</th>\n",
       "      <th>93</th>\n",
       "      <th>94</th>\n",
       "      <th>95</th>\n",
       "      <th>96</th>\n",
       "      <th>97</th>\n",
       "      <th>98</th>\n",
       "      <th>99</th>\n",
       "      <th>HaveWorkedWith</th>\n",
       "    </tr>\n",
       "  </thead>\n",
       "  <tbody>\n",
       "    <tr>\n",
       "      <th>17190</th>\n",
       "      <td>0.0</td>\n",
       "      <td>0.000000</td>\n",
       "      <td>0.0</td>\n",
       "      <td>0.000000</td>\n",
       "      <td>0.0</td>\n",
       "      <td>0.000000</td>\n",
       "      <td>0.000000</td>\n",
       "      <td>0.00000</td>\n",
       "      <td>0.0</td>\n",
       "      <td>0.0</td>\n",
       "      <td>...</td>\n",
       "      <td>0.000000</td>\n",
       "      <td>0.0</td>\n",
       "      <td>0.0</td>\n",
       "      <td>0.0</td>\n",
       "      <td>0.0</td>\n",
       "      <td>0.0</td>\n",
       "      <td>0.0</td>\n",
       "      <td>0.0</td>\n",
       "      <td>0.000000</td>\n",
       "      <td>Java;Git;jQuery;Firebase;MySQL;SQLite</td>\n",
       "    </tr>\n",
       "    <tr>\n",
       "      <th>27993</th>\n",
       "      <td>0.0</td>\n",
       "      <td>0.000000</td>\n",
       "      <td>0.0</td>\n",
       "      <td>0.000000</td>\n",
       "      <td>0.0</td>\n",
       "      <td>0.207781</td>\n",
       "      <td>0.271402</td>\n",
       "      <td>0.24891</td>\n",
       "      <td>0.0</td>\n",
       "      <td>0.0</td>\n",
       "      <td>...</td>\n",
       "      <td>0.000000</td>\n",
       "      <td>0.0</td>\n",
       "      <td>0.0</td>\n",
       "      <td>0.0</td>\n",
       "      <td>0.0</td>\n",
       "      <td>0.0</td>\n",
       "      <td>0.0</td>\n",
       "      <td>0.0</td>\n",
       "      <td>0.289448</td>\n",
       "      <td>Bash/Shell;C#;HTML/CSS;PowerShell;Docker;Git;Y...</td>\n",
       "    </tr>\n",
       "    <tr>\n",
       "      <th>47494</th>\n",
       "      <td>0.0</td>\n",
       "      <td>0.000000</td>\n",
       "      <td>0.0</td>\n",
       "      <td>0.000000</td>\n",
       "      <td>0.0</td>\n",
       "      <td>0.000000</td>\n",
       "      <td>0.177515</td>\n",
       "      <td>0.00000</td>\n",
       "      <td>0.0</td>\n",
       "      <td>0.0</td>\n",
       "      <td>...</td>\n",
       "      <td>0.000000</td>\n",
       "      <td>0.0</td>\n",
       "      <td>0.0</td>\n",
       "      <td>0.0</td>\n",
       "      <td>0.0</td>\n",
       "      <td>0.0</td>\n",
       "      <td>0.0</td>\n",
       "      <td>0.0</td>\n",
       "      <td>0.000000</td>\n",
       "      <td>C;C++;HTML/CSS;Java;JavaScript;Python;Ruby;npm...</td>\n",
       "    </tr>\n",
       "    <tr>\n",
       "      <th>27141</th>\n",
       "      <td>0.0</td>\n",
       "      <td>0.448736</td>\n",
       "      <td>0.0</td>\n",
       "      <td>0.234413</td>\n",
       "      <td>0.0</td>\n",
       "      <td>0.000000</td>\n",
       "      <td>0.000000</td>\n",
       "      <td>0.00000</td>\n",
       "      <td>0.0</td>\n",
       "      <td>0.0</td>\n",
       "      <td>...</td>\n",
       "      <td>0.180298</td>\n",
       "      <td>0.0</td>\n",
       "      <td>0.0</td>\n",
       "      <td>0.0</td>\n",
       "      <td>0.0</td>\n",
       "      <td>0.0</td>\n",
       "      <td>0.0</td>\n",
       "      <td>0.0</td>\n",
       "      <td>0.000000</td>\n",
       "      <td>C#;HTML/CSS;JavaScript;Node.js;PHP;PowerShell;...</td>\n",
       "    </tr>\n",
       "    <tr>\n",
       "      <th>66658</th>\n",
       "      <td>0.0</td>\n",
       "      <td>0.000000</td>\n",
       "      <td>0.0</td>\n",
       "      <td>0.000000</td>\n",
       "      <td>0.0</td>\n",
       "      <td>0.000000</td>\n",
       "      <td>0.278383</td>\n",
       "      <td>0.00000</td>\n",
       "      <td>0.0</td>\n",
       "      <td>0.0</td>\n",
       "      <td>...</td>\n",
       "      <td>0.229013</td>\n",
       "      <td>0.0</td>\n",
       "      <td>0.0</td>\n",
       "      <td>0.0</td>\n",
       "      <td>0.0</td>\n",
       "      <td>0.0</td>\n",
       "      <td>0.0</td>\n",
       "      <td>0.0</td>\n",
       "      <td>0.000000</td>\n",
       "      <td>HTML/CSS;Java;JavaScript;Python;SQL;TypeScript...</td>\n",
       "    </tr>\n",
       "  </tbody>\n",
       "</table>\n",
       "<p>5 rows × 101 columns</p>\n",
       "</div>"
      ],
      "text/plain": [
       "         0         1    2         3    4         5         6        7    8  \\\n",
       "17190  0.0  0.000000  0.0  0.000000  0.0  0.000000  0.000000  0.00000  0.0   \n",
       "27993  0.0  0.000000  0.0  0.000000  0.0  0.207781  0.271402  0.24891  0.0   \n",
       "47494  0.0  0.000000  0.0  0.000000  0.0  0.000000  0.177515  0.00000  0.0   \n",
       "27141  0.0  0.448736  0.0  0.234413  0.0  0.000000  0.000000  0.00000  0.0   \n",
       "66658  0.0  0.000000  0.0  0.000000  0.0  0.000000  0.278383  0.00000  0.0   \n",
       "\n",
       "         9  ...        91   92   93   94   95   96   97   98        99  \\\n",
       "17190  0.0  ...  0.000000  0.0  0.0  0.0  0.0  0.0  0.0  0.0  0.000000   \n",
       "27993  0.0  ...  0.000000  0.0  0.0  0.0  0.0  0.0  0.0  0.0  0.289448   \n",
       "47494  0.0  ...  0.000000  0.0  0.0  0.0  0.0  0.0  0.0  0.0  0.000000   \n",
       "27141  0.0  ...  0.180298  0.0  0.0  0.0  0.0  0.0  0.0  0.0  0.000000   \n",
       "66658  0.0  ...  0.229013  0.0  0.0  0.0  0.0  0.0  0.0  0.0  0.000000   \n",
       "\n",
       "                                          HaveWorkedWith  \n",
       "17190              Java;Git;jQuery;Firebase;MySQL;SQLite  \n",
       "27993  Bash/Shell;C#;HTML/CSS;PowerShell;Docker;Git;Y...  \n",
       "47494  C;C++;HTML/CSS;Java;JavaScript;Python;Ruby;npm...  \n",
       "27141  C#;HTML/CSS;JavaScript;Node.js;PHP;PowerShell;...  \n",
       "66658  HTML/CSS;Java;JavaScript;Python;SQL;TypeScript...  \n",
       "\n",
       "[5 rows x 101 columns]"
      ]
     },
     "execution_count": 38,
     "metadata": {},
     "output_type": "execute_result"
    }
   ],
   "source": [
    "X = pd.DataFrame(tf_X_vectorized)\n",
    "X['HaveWorkedWith'] = df[\"HaveWorkedWith\"].values\n",
    "y = df['Employed']\n",
    "X.sample(5)"
   ]
  },
  {
   "cell_type": "code",
   "execution_count": 39,
   "id": "4a91ec4b",
   "metadata": {},
   "outputs": [
    {
     "name": "stdout",
     "output_type": "stream",
     "text": [
      "There are in total 73458 observations, of which 58766 are now in the train set, and 14692 in the test set.\n"
     ]
    }
   ],
   "source": [
    "\n",
    "## Split the dataset into training and testing sets\n",
    "X_train, X_test, y_train, y_test = train_test_split(X, y, test_size=0.2, random_state=42)\n",
    "print(\"There are in total\", len(X), \"observations, of which\", len(X_train), \"are now in the train set, and\", len(X_test), \"in the test set.\")"
   ]
  },
  {
   "cell_type": "code",
   "execution_count": 59,
   "id": "c7ac71f4",
   "metadata": {},
   "outputs": [
    {
     "ename": "KeyError",
     "evalue": "\"['HaveWorkedWith'] not found in axis\"",
     "output_type": "error",
     "traceback": [
      "\u001b[1;31m---------------------------------------------------------------------------\u001b[0m",
      "\u001b[1;31mKeyError\u001b[0m                                  Traceback (most recent call last)",
      "\u001b[1;32m<ipython-input-59-0efc22047040>\u001b[0m in \u001b[0;36m<module>\u001b[1;34m\u001b[0m\n\u001b[1;32m----> 1\u001b[1;33m \u001b[0mX_train\u001b[0m \u001b[1;33m=\u001b[0m \u001b[0mX_train\u001b[0m\u001b[1;33m.\u001b[0m\u001b[0mdrop\u001b[0m\u001b[1;33m(\u001b[0m\u001b[1;33m[\u001b[0m\u001b[1;34m'HaveWorkedWith'\u001b[0m\u001b[1;33m]\u001b[0m\u001b[1;33m,\u001b[0m \u001b[0maxis\u001b[0m\u001b[1;33m=\u001b[0m\u001b[1;36m1\u001b[0m\u001b[1;33m)\u001b[0m\u001b[1;33m\u001b[0m\u001b[1;33m\u001b[0m\u001b[0m\n\u001b[0m\u001b[0;32m      2\u001b[0m \u001b[0mX_HaveWorkedWith_text\u001b[0m \u001b[1;33m=\u001b[0m \u001b[0mX_test\u001b[0m\u001b[1;33m[\u001b[0m\u001b[1;34m'HaveWorkedWith'\u001b[0m\u001b[1;33m]\u001b[0m\u001b[1;33m\u001b[0m\u001b[1;33m\u001b[0m\u001b[0m\n\u001b[0;32m      3\u001b[0m \u001b[0mX_test\u001b[0m \u001b[1;33m=\u001b[0m \u001b[0mX_test\u001b[0m\u001b[1;33m.\u001b[0m\u001b[0mdrop\u001b[0m\u001b[1;33m(\u001b[0m\u001b[1;33m[\u001b[0m\u001b[1;34m'HaveWorkedWith'\u001b[0m\u001b[1;33m]\u001b[0m\u001b[1;33m,\u001b[0m \u001b[0maxis\u001b[0m\u001b[1;33m=\u001b[0m\u001b[1;36m1\u001b[0m\u001b[1;33m)\u001b[0m\u001b[1;33m\u001b[0m\u001b[1;33m\u001b[0m\u001b[0m\n",
      "\u001b[1;32m~\\anaconda3\\lib\\site-packages\\pandas\\core\\frame.py\u001b[0m in \u001b[0;36mdrop\u001b[1;34m(self, labels, axis, index, columns, level, inplace, errors)\u001b[0m\n\u001b[0;32m   4306\u001b[0m                 \u001b[0mweight\u001b[0m  \u001b[1;36m1.0\u001b[0m     \u001b[1;36m0.8\u001b[0m\u001b[1;33m\u001b[0m\u001b[1;33m\u001b[0m\u001b[0m\n\u001b[0;32m   4307\u001b[0m         \"\"\"\n\u001b[1;32m-> 4308\u001b[1;33m         return super().drop(\n\u001b[0m\u001b[0;32m   4309\u001b[0m             \u001b[0mlabels\u001b[0m\u001b[1;33m=\u001b[0m\u001b[0mlabels\u001b[0m\u001b[1;33m,\u001b[0m\u001b[1;33m\u001b[0m\u001b[1;33m\u001b[0m\u001b[0m\n\u001b[0;32m   4310\u001b[0m             \u001b[0maxis\u001b[0m\u001b[1;33m=\u001b[0m\u001b[0maxis\u001b[0m\u001b[1;33m,\u001b[0m\u001b[1;33m\u001b[0m\u001b[1;33m\u001b[0m\u001b[0m\n",
      "\u001b[1;32m~\\anaconda3\\lib\\site-packages\\pandas\\core\\generic.py\u001b[0m in \u001b[0;36mdrop\u001b[1;34m(self, labels, axis, index, columns, level, inplace, errors)\u001b[0m\n\u001b[0;32m   4151\u001b[0m         \u001b[1;32mfor\u001b[0m \u001b[0maxis\u001b[0m\u001b[1;33m,\u001b[0m \u001b[0mlabels\u001b[0m \u001b[1;32min\u001b[0m \u001b[0maxes\u001b[0m\u001b[1;33m.\u001b[0m\u001b[0mitems\u001b[0m\u001b[1;33m(\u001b[0m\u001b[1;33m)\u001b[0m\u001b[1;33m:\u001b[0m\u001b[1;33m\u001b[0m\u001b[1;33m\u001b[0m\u001b[0m\n\u001b[0;32m   4152\u001b[0m             \u001b[1;32mif\u001b[0m \u001b[0mlabels\u001b[0m \u001b[1;32mis\u001b[0m \u001b[1;32mnot\u001b[0m \u001b[1;32mNone\u001b[0m\u001b[1;33m:\u001b[0m\u001b[1;33m\u001b[0m\u001b[1;33m\u001b[0m\u001b[0m\n\u001b[1;32m-> 4153\u001b[1;33m                 \u001b[0mobj\u001b[0m \u001b[1;33m=\u001b[0m \u001b[0mobj\u001b[0m\u001b[1;33m.\u001b[0m\u001b[0m_drop_axis\u001b[0m\u001b[1;33m(\u001b[0m\u001b[0mlabels\u001b[0m\u001b[1;33m,\u001b[0m \u001b[0maxis\u001b[0m\u001b[1;33m,\u001b[0m \u001b[0mlevel\u001b[0m\u001b[1;33m=\u001b[0m\u001b[0mlevel\u001b[0m\u001b[1;33m,\u001b[0m \u001b[0merrors\u001b[0m\u001b[1;33m=\u001b[0m\u001b[0merrors\u001b[0m\u001b[1;33m)\u001b[0m\u001b[1;33m\u001b[0m\u001b[1;33m\u001b[0m\u001b[0m\n\u001b[0m\u001b[0;32m   4154\u001b[0m \u001b[1;33m\u001b[0m\u001b[0m\n\u001b[0;32m   4155\u001b[0m         \u001b[1;32mif\u001b[0m \u001b[0minplace\u001b[0m\u001b[1;33m:\u001b[0m\u001b[1;33m\u001b[0m\u001b[1;33m\u001b[0m\u001b[0m\n",
      "\u001b[1;32m~\\anaconda3\\lib\\site-packages\\pandas\\core\\generic.py\u001b[0m in \u001b[0;36m_drop_axis\u001b[1;34m(self, labels, axis, level, errors)\u001b[0m\n\u001b[0;32m   4186\u001b[0m                 \u001b[0mnew_axis\u001b[0m \u001b[1;33m=\u001b[0m \u001b[0maxis\u001b[0m\u001b[1;33m.\u001b[0m\u001b[0mdrop\u001b[0m\u001b[1;33m(\u001b[0m\u001b[0mlabels\u001b[0m\u001b[1;33m,\u001b[0m \u001b[0mlevel\u001b[0m\u001b[1;33m=\u001b[0m\u001b[0mlevel\u001b[0m\u001b[1;33m,\u001b[0m \u001b[0merrors\u001b[0m\u001b[1;33m=\u001b[0m\u001b[0merrors\u001b[0m\u001b[1;33m)\u001b[0m\u001b[1;33m\u001b[0m\u001b[1;33m\u001b[0m\u001b[0m\n\u001b[0;32m   4187\u001b[0m             \u001b[1;32melse\u001b[0m\u001b[1;33m:\u001b[0m\u001b[1;33m\u001b[0m\u001b[1;33m\u001b[0m\u001b[0m\n\u001b[1;32m-> 4188\u001b[1;33m                 \u001b[0mnew_axis\u001b[0m \u001b[1;33m=\u001b[0m \u001b[0maxis\u001b[0m\u001b[1;33m.\u001b[0m\u001b[0mdrop\u001b[0m\u001b[1;33m(\u001b[0m\u001b[0mlabels\u001b[0m\u001b[1;33m,\u001b[0m \u001b[0merrors\u001b[0m\u001b[1;33m=\u001b[0m\u001b[0merrors\u001b[0m\u001b[1;33m)\u001b[0m\u001b[1;33m\u001b[0m\u001b[1;33m\u001b[0m\u001b[0m\n\u001b[0m\u001b[0;32m   4189\u001b[0m             \u001b[0mresult\u001b[0m \u001b[1;33m=\u001b[0m \u001b[0mself\u001b[0m\u001b[1;33m.\u001b[0m\u001b[0mreindex\u001b[0m\u001b[1;33m(\u001b[0m\u001b[1;33m**\u001b[0m\u001b[1;33m{\u001b[0m\u001b[0maxis_name\u001b[0m\u001b[1;33m:\u001b[0m \u001b[0mnew_axis\u001b[0m\u001b[1;33m}\u001b[0m\u001b[1;33m)\u001b[0m\u001b[1;33m\u001b[0m\u001b[1;33m\u001b[0m\u001b[0m\n\u001b[0;32m   4190\u001b[0m \u001b[1;33m\u001b[0m\u001b[0m\n",
      "\u001b[1;32m~\\anaconda3\\lib\\site-packages\\pandas\\core\\indexes\\base.py\u001b[0m in \u001b[0;36mdrop\u001b[1;34m(self, labels, errors)\u001b[0m\n\u001b[0;32m   5589\u001b[0m         \u001b[1;32mif\u001b[0m \u001b[0mmask\u001b[0m\u001b[1;33m.\u001b[0m\u001b[0many\u001b[0m\u001b[1;33m(\u001b[0m\u001b[1;33m)\u001b[0m\u001b[1;33m:\u001b[0m\u001b[1;33m\u001b[0m\u001b[1;33m\u001b[0m\u001b[0m\n\u001b[0;32m   5590\u001b[0m             \u001b[1;32mif\u001b[0m \u001b[0merrors\u001b[0m \u001b[1;33m!=\u001b[0m \u001b[1;34m\"ignore\"\u001b[0m\u001b[1;33m:\u001b[0m\u001b[1;33m\u001b[0m\u001b[1;33m\u001b[0m\u001b[0m\n\u001b[1;32m-> 5591\u001b[1;33m                 \u001b[1;32mraise\u001b[0m \u001b[0mKeyError\u001b[0m\u001b[1;33m(\u001b[0m\u001b[1;34mf\"{labels[mask]} not found in axis\"\u001b[0m\u001b[1;33m)\u001b[0m\u001b[1;33m\u001b[0m\u001b[1;33m\u001b[0m\u001b[0m\n\u001b[0m\u001b[0;32m   5592\u001b[0m             \u001b[0mindexer\u001b[0m \u001b[1;33m=\u001b[0m \u001b[0mindexer\u001b[0m\u001b[1;33m[\u001b[0m\u001b[1;33m~\u001b[0m\u001b[0mmask\u001b[0m\u001b[1;33m]\u001b[0m\u001b[1;33m\u001b[0m\u001b[1;33m\u001b[0m\u001b[0m\n\u001b[0;32m   5593\u001b[0m         \u001b[1;32mreturn\u001b[0m \u001b[0mself\u001b[0m\u001b[1;33m.\u001b[0m\u001b[0mdelete\u001b[0m\u001b[1;33m(\u001b[0m\u001b[0mindexer\u001b[0m\u001b[1;33m)\u001b[0m\u001b[1;33m\u001b[0m\u001b[1;33m\u001b[0m\u001b[0m\n",
      "\u001b[1;31mKeyError\u001b[0m: \"['HaveWorkedWith'] not found in axis\""
     ]
    }
   ],
   "source": [
    "X_train = X_train.drop(['HaveWorkedWith'], axis=1)\n",
    "X_HaveWorkedWith_text = X_test['HaveWorkedWith']\n",
    "X_test = X_test.drop(['HaveWorkedWith'], axis=1)"
   ]
  },
  {
   "cell_type": "code",
   "execution_count": 48,
   "id": "7cf8303c",
   "metadata": {},
   "outputs": [],
   "source": [
    "\n",
    "classifier=RandomForestClassifier().fit(X_train,y_train)\n",
    "y_pred=classifier.predict(X_test)"
   ]
  },
  {
   "cell_type": "code",
   "execution_count": 49,
   "id": "b2714bf5",
   "metadata": {},
   "outputs": [
    {
     "data": {
      "text/plain": [
       "0.9638578818404574"
      ]
     },
     "execution_count": 49,
     "metadata": {},
     "output_type": "execute_result"
    }
   ],
   "source": [
    "accuracy_score(y_test,y_pred)"
   ]
  },
  {
   "cell_type": "code",
   "execution_count": 50,
   "id": "157858c1",
   "metadata": {},
   "outputs": [
    {
     "data": {
      "text/plain": [
       "array([[6542,  200],\n",
       "       [ 331, 7619]], dtype=int64)"
      ]
     },
     "execution_count": 50,
     "metadata": {},
     "output_type": "execute_result"
    }
   ],
   "source": [
    "confusion_matrix(y_test,y_pred)"
   ]
  },
  {
   "cell_type": "markdown",
   "id": "452f285d",
   "metadata": {},
   "source": [
    "### Evaluation <a name=\"evaluation\"></a>"
   ]
  },
  {
   "cell_type": "code",
   "execution_count": 51,
   "id": "c342ab61",
   "metadata": {},
   "outputs": [
    {
     "name": "stdout",
     "output_type": "stream",
     "text": [
      "              precision    recall  f1-score   support\n",
      "\n",
      "           0       0.95      0.97      0.96      6742\n",
      "           1       0.97      0.96      0.97      7950\n",
      "\n",
      "    accuracy                           0.96     14692\n",
      "   macro avg       0.96      0.96      0.96     14692\n",
      "weighted avg       0.96      0.96      0.96     14692\n",
      "\n"
     ]
    }
   ],
   "source": [
    "print(classification_report(y_test,y_pred))"
   ]
  },
  {
   "cell_type": "code",
   "execution_count": 52,
   "id": "a7c74404",
   "metadata": {},
   "outputs": [
    {
     "name": "stdout",
     "output_type": "stream",
     "text": [
      "Model 1 Accuracy: 0.8633950449224067\n",
      "Model 2 Accuracy: 0.9630411108086033\n"
     ]
    }
   ],
   "source": [
    "# Comparing two models\n",
    "model1 = KNeighborsClassifier()\n",
    "model2 = RandomForestClassifier(random_state=42)\n",
    "\n",
    "model1.fit(X_train, y_train)\n",
    "model2.fit(X_train, y_train)\n",
    "\n",
    "y_pred1 = model1.predict(X_test)\n",
    "y_pred2 = model2.predict(X_test)\n",
    "\n",
    "print(\"Model 1 Accuracy:\", accuracy_score(y_test, y_pred1))\n",
    "print(\"Model 2 Accuracy:\", accuracy_score(y_test, y_pred2))\n"
   ]
  },
  {
   "cell_type": "markdown",
   "id": "ac4d81be",
   "metadata": {},
   "source": [
    "Looking at the accuracy scores, we can see that the Random Forest model performs very well compared to the KNN model, achieving a 96% accuracy. The reason for this performance could be that Random Forests reduce overfitting by achieving a balance between bias and variance. KNN can overfit with a small number of neighbors or underfit with a large number.\n",
    "\n"
   ]
  },
  {
   "cell_type": "markdown",
   "id": "b2c12ada",
   "metadata": {},
   "source": [
    "### Conclusion <a name=\"conclusion\"></a>"
   ]
  },
  {
   "cell_type": "code",
   "execution_count": null,
   "id": "dff333aa",
   "metadata": {},
   "outputs": [],
   "source": []
  }
 ],
 "metadata": {
  "kernelspec": {
   "display_name": "Python 3",
   "language": "python",
   "name": "python3"
  },
  "language_info": {
   "codemirror_mode": {
    "name": "ipython",
    "version": 3
   },
   "file_extension": ".py",
   "mimetype": "text/x-python",
   "name": "python",
   "nbconvert_exporter": "python",
   "pygments_lexer": "ipython3",
   "version": "3.8.8"
  }
 },
 "nbformat": 4,
 "nbformat_minor": 5
}
